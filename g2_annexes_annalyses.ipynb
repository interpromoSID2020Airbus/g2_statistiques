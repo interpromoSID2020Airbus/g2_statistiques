{
 "cells": [
  {
   "cell_type": "markdown",
   "metadata": {},
   "source": [
    "<h1> Groupe 2 - Statistics  \n",
    "\n",
    "> Annexe Notebook\n",
    "\n",
    "<span class=\"tocSkip\"></span>\n",
    "\n",
    "> *Authors :  \n",
    "ANDRIEU Anaïs  \n",
    "CHALOGNE Damien    \n",
    "KRUMEICH Laetitia   \n",
    "LEROYER Corentin  \n",
    "MARTINEAU Enzo  \n",
    "MIROUSE Sylvaine    \n",
    "OLLIVIER Cassandre   \n",
    "PACE Marine*\n",
    "\n",
    "</h1>"
   ]
  },
  {
   "cell_type": "markdown",
   "metadata": {
    "heading_collapsed": true
   },
   "source": [
    "# Introduction"
   ]
  },
  {
   "cell_type": "markdown",
   "metadata": {
    "hidden": true
   },
   "source": [
    "This notebook includes some additional analyses carried out during the project:\n",
    "<p>\n",
    "    <li>Several complementary PCA to those presented in the results</li>\n",
    "    <li>An analyse of the distribution of words following the dataset to support some of the hypotheses of the text group</li>\n",
    "    <li>An analysis of the documents essential to start the correlation work</li>   \n",
    "</p>"
   ]
  },
  {
   "cell_type": "markdown",
   "metadata": {
    "heading_collapsed": true,
    "hidden": true
   },
   "source": [
    "## Highlight"
   ]
  },
  {
   "cell_type": "markdown",
   "metadata": {
    "hidden": true
   },
   "source": [
    "The analysis highlighted in this notebook is the analysis of similarities in the distribution of words in corpora.   \n",
    "This analysis is on annexes because it is not part of the objectives of our group but it is very interesting and represents an essential work when one wishes to generalize an algorithm to several different data sources."
   ]
  },
  {
   "cell_type": "markdown",
   "metadata": {
    "heading_collapsed": true
   },
   "source": [
    "# Environment"
   ]
  },
  {
   "cell_type": "markdown",
   "metadata": {
    "heading_collapsed": true,
    "hidden": true
   },
   "source": [
    "## Libraries"
   ]
  },
  {
   "cell_type": "code",
   "execution_count": 1,
   "metadata": {
    "ExecuteTime": {
     "end_time": "2020-01-18T15:08:09.809236Z",
     "start_time": "2020-01-18T15:08:08.961037Z"
    },
    "hidden": true
   },
   "outputs": [],
   "source": [
    "import numpy as np\n",
    "import pandas as pd\n",
    "from sklearn.decomposition import PCA\n",
    "from sklearn import preprocessing\n",
    "from matplotlib import pyplot as plt\n",
    "from sklearn.preprocessing import StandardScaler\n",
    "import scipy.stats\n",
    "import seaborn as sns"
   ]
  },
  {
   "cell_type": "markdown",
   "metadata": {
    "heading_collapsed": true,
    "hidden": true
   },
   "source": [
    "## Data loading"
   ]
  },
  {
   "cell_type": "code",
   "execution_count": 2,
   "metadata": {
    "ExecuteTime": {
     "end_time": "2020-01-18T15:08:12.097468Z",
     "start_time": "2020-01-18T15:08:12.095251Z"
    },
    "hidden": true
   },
   "outputs": [],
   "source": [
    "workpath = \"/home/ddm2018-1/Documents/sauvegarde_ordi-fac_12_19/M2/Projet_Inter_Promo/Interpromo2020/Interpromo2020/AllData/\""
   ]
  },
  {
   "cell_type": "code",
   "execution_count": 4,
   "metadata": {
    "ExecuteTime": {
     "end_time": "2020-01-15T08:18:56.022483Z",
     "start_time": "2020-01-15T08:18:54.219621Z"
    },
    "hidden": true
   },
   "outputs": [
    {
     "name": "stderr",
     "output_type": "stream",
     "text": [
      "/home/ddm2018-1/anaconda3/lib/python3.7/site-packages/IPython/core/interactiveshell.py:2785: DtypeWarning: Columns (3,4,5,6,7,8,9,10,11,12,13,14,28,29,40,41,42,43) have mixed types. Specify dtype option on import or set low_memory=False.\n",
      "  interactivity=interactivity, compiler=compiler, result=result)\n"
     ]
    }
   ],
   "source": [
    "all_data_v2 = pd.read_csv(workpath+'ALL_DATA_V2.csv')"
   ]
  },
  {
   "cell_type": "code",
   "execution_count": null,
   "metadata": {
    "hidden": true
   },
   "outputs": [],
   "source": [
    "all_data_annotate = pd.read_csv(workpath+'ALL_DATA_ANNOTATE.csv', sep = ',')"
   ]
  },
  {
   "cell_type": "code",
   "execution_count": 4,
   "metadata": {
    "ExecuteTime": {
     "end_time": "2020-01-18T15:08:37.672884Z",
     "start_time": "2020-01-18T15:08:36.183754Z"
    },
    "hidden": true
   },
   "outputs": [
    {
     "name": "stderr",
     "output_type": "stream",
     "text": [
      "/home/ddm2018-1/anaconda3/lib/python3.7/site-packages/IPython/core/interactiveshell.py:2785: DtypeWarning: Columns (2,3,4,5,6,7,8,9,10,11,12,13,27,28,36,37,39,40,41) have mixed types. Specify dtype option on import or set low_memory=False.\n",
      "  interactivity=interactivity, compiler=compiler, result=result)\n"
     ]
    }
   ],
   "source": [
    "all_data = pd.read_csv(workpath+'ALL_DATA.csv', sep = ',')"
   ]
  },
  {
   "cell_type": "code",
   "execution_count": 83,
   "metadata": {
    "ExecuteTime": {
     "end_time": "2020-01-15T12:42:32.899403Z",
     "start_time": "2020-01-15T12:42:20.048732Z"
    },
    "hidden": true
   },
   "outputs": [],
   "source": [
    "# DataFrame of data\n",
    "tf_annotate = pd.read_csv(workpath + \"g4_tf_ALL_DATA_ANNOTATE.csv\", encoding='utf8',\n",
    "                          header=0, error_bad_lines=False, sep=',')\n",
    "tf_others_annotate = pd.read_csv(workpath + \"g4_tf_OTHERS_DATA_ANNOTATE.csv\", encoding='utf8',\n",
    "                                 header=0, error_bad_lines=False, sep=',')\n",
    "tf_twitter = pd.read_csv(workpath + \"g4_tf_TWITTER.csv\", encoding='utf8',\n",
    "                         header=0, error_bad_lines=False, sep=',')"
   ]
  },
  {
   "cell_type": "markdown",
   "metadata": {
    "heading_collapsed": true
   },
   "source": [
    "#  Principal component analysies"
   ]
  },
  {
   "cell_type": "markdown",
   "metadata": {
    "heading_collapsed": true,
    "hidden": true
   },
   "source": [
    "## PCA on rates by type of travellers"
   ]
  },
  {
   "cell_type": "markdown",
   "metadata": {
    "heading_collapsed": true,
    "hidden": true
   },
   "source": [
    "###  Preprocessing"
   ]
  },
  {
   "cell_type": "code",
   "execution_count": null,
   "metadata": {
    "hidden": true
   },
   "outputs": [],
   "source": [
    "data_src1 = all_data[all_data['Data_Source'] == 'Airline Quality Airline']"
   ]
  },
  {
   "cell_type": "code",
   "execution_count": 6,
   "metadata": {
    "ExecuteTime": {
     "end_time": "2020-01-18T15:11:59.577007Z",
     "start_time": "2020-01-18T15:11:59.563924Z"
    },
    "hidden": true
   },
   "outputs": [
    {
     "data": {
      "text/plain": [
       "array(['Solo Leisure', 'Couple Leisure', 'Business', 'Family Leisure',\n",
       "       nan], dtype=object)"
      ]
     },
     "execution_count": 6,
     "metadata": {},
     "output_type": "execute_result"
    }
   ],
   "source": [
    "name = data_src1['Type_Of_Traveller']\n",
    "linesName = name.unique()\n",
    "linesName"
   ]
  },
  {
   "cell_type": "code",
   "execution_count": 7,
   "metadata": {
    "ExecuteTime": {
     "end_time": "2020-01-18T15:12:21.763210Z",
     "start_time": "2020-01-18T15:12:21.760400Z"
    },
    "hidden": true
   },
   "outputs": [
    {
     "data": {
      "text/plain": [
       "array(['Solo Leisure', 'Couple Leisure', 'Business', 'Family Leisure'],\n",
       "      dtype=object)"
      ]
     },
     "execution_count": 7,
     "metadata": {},
     "output_type": "execute_result"
    }
   ],
   "source": [
    "linesName = np.delete(linesName, 4)\n",
    "linesName"
   ]
  },
  {
   "cell_type": "code",
   "execution_count": 8,
   "metadata": {
    "ExecuteTime": {
     "end_time": "2020-01-18T15:12:33.063375Z",
     "start_time": "2020-01-18T15:12:32.924654Z"
    },
    "hidden": true
   },
   "outputs": [
    {
     "data": {
      "text/html": [
       "<div>\n",
       "<style scoped>\n",
       "    .dataframe tbody tr th:only-of-type {\n",
       "        vertical-align: middle;\n",
       "    }\n",
       "\n",
       "    .dataframe tbody tr th {\n",
       "        vertical-align: top;\n",
       "    }\n",
       "\n",
       "    .dataframe thead th {\n",
       "        text-align: right;\n",
       "    }\n",
       "</style>\n",
       "<table border=\"1\" class=\"dataframe\">\n",
       "  <thead>\n",
       "    <tr style=\"text-align: right;\">\n",
       "      <th></th>\n",
       "      <th>Cabin_Staff_Service</th>\n",
       "      <th>Lounge_Staff_Service</th>\n",
       "      <th>Bar_And_Beverages</th>\n",
       "      <th>Food_And_Beverages</th>\n",
       "      <th>Ground_Service</th>\n",
       "      <th>Catering</th>\n",
       "      <th>Cleanliness</th>\n",
       "      <th>Lounge_Comfort</th>\n",
       "      <th>Aisle_Space</th>\n",
       "      <th>Wifi_And_Connectivity</th>\n",
       "      <th>...</th>\n",
       "      <th>Seat_Comfort</th>\n",
       "      <th>Seat_Legroom</th>\n",
       "      <th>Seat_Storage</th>\n",
       "      <th>Seat_Recline</th>\n",
       "      <th>Seat_Width</th>\n",
       "      <th>Washrooms</th>\n",
       "      <th>Value_For_Money</th>\n",
       "      <th>Overall_Customer_Rating</th>\n",
       "      <th>Overall_Service_Rating</th>\n",
       "      <th>Overall_Airline_Rating</th>\n",
       "    </tr>\n",
       "    <tr>\n",
       "      <th>Type_Of_Traveller</th>\n",
       "      <th></th>\n",
       "      <th></th>\n",
       "      <th></th>\n",
       "      <th></th>\n",
       "      <th></th>\n",
       "      <th></th>\n",
       "      <th></th>\n",
       "      <th></th>\n",
       "      <th></th>\n",
       "      <th></th>\n",
       "      <th></th>\n",
       "      <th></th>\n",
       "      <th></th>\n",
       "      <th></th>\n",
       "      <th></th>\n",
       "      <th></th>\n",
       "      <th></th>\n",
       "      <th></th>\n",
       "      <th></th>\n",
       "      <th></th>\n",
       "      <th></th>\n",
       "    </tr>\n",
       "  </thead>\n",
       "  <tbody>\n",
       "    <tr>\n",
       "      <th>Business</th>\n",
       "      <td>9858</td>\n",
       "      <td>0</td>\n",
       "      <td>0</td>\n",
       "      <td>8121</td>\n",
       "      <td>10057</td>\n",
       "      <td>0</td>\n",
       "      <td>0</td>\n",
       "      <td>0</td>\n",
       "      <td>0</td>\n",
       "      <td>3088</td>\n",
       "      <td>...</td>\n",
       "      <td>9873</td>\n",
       "      <td>0</td>\n",
       "      <td>0</td>\n",
       "      <td>0</td>\n",
       "      <td>0</td>\n",
       "      <td>0</td>\n",
       "      <td>10144</td>\n",
       "      <td>10146</td>\n",
       "      <td>0</td>\n",
       "      <td>0</td>\n",
       "    </tr>\n",
       "    <tr>\n",
       "      <th>Couple Leisure</th>\n",
       "      <td>15135</td>\n",
       "      <td>0</td>\n",
       "      <td>0</td>\n",
       "      <td>11801</td>\n",
       "      <td>15495</td>\n",
       "      <td>0</td>\n",
       "      <td>0</td>\n",
       "      <td>0</td>\n",
       "      <td>0</td>\n",
       "      <td>4379</td>\n",
       "      <td>...</td>\n",
       "      <td>15167</td>\n",
       "      <td>0</td>\n",
       "      <td>0</td>\n",
       "      <td>0</td>\n",
       "      <td>0</td>\n",
       "      <td>0</td>\n",
       "      <td>15683</td>\n",
       "      <td>15683</td>\n",
       "      <td>0</td>\n",
       "      <td>0</td>\n",
       "    </tr>\n",
       "    <tr>\n",
       "      <th>Family Leisure</th>\n",
       "      <td>11351</td>\n",
       "      <td>0</td>\n",
       "      <td>0</td>\n",
       "      <td>8809</td>\n",
       "      <td>11697</td>\n",
       "      <td>0</td>\n",
       "      <td>0</td>\n",
       "      <td>0</td>\n",
       "      <td>0</td>\n",
       "      <td>3788</td>\n",
       "      <td>...</td>\n",
       "      <td>11385</td>\n",
       "      <td>0</td>\n",
       "      <td>0</td>\n",
       "      <td>0</td>\n",
       "      <td>0</td>\n",
       "      <td>0</td>\n",
       "      <td>11838</td>\n",
       "      <td>11838</td>\n",
       "      <td>0</td>\n",
       "      <td>0</td>\n",
       "    </tr>\n",
       "    <tr>\n",
       "      <th>Solo Leisure</th>\n",
       "      <td>20964</td>\n",
       "      <td>0</td>\n",
       "      <td>0</td>\n",
       "      <td>16655</td>\n",
       "      <td>21447</td>\n",
       "      <td>0</td>\n",
       "      <td>0</td>\n",
       "      <td>0</td>\n",
       "      <td>0</td>\n",
       "      <td>5943</td>\n",
       "      <td>...</td>\n",
       "      <td>20994</td>\n",
       "      <td>0</td>\n",
       "      <td>0</td>\n",
       "      <td>0</td>\n",
       "      <td>0</td>\n",
       "      <td>0</td>\n",
       "      <td>21742</td>\n",
       "      <td>21751</td>\n",
       "      <td>0</td>\n",
       "      <td>0</td>\n",
       "    </tr>\n",
       "  </tbody>\n",
       "</table>\n",
       "<p>4 rows × 25 columns</p>\n",
       "</div>"
      ],
      "text/plain": [
       "                   Cabin_Staff_Service  Lounge_Staff_Service  \\\n",
       "Type_Of_Traveller                                              \n",
       "Business                          9858                     0   \n",
       "Couple Leisure                   15135                     0   \n",
       "Family Leisure                   11351                     0   \n",
       "Solo Leisure                     20964                     0   \n",
       "\n",
       "                   Bar_And_Beverages  Food_And_Beverages  Ground_Service  \\\n",
       "Type_Of_Traveller                                                          \n",
       "Business                           0                8121           10057   \n",
       "Couple Leisure                     0               11801           15495   \n",
       "Family Leisure                     0                8809           11697   \n",
       "Solo Leisure                       0               16655           21447   \n",
       "\n",
       "                   Catering  Cleanliness  Lounge_Comfort  Aisle_Space  \\\n",
       "Type_Of_Traveller                                                       \n",
       "Business                  0            0               0            0   \n",
       "Couple Leisure            0            0               0            0   \n",
       "Family Leisure            0            0               0            0   \n",
       "Solo Leisure              0            0               0            0   \n",
       "\n",
       "                   Wifi_And_Connectivity           ...            \\\n",
       "Type_Of_Traveller                                  ...             \n",
       "Business                            3088           ...             \n",
       "Couple Leisure                      4379           ...             \n",
       "Family Leisure                      3788           ...             \n",
       "Solo Leisure                        5943           ...             \n",
       "\n",
       "                   Seat_Comfort  Seat_Legroom  Seat_Storage  Seat_Recline  \\\n",
       "Type_Of_Traveller                                                           \n",
       "Business                   9873             0             0             0   \n",
       "Couple Leisure            15167             0             0             0   \n",
       "Family Leisure            11385             0             0             0   \n",
       "Solo Leisure              20994             0             0             0   \n",
       "\n",
       "                   Seat_Width  Washrooms  Value_For_Money  \\\n",
       "Type_Of_Traveller                                           \n",
       "Business                    0          0            10144   \n",
       "Couple Leisure              0          0            15683   \n",
       "Family Leisure              0          0            11838   \n",
       "Solo Leisure                0          0            21742   \n",
       "\n",
       "                   Overall_Customer_Rating  Overall_Service_Rating  \\\n",
       "Type_Of_Traveller                                                    \n",
       "Business                             10146                       0   \n",
       "Couple Leisure                       15683                       0   \n",
       "Family Leisure                       11838                       0   \n",
       "Solo Leisure                         21751                       0   \n",
       "\n",
       "                   Overall_Airline_Rating  \n",
       "Type_Of_Traveller                          \n",
       "Business                                0  \n",
       "Couple Leisure                          0  \n",
       "Family Leisure                          0  \n",
       "Solo Leisure                            0  \n",
       "\n",
       "[4 rows x 25 columns]"
      ]
     },
     "execution_count": 8,
     "metadata": {},
     "output_type": "execute_result"
    }
   ],
   "source": [
    "dataCount = data_src1.groupby('Type_Of_Traveller').count()\n",
    "dataCount = dataCount.iloc[:, 13:38]\n",
    "dataCount"
   ]
  },
  {
   "cell_type": "code",
   "execution_count": 9,
   "metadata": {
    "ExecuteTime": {
     "end_time": "2020-01-18T15:12:47.797867Z",
     "start_time": "2020-01-18T15:12:47.739448Z"
    },
    "hidden": true
   },
   "outputs": [
    {
     "data": {
      "text/html": [
       "<div>\n",
       "<style scoped>\n",
       "    .dataframe tbody tr th:only-of-type {\n",
       "        vertical-align: middle;\n",
       "    }\n",
       "\n",
       "    .dataframe tbody tr th {\n",
       "        vertical-align: top;\n",
       "    }\n",
       "\n",
       "    .dataframe thead th {\n",
       "        text-align: right;\n",
       "    }\n",
       "</style>\n",
       "<table border=\"1\" class=\"dataframe\">\n",
       "  <thead>\n",
       "    <tr style=\"text-align: right;\">\n",
       "      <th></th>\n",
       "      <th>Cabin_Staff_Service</th>\n",
       "      <th>Lounge_Staff_Service</th>\n",
       "      <th>Bar_And_Beverages</th>\n",
       "      <th>Food_And_Beverages</th>\n",
       "      <th>Ground_Service</th>\n",
       "      <th>Catering</th>\n",
       "      <th>Cleanliness</th>\n",
       "      <th>Lounge_Comfort</th>\n",
       "      <th>Aisle_Space</th>\n",
       "      <th>Wifi_And_Connectivity</th>\n",
       "      <th>...</th>\n",
       "      <th>Viewing_Tv_Screen</th>\n",
       "      <th>Power_Supply</th>\n",
       "      <th>Seat_Comfort</th>\n",
       "      <th>Seat_Legroom</th>\n",
       "      <th>Seat_Storage</th>\n",
       "      <th>Seat_Recline</th>\n",
       "      <th>Seat_Width</th>\n",
       "      <th>Washrooms</th>\n",
       "      <th>Value_For_Money</th>\n",
       "      <th>Overall_Airline_Rating</th>\n",
       "    </tr>\n",
       "    <tr>\n",
       "      <th>Type_Of_Traveller</th>\n",
       "      <th></th>\n",
       "      <th></th>\n",
       "      <th></th>\n",
       "      <th></th>\n",
       "      <th></th>\n",
       "      <th></th>\n",
       "      <th></th>\n",
       "      <th></th>\n",
       "      <th></th>\n",
       "      <th></th>\n",
       "      <th></th>\n",
       "      <th></th>\n",
       "      <th></th>\n",
       "      <th></th>\n",
       "      <th></th>\n",
       "      <th></th>\n",
       "      <th></th>\n",
       "      <th></th>\n",
       "      <th></th>\n",
       "      <th></th>\n",
       "      <th></th>\n",
       "    </tr>\n",
       "  </thead>\n",
       "  <tbody>\n",
       "    <tr>\n",
       "      <th>Business</th>\n",
       "      <td>3.049706</td>\n",
       "      <td>NaN</td>\n",
       "      <td>NaN</td>\n",
       "      <td>2.722448</td>\n",
       "      <td>2.578503</td>\n",
       "      <td>NaN</td>\n",
       "      <td>NaN</td>\n",
       "      <td>NaN</td>\n",
       "      <td>NaN</td>\n",
       "      <td>2.150259</td>\n",
       "      <td>...</td>\n",
       "      <td>NaN</td>\n",
       "      <td>NaN</td>\n",
       "      <td>2.791755</td>\n",
       "      <td>NaN</td>\n",
       "      <td>NaN</td>\n",
       "      <td>NaN</td>\n",
       "      <td>NaN</td>\n",
       "      <td>NaN</td>\n",
       "      <td>2.610903</td>\n",
       "      <td>NaN</td>\n",
       "    </tr>\n",
       "    <tr>\n",
       "      <th>Couple Leisure</th>\n",
       "      <td>2.924348</td>\n",
       "      <td>NaN</td>\n",
       "      <td>NaN</td>\n",
       "      <td>2.642149</td>\n",
       "      <td>2.509132</td>\n",
       "      <td>NaN</td>\n",
       "      <td>NaN</td>\n",
       "      <td>NaN</td>\n",
       "      <td>NaN</td>\n",
       "      <td>1.978991</td>\n",
       "      <td>...</td>\n",
       "      <td>NaN</td>\n",
       "      <td>NaN</td>\n",
       "      <td>2.634008</td>\n",
       "      <td>NaN</td>\n",
       "      <td>NaN</td>\n",
       "      <td>NaN</td>\n",
       "      <td>NaN</td>\n",
       "      <td>NaN</td>\n",
       "      <td>2.596761</td>\n",
       "      <td>NaN</td>\n",
       "    </tr>\n",
       "    <tr>\n",
       "      <th>Family Leisure</th>\n",
       "      <td>2.925557</td>\n",
       "      <td>NaN</td>\n",
       "      <td>NaN</td>\n",
       "      <td>2.681916</td>\n",
       "      <td>2.500128</td>\n",
       "      <td>NaN</td>\n",
       "      <td>NaN</td>\n",
       "      <td>NaN</td>\n",
       "      <td>NaN</td>\n",
       "      <td>2.072334</td>\n",
       "      <td>...</td>\n",
       "      <td>NaN</td>\n",
       "      <td>NaN</td>\n",
       "      <td>2.680896</td>\n",
       "      <td>NaN</td>\n",
       "      <td>NaN</td>\n",
       "      <td>NaN</td>\n",
       "      <td>NaN</td>\n",
       "      <td>NaN</td>\n",
       "      <td>2.589204</td>\n",
       "      <td>NaN</td>\n",
       "    </tr>\n",
       "    <tr>\n",
       "      <th>Solo Leisure</th>\n",
       "      <td>3.238313</td>\n",
       "      <td>NaN</td>\n",
       "      <td>NaN</td>\n",
       "      <td>2.975683</td>\n",
       "      <td>2.800625</td>\n",
       "      <td>NaN</td>\n",
       "      <td>NaN</td>\n",
       "      <td>NaN</td>\n",
       "      <td>NaN</td>\n",
       "      <td>2.202423</td>\n",
       "      <td>...</td>\n",
       "      <td>NaN</td>\n",
       "      <td>NaN</td>\n",
       "      <td>2.950700</td>\n",
       "      <td>NaN</td>\n",
       "      <td>NaN</td>\n",
       "      <td>NaN</td>\n",
       "      <td>NaN</td>\n",
       "      <td>NaN</td>\n",
       "      <td>2.924432</td>\n",
       "      <td>NaN</td>\n",
       "    </tr>\n",
       "  </tbody>\n",
       "</table>\n",
       "<p>4 rows × 21 columns</p>\n",
       "</div>"
      ],
      "text/plain": [
       "                   Cabin_Staff_Service  Lounge_Staff_Service  \\\n",
       "Type_Of_Traveller                                              \n",
       "Business                      3.049706                   NaN   \n",
       "Couple Leisure                2.924348                   NaN   \n",
       "Family Leisure                2.925557                   NaN   \n",
       "Solo Leisure                  3.238313                   NaN   \n",
       "\n",
       "                   Bar_And_Beverages  Food_And_Beverages  Ground_Service  \\\n",
       "Type_Of_Traveller                                                          \n",
       "Business                         NaN            2.722448        2.578503   \n",
       "Couple Leisure                   NaN            2.642149        2.509132   \n",
       "Family Leisure                   NaN            2.681916        2.500128   \n",
       "Solo Leisure                     NaN            2.975683        2.800625   \n",
       "\n",
       "                   Catering  Cleanliness  Lounge_Comfort  Aisle_Space  \\\n",
       "Type_Of_Traveller                                                       \n",
       "Business                NaN          NaN             NaN          NaN   \n",
       "Couple Leisure          NaN          NaN             NaN          NaN   \n",
       "Family Leisure          NaN          NaN             NaN          NaN   \n",
       "Solo Leisure            NaN          NaN             NaN          NaN   \n",
       "\n",
       "                   Wifi_And_Connectivity           ...            \\\n",
       "Type_Of_Traveller                                  ...             \n",
       "Business                        2.150259           ...             \n",
       "Couple Leisure                  1.978991           ...             \n",
       "Family Leisure                  2.072334           ...             \n",
       "Solo Leisure                    2.202423           ...             \n",
       "\n",
       "                   Viewing_Tv_Screen  Power_Supply  Seat_Comfort  \\\n",
       "Type_Of_Traveller                                                  \n",
       "Business                         NaN           NaN      2.791755   \n",
       "Couple Leisure                   NaN           NaN      2.634008   \n",
       "Family Leisure                   NaN           NaN      2.680896   \n",
       "Solo Leisure                     NaN           NaN      2.950700   \n",
       "\n",
       "                   Seat_Legroom  Seat_Storage  Seat_Recline  Seat_Width  \\\n",
       "Type_Of_Traveller                                                         \n",
       "Business                    NaN           NaN           NaN         NaN   \n",
       "Couple Leisure              NaN           NaN           NaN         NaN   \n",
       "Family Leisure              NaN           NaN           NaN         NaN   \n",
       "Solo Leisure                NaN           NaN           NaN         NaN   \n",
       "\n",
       "                   Washrooms  Value_For_Money  Overall_Airline_Rating  \n",
       "Type_Of_Traveller                                                      \n",
       "Business                 NaN         2.610903                     NaN  \n",
       "Couple Leisure           NaN         2.596761                     NaN  \n",
       "Family Leisure           NaN         2.589204                     NaN  \n",
       "Solo Leisure             NaN         2.924432                     NaN  \n",
       "\n",
       "[4 rows x 21 columns]"
      ]
     },
     "execution_count": 9,
     "metadata": {},
     "output_type": "execute_result"
    }
   ],
   "source": [
    "groupData = data_src1.groupby('Type_Of_Traveller').mean()\n",
    "groupData"
   ]
  },
  {
   "cell_type": "code",
   "execution_count": 10,
   "metadata": {
    "ExecuteTime": {
     "end_time": "2020-01-18T15:13:10.873820Z",
     "start_time": "2020-01-18T15:13:10.868660Z"
    },
    "hidden": true
   },
   "outputs": [],
   "source": [
    "groupData = groupData.dropna(axis='columns', how='all')\n",
    "groupData = groupData.dropna(thresh=4, axis=1)\n",
    "groupData = groupData.reset_index()"
   ]
  },
  {
   "cell_type": "code",
   "execution_count": 11,
   "metadata": {
    "ExecuteTime": {
     "end_time": "2020-01-18T15:13:56.984938Z",
     "start_time": "2020-01-18T15:13:56.976903Z"
    },
    "hidden": true
   },
   "outputs": [
    {
     "data": {
      "text/html": [
       "<div>\n",
       "<style scoped>\n",
       "    .dataframe tbody tr th:only-of-type {\n",
       "        vertical-align: middle;\n",
       "    }\n",
       "\n",
       "    .dataframe tbody tr th {\n",
       "        vertical-align: top;\n",
       "    }\n",
       "\n",
       "    .dataframe thead th {\n",
       "        text-align: right;\n",
       "    }\n",
       "</style>\n",
       "<table border=\"1\" class=\"dataframe\">\n",
       "  <thead>\n",
       "    <tr style=\"text-align: right;\">\n",
       "      <th></th>\n",
       "      <th>Type_Of_Traveller</th>\n",
       "      <th>Cabin_Staff_Service</th>\n",
       "      <th>Food_And_Beverages</th>\n",
       "      <th>Ground_Service</th>\n",
       "      <th>Wifi_And_Connectivity</th>\n",
       "      <th>Inflight_Entertainment</th>\n",
       "      <th>Seat_Comfort</th>\n",
       "      <th>Value_For_Money</th>\n",
       "    </tr>\n",
       "  </thead>\n",
       "  <tbody>\n",
       "    <tr>\n",
       "      <th>0</th>\n",
       "      <td>Business</td>\n",
       "      <td>3.049706</td>\n",
       "      <td>2.722448</td>\n",
       "      <td>2.578503</td>\n",
       "      <td>2.150259</td>\n",
       "      <td>2.675417</td>\n",
       "      <td>2.791755</td>\n",
       "      <td>2.610903</td>\n",
       "    </tr>\n",
       "    <tr>\n",
       "      <th>1</th>\n",
       "      <td>Couple Leisure</td>\n",
       "      <td>2.924348</td>\n",
       "      <td>2.642149</td>\n",
       "      <td>2.509132</td>\n",
       "      <td>1.978991</td>\n",
       "      <td>2.651410</td>\n",
       "      <td>2.634008</td>\n",
       "      <td>2.596761</td>\n",
       "    </tr>\n",
       "    <tr>\n",
       "      <th>2</th>\n",
       "      <td>Family Leisure</td>\n",
       "      <td>2.925557</td>\n",
       "      <td>2.681916</td>\n",
       "      <td>2.500128</td>\n",
       "      <td>2.072334</td>\n",
       "      <td>2.706519</td>\n",
       "      <td>2.680896</td>\n",
       "      <td>2.589204</td>\n",
       "    </tr>\n",
       "    <tr>\n",
       "      <th>3</th>\n",
       "      <td>Solo Leisure</td>\n",
       "      <td>3.238313</td>\n",
       "      <td>2.975683</td>\n",
       "      <td>2.800625</td>\n",
       "      <td>2.202423</td>\n",
       "      <td>2.902637</td>\n",
       "      <td>2.950700</td>\n",
       "      <td>2.924432</td>\n",
       "    </tr>\n",
       "  </tbody>\n",
       "</table>\n",
       "</div>"
      ],
      "text/plain": [
       "  Type_Of_Traveller  Cabin_Staff_Service  Food_And_Beverages  Ground_Service  \\\n",
       "0          Business             3.049706            2.722448        2.578503   \n",
       "1    Couple Leisure             2.924348            2.642149        2.509132   \n",
       "2    Family Leisure             2.925557            2.681916        2.500128   \n",
       "3      Solo Leisure             3.238313            2.975683        2.800625   \n",
       "\n",
       "   Wifi_And_Connectivity  Inflight_Entertainment  Seat_Comfort  \\\n",
       "0               2.150259                2.675417      2.791755   \n",
       "1               1.978991                2.651410      2.634008   \n",
       "2               2.072334                2.706519      2.680896   \n",
       "3               2.202423                2.902637      2.950700   \n",
       "\n",
       "   Value_For_Money  \n",
       "0         2.610903  \n",
       "1         2.596761  \n",
       "2         2.589204  \n",
       "3         2.924432  "
      ]
     },
     "execution_count": 11,
     "metadata": {},
     "output_type": "execute_result"
    }
   ],
   "source": [
    "groupData"
   ]
  },
  {
   "cell_type": "markdown",
   "metadata": {
    "hidden": true
   },
   "source": [
    "Remove types of travellers"
   ]
  },
  {
   "cell_type": "code",
   "execution_count": 12,
   "metadata": {
    "ExecuteTime": {
     "end_time": "2020-01-18T15:14:40.742052Z",
     "start_time": "2020-01-18T15:14:40.738826Z"
    },
    "hidden": true
   },
   "outputs": [],
   "source": [
    "groupData = groupData.iloc[:, 1:13]"
   ]
  },
  {
   "cell_type": "code",
   "execution_count": 13,
   "metadata": {
    "ExecuteTime": {
     "end_time": "2020-01-18T15:14:56.851423Z",
     "start_time": "2020-01-18T15:14:56.848506Z"
    },
    "hidden": true
   },
   "outputs": [
    {
     "data": {
      "text/plain": [
       "7"
      ]
     },
     "execution_count": 13,
     "metadata": {},
     "output_type": "execute_result"
    }
   ],
   "source": [
    "# number of observations\n",
    "n = groupData.shape[0]\n",
    "n\n",
    "# number of variables\n",
    "p = groupData.shape[1]\n",
    "p"
   ]
  },
  {
   "cell_type": "code",
   "execution_count": 15,
   "metadata": {
    "ExecuteTime": {
     "end_time": "2020-01-18T15:15:21.938263Z",
     "start_time": "2020-01-18T15:15:21.936315Z"
    },
    "hidden": true
   },
   "outputs": [],
   "source": [
    "sc = StandardScaler()"
   ]
  },
  {
   "cell_type": "markdown",
   "metadata": {
    "hidden": true
   },
   "source": [
    "Data Normalisation"
   ]
  },
  {
   "cell_type": "code",
   "execution_count": 16,
   "metadata": {
    "ExecuteTime": {
     "end_time": "2020-01-18T15:15:59.136862Z",
     "start_time": "2020-01-18T15:15:59.133388Z"
    },
    "hidden": true
   },
   "outputs": [],
   "source": [
    "Z = sc.fit_transform(groupData)"
   ]
  },
  {
   "cell_type": "markdown",
   "metadata": {
    "hidden": true
   },
   "source": [
    "Instantiation"
   ]
  },
  {
   "cell_type": "code",
   "execution_count": 17,
   "metadata": {
    "ExecuteTime": {
     "end_time": "2020-01-18T15:17:21.676320Z",
     "start_time": "2020-01-18T15:17:21.673945Z"
    },
    "hidden": true
   },
   "outputs": [
    {
     "name": "stdout",
     "output_type": "stream",
     "text": [
      "PCA(copy=True, iterated_power='auto', n_components=None, random_state=None,\n",
      "  svd_solver='full', tol=0.0, whiten=False)\n"
     ]
    }
   ],
   "source": [
    "pca = PCA(svd_solver='full')\n",
    "print(pca)"
   ]
  },
  {
   "cell_type": "markdown",
   "metadata": {
    "heading_collapsed": true,
    "hidden": true
   },
   "source": [
    "### Calcul of coordinates"
   ]
  },
  {
   "cell_type": "code",
   "execution_count": 18,
   "metadata": {
    "ExecuteTime": {
     "end_time": "2020-01-18T15:18:22.861297Z",
     "start_time": "2020-01-18T15:18:22.850699Z"
    },
    "hidden": true
   },
   "outputs": [],
   "source": [
    "# calculations\n",
    "coord = pca.fit_transform(Z)"
   ]
  },
  {
   "cell_type": "code",
   "execution_count": 19,
   "metadata": {
    "ExecuteTime": {
     "end_time": "2020-01-18T15:18:31.996636Z",
     "start_time": "2020-01-18T15:18:31.994240Z"
    },
    "hidden": true
   },
   "outputs": [
    {
     "name": "stdout",
     "output_type": "stream",
     "text": [
      "4\n"
     ]
    }
   ],
   "source": [
    "# number of calculated components\n",
    "print(pca.n_components_)  # 4"
   ]
  },
  {
   "cell_type": "code",
   "execution_count": 20,
   "metadata": {
    "ExecuteTime": {
     "end_time": "2020-01-18T15:18:42.425236Z",
     "start_time": "2020-01-18T15:18:42.423051Z"
    },
    "hidden": true
   },
   "outputs": [
    {
     "name": "stdout",
     "output_type": "stream",
     "text": [
      "[8.68518010e+00 5.25581968e-01 1.22571267e-01 2.15864648e-32]\n"
     ]
    }
   ],
   "source": [
    "# explained variance\n",
    "print(pca.explained_variance_)"
   ]
  },
  {
   "cell_type": "code",
   "execution_count": 21,
   "metadata": {
    "ExecuteTime": {
     "end_time": "2020-01-18T15:18:52.057410Z",
     "start_time": "2020-01-18T15:18:52.054848Z"
    },
    "hidden": true
   },
   "outputs": [
    {
     "name": "stdout",
     "output_type": "stream",
     "text": [
      "[6.51388507e+00 3.94186476e-01 9.19284501e-02 1.61898486e-32]\n"
     ]
    }
   ],
   "source": [
    "# adjusted value\n",
    "eigval = (n-1)/n*pca.explained_variance_\n",
    "print(eigval)"
   ]
  },
  {
   "cell_type": "code",
   "execution_count": 22,
   "metadata": {
    "ExecuteTime": {
     "end_time": "2020-01-18T15:19:01.077705Z",
     "start_time": "2020-01-18T15:19:01.073703Z"
    },
    "hidden": true
   },
   "outputs": [
    {
     "name": "stdout",
     "output_type": "stream",
     "text": [
      "[9.30555011e-01 5.63123537e-02 1.31326357e-02 2.31283551e-33]\n"
     ]
    }
   ],
   "source": [
    "# proportion of variance explained\n",
    "print(pca.explained_variance_ratio_)"
   ]
  },
  {
   "cell_type": "code",
   "execution_count": 23,
   "metadata": {
    "ExecuteTime": {
     "end_time": "2020-01-18T15:19:24.499991Z",
     "start_time": "2020-01-18T15:19:24.309282Z"
    },
    "hidden": true
   },
   "outputs": [
    {
     "data": {
      "image/png": "[encoded data removed]",
      "text/plain": [
       "<Figure size 432x288 with 1 Axes>"
      ]
     },
     "metadata": {
      "needs_background": "light"
     },
     "output_type": "display_data"
    }
   ],
   "source": [
    "# scree plot\n",
    "plt.plot(np.arange(1, n+1), eigval)\n",
    "plt.title(\"Scree plot\")\n",
    "plt.ylabel(\"Eigen values\")\n",
    "plt.xlabel(\"Factor number\")\n",
    "plt.show()"
   ]
  },
  {
   "cell_type": "markdown",
   "metadata": {
    "hidden": true
   },
   "source": [
    "Determining the number of factors to remember"
   ]
  },
  {
   "cell_type": "code",
   "execution_count": 24,
   "metadata": {
    "ExecuteTime": {
     "end_time": "2020-01-18T15:19:58.273621Z",
     "start_time": "2020-01-18T15:19:58.268861Z"
    },
    "hidden": true
   },
   "outputs": [
    {
     "name": "stdout",
     "output_type": "stream",
     "text": [
      "     Val.Propre    Seuils\n",
      "0  6.513885e+00  2.083333\n",
      "1  3.941865e-01  1.083333\n",
      "2  9.192845e-02  0.583333\n",
      "3  1.618985e-32  0.250000\n"
     ]
    }
   ],
   "source": [
    "# thresholds for testing broken sticks\n",
    "bs = 1/np.arange(n, 0, -1)\n",
    "bs = np.cumsum(bs)\n",
    "bs = bs[::-1]\n",
    "\n",
    "# broken sticks test\n",
    "print(pd.DataFrame({'Val.Propre': eigval, 'Seuils': bs}))"
   ]
  },
  {
   "cell_type": "markdown",
   "metadata": {
    "heading_collapsed": true,
    "hidden": true
   },
   "source": [
    "### Display of Airline Companies in the first plan"
   ]
  },
  {
   "cell_type": "code",
   "execution_count": 25,
   "metadata": {
    "ExecuteTime": {
     "end_time": "2020-01-18T15:20:26.687533Z",
     "start_time": "2020-01-18T15:20:26.534176Z"
    },
    "hidden": true,
    "scrolled": true
   },
   "outputs": [
    {
     "data": {
      "image/png": "[encoded data removed]",
      "text/plain": [
       "<Figure size 864x864 with 1 Axes>"
      ]
     },
     "metadata": {
      "needs_background": "light"
     },
     "output_type": "display_data"
    }
   ],
   "source": [
    "# positioning of individuals in the first plan\n",
    "fig, axes = plt.subplots(figsize=(12, 12))\n",
    "axes.set_xlim(-6, 6)\n",
    "axes.set_ylim(-6, 6)\n",
    "\n",
    "# placement of observation labels\n",
    "for i in range(n):\n",
    "    plt.scatter(coord[i, 0], coord[i, 1])\n",
    "    plt.annotate(linesName[i], (coord[i, 0], coord[i, 1]))\n",
    "\n",
    "# add the axes\n",
    "plt.plot([-6, 6], [0, 0], color='silver', linestyle='-', linewidth=1)\n",
    "plt.plot([0, 0], [-6, 6], color='silver', linestyle='-', linewidth=1)\n",
    "plt.title('Graph of type of travellers in a first plan')\n",
    "\n",
    "# display\n",
    "plt.show()"
   ]
  },
  {
   "cell_type": "code",
   "execution_count": 26,
   "metadata": {
    "ExecuteTime": {
     "end_time": "2020-01-18T15:20:55.157927Z",
     "start_time": "2020-01-18T15:20:55.153185Z"
    },
    "hidden": true
   },
   "outputs": [
    {
     "name": "stdout",
     "output_type": "stream",
     "text": [
      "               ID        d_i\n",
      "0    Solo Leisure   1.084098\n",
      "1  Couple Leisure   6.301846\n",
      "2        Business   2.757299\n",
      "3  Family Leisure  17.856757\n"
     ]
    }
   ],
   "source": [
    "# contribution of individuals to total inertia\n",
    "di: float = np.sum(Z**2, axis=1)\n",
    "print(pd.DataFrame({'ID': linesName, 'd_i': di}))\n",
    "\n",
    "# the Business and Family Leisure classes stand out the most,\n",
    "# and we find them at both ends of the first factor axis which carries 50.34% of the available information"
   ]
  },
  {
   "cell_type": "code",
   "execution_count": 27,
   "metadata": {
    "ExecuteTime": {
     "end_time": "2020-01-18T15:21:03.325543Z",
     "start_time": "2020-01-18T15:21:03.320905Z"
    },
    "hidden": true
   },
   "outputs": [
    {
     "name": "stdout",
     "output_type": "stream",
     "text": [
      "               id    COS2_1    COS2_2\n",
      "0    Solo Leisure  0.049385  0.908880\n",
      "1  Couple Leisure  0.910391  0.076546\n",
      "2        Business  0.912597  0.000342\n",
      "3  Family Leisure  0.993941  0.006054\n"
     ]
    }
   ],
   "source": [
    "# quality of representation of individuals - COS2\n",
    "cos2: float = coord**2\n",
    "for j in range(n):\n",
    "    cos2[:, j] = cos2[:, j]/di\n",
    "\n",
    "print(pd.DataFrame({'id': linesName,\n",
    "                    'COS2_1': cos2[:, 0], 'COS2_2': cos2[:, 1]}))"
   ]
  },
  {
   "cell_type": "code",
   "execution_count": 28,
   "metadata": {
    "ExecuteTime": {
     "end_time": "2020-01-18T15:21:19.017210Z",
     "start_time": "2020-01-18T15:21:19.014788Z"
    },
    "hidden": true
   },
   "outputs": [
    {
     "name": "stdout",
     "output_type": "stream",
     "text": [
      "[1. 1. 1. 1.]\n"
     ]
    }
   ],
   "source": [
    "# let’s check the theory - sum in line of cos2 = 1\n",
    "print(np.sum(cos2, axis=1))"
   ]
  },
  {
   "cell_type": "code",
   "execution_count": 30,
   "metadata": {
    "ExecuteTime": {
     "end_time": "2020-01-18T15:21:40.399658Z",
     "start_time": "2020-01-18T15:21:40.394843Z"
    },
    "hidden": true
   },
   "outputs": [
    {
     "name": "stdout",
     "output_type": "stream",
     "text": [
      "               id     CTR_1     CTR_2\n",
      "0    Solo Leisure  0.002055  0.624904\n",
      "1  Couple Leisure  0.220189  0.305934\n",
      "2        Business  0.096575  0.000598\n",
      "3  Family Leisure  0.681182  0.068564\n"
     ]
    }
   ],
   "source": [
    "# contributions to the axes\n",
    "ctr: float = coord**2\n",
    "for j in range(n):\n",
    "    ctr[:, j] = ctr[:, j]/(n*eigval[j])\n",
    "\n",
    "print(pd.DataFrame({'id': linesName,\n",
    "                    'CTR_1': ctr[:, 0], 'CTR_2': ctr[:, 1]}))"
   ]
  },
  {
   "cell_type": "markdown",
   "metadata": {
    "heading_collapsed": true,
    "hidden": true
   },
   "source": [
    "### Display of the correlation circle"
   ]
  },
  {
   "cell_type": "code",
   "execution_count": 31,
   "metadata": {
    "ExecuteTime": {
     "end_time": "2020-01-18T15:22:11.850166Z",
     "start_time": "2020-01-18T15:22:11.846891Z"
    },
    "hidden": true
   },
   "outputs": [
    {
     "data": {
      "text/plain": [
       "array([2.55223139e+00, 6.27842716e-01, 3.03197048e-01, 1.27239336e-16])"
      ]
     },
     "execution_count": 31,
     "metadata": {},
     "output_type": "execute_result"
    }
   ],
   "source": [
    "# square root of own values\n",
    "sqrt_eigval = np.sqrt(eigval)\n",
    "sqrt_eigval"
   ]
  },
  {
   "cell_type": "code",
   "execution_count": 32,
   "metadata": {
    "ExecuteTime": {
     "end_time": "2020-01-18T15:22:27.921415Z",
     "start_time": "2020-01-18T15:22:27.917760Z"
    },
    "hidden": true
   },
   "outputs": [],
   "source": [
    "# correlation of variables with axes\n",
    "corvar: float = np.zeros((p, n))\n",
    "\n",
    "for k in range(n):\n",
    "    corvar[:, k] = pca.components_[k, :] * sqrt_eigval[k]"
   ]
  },
  {
   "cell_type": "code",
   "execution_count": 33,
   "metadata": {
    "ExecuteTime": {
     "end_time": "2020-01-18T15:23:19.123044Z",
     "start_time": "2020-01-18T15:23:19.118747Z"
    },
    "hidden": true
   },
   "outputs": [
    {
     "name": "stdout",
     "output_type": "stream",
     "text": [
      "                       id     COR_1     COR_2\n",
      "0     Cabin_Staff_Service  0.986768  0.065956\n",
      "1      Food_And_Beverages  0.995494 -0.087868\n",
      "2          Ground_Service  0.989780 -0.089441\n",
      "3   Wifi_And_Connectivity  0.875732  0.469592\n",
      "4  Inflight_Entertainment  0.952274 -0.228875\n",
      "5            Seat_Comfort  0.983064  0.176066\n",
      "6         Value_For_Money  0.964031 -0.264984\n"
     ]
    }
   ],
   "source": [
    "# we display for the first two axes\n",
    "print(pd.DataFrame({'id': groupData.columns,\n",
    "                    'COR_1': corvar[:, 0], 'COR_2': corvar[:, 1]}))"
   ]
  },
  {
   "cell_type": "code",
   "execution_count": 34,
   "metadata": {
    "ExecuteTime": {
     "end_time": "2020-01-18T15:23:52.001577Z",
     "start_time": "2020-01-18T15:23:51.842944Z"
    },
    "hidden": true
   },
   "outputs": [
    {
     "data": {
      "image/png": "[encoded data removed]",
      "text/plain": [
       "<Figure size 576x576 with 1 Axes>"
      ]
     },
     "metadata": {
      "needs_background": "light"
     },
     "output_type": "display_data"
    }
   ],
   "source": [
    "# circle of correlations\n",
    "fig, axes = plt.subplots(figsize=(8, 8))\n",
    "axes.set_xlim(-1, 1)\n",
    "axes.set_ylim(-1, 1)\n",
    "\n",
    "# label display (variable names)\n",
    "for j in range(p):\n",
    "    x = corvar[j, 0]\n",
    "    y = corvar[j, 1]\n",
    "    plt.scatter(x, y)\n",
    "    plt.annotate(groupData.columns[j], (x, y))\n",
    "\n",
    "# add the axes\n",
    "plt.plot([-1, 1], [0, 0], color='silver', linestyle='-', linewidth=1)\n",
    "plt.plot([0, 0], [-1, 1], color='silver', linestyle='-', linewidth=1)\n",
    "plt.title('Correlation circle of variables')\n",
    "\n",
    "# add a circle\n",
    "circle = plt.Circle((0, 0), 1, color='blue', fill=False)\n",
    "axes.add_artist(circle)\n",
    "\n",
    "# display\n",
    "plt.show()"
   ]
  },
  {
   "cell_type": "code",
   "execution_count": 35,
   "metadata": {
    "ExecuteTime": {
     "end_time": "2020-01-18T15:24:13.254094Z",
     "start_time": "2020-01-18T15:24:13.249530Z"
    },
    "hidden": true
   },
   "outputs": [
    {
     "name": "stdout",
     "output_type": "stream",
     "text": [
      "                       id    COS2_1    COS2_2\n",
      "0     Cabin_Staff_Service  0.973711  0.004350\n",
      "1      Food_And_Beverages  0.991008  0.007721\n",
      "2          Ground_Service  0.979663  0.008000\n",
      "3   Wifi_And_Connectivity  0.766906  0.220516\n",
      "4  Inflight_Entertainment  0.906826  0.052384\n",
      "5            Seat_Comfort  0.966415  0.030999\n",
      "6         Value_For_Money  0.929356  0.070216\n"
     ]
    }
   ],
   "source": [
    "# square cos of the variables\n",
    "cos2var: float = corvar**2\n",
    "print(pd.DataFrame({'id': groupData.columns,\n",
    "                    'COS2_1': cos2var[:, 0], 'COS2_2': cos2var[:, 1]}))"
   ]
  },
  {
   "cell_type": "code",
   "execution_count": 36,
   "metadata": {
    "ExecuteTime": {
     "end_time": "2020-01-18T15:24:22.104109Z",
     "start_time": "2020-01-18T15:24:22.099184Z"
    },
    "hidden": true
   },
   "outputs": [
    {
     "name": "stdout",
     "output_type": "stream",
     "text": [
      "                Variables     CTR_1     CTR_2\n",
      "0     Cabin_Staff_Service  0.149482  0.011036\n",
      "1      Food_And_Beverages  0.152138  0.019587\n",
      "2          Ground_Service  0.150396  0.020294\n",
      "3   Wifi_And_Connectivity  0.117734  0.559421\n",
      "4  Inflight_Entertainment  0.139214  0.132891\n",
      "5            Seat_Comfort  0.148362  0.078641\n",
      "6         Value_For_Money  0.142673  0.178130\n"
     ]
    }
   ],
   "source": [
    "# contributions\n",
    "ctrvar: float = cos2var\n",
    "\n",
    "for k in range(n):\n",
    "    ctrvar[:, k] = ctrvar[:, k]/eigval[k]\n",
    "\n",
    "# only the first two axes are displayed\n",
    "print(pd.DataFrame({'Variables': groupData.columns,\n",
    "                    'CTR_1': ctrvar[:, 0], 'CTR_2': ctrvar[:, 1]}))"
   ]
  },
  {
   "cell_type": "markdown",
   "metadata": {
    "heading_collapsed": true,
    "hidden": true
   },
   "source": [
    "### Interpretation"
   ]
  },
  {
   "cell_type": "markdown",
   "metadata": {
    "hidden": true
   },
   "source": [
    "In average, we can see that people who traveled in family leisure gave higher rates than others."
   ]
  },
  {
   "cell_type": "markdown",
   "metadata": {
    "ExecuteTime": {
     "end_time": "2020-01-15T09:01:55.267601Z",
     "start_time": "2020-01-15T09:01:55.265507Z"
    },
    "heading_collapsed": true,
    "hidden": true
   },
   "source": [
    "## PCA on rates by constructors with all_data rates"
   ]
  },
  {
   "cell_type": "markdown",
   "metadata": {
    "heading_collapsed": true,
    "hidden": true
   },
   "source": [
    "### Preprocessing"
   ]
  },
  {
   "cell_type": "code",
   "execution_count": 63,
   "metadata": {
    "ExecuteTime": {
     "end_time": "2020-01-15T10:25:40.823341Z",
     "start_time": "2020-01-15T10:25:40.796376Z"
    },
    "hidden": true
   },
   "outputs": [],
   "source": [
    "all_data = all_data_v2.copy()"
   ]
  },
  {
   "cell_type": "markdown",
   "metadata": {
    "hidden": true
   },
   "source": [
    "Creation of a dataframe with the notes and the constructors"
   ]
  },
  {
   "cell_type": "code",
   "execution_count": 64,
   "metadata": {
    "ExecuteTime": {
     "end_time": "2020-01-15T10:25:43.469684Z",
     "start_time": "2020-01-15T10:25:43.419475Z"
    },
    "hidden": true
   },
   "outputs": [],
   "source": [
    "notes_data = all_data.iloc[:, 14:28]\n",
    "df = all_data.iloc[:, 30:37]\n",
    "df2 = all_data['Constructor']\n",
    "notes_data = pd.concat([df2, notes_data], axis=1)\n",
    "notes_data = pd.concat([notes_data, df], axis=1)"
   ]
  },
  {
   "cell_type": "code",
   "execution_count": 65,
   "metadata": {
    "ExecuteTime": {
     "end_time": "2020-01-15T10:25:57.454304Z",
     "start_time": "2020-01-15T10:25:57.438030Z"
    },
    "hidden": true
   },
   "outputs": [
    {
     "data": {
      "text/html": [
       "<div>\n",
       "<style scoped>\n",
       "    .dataframe tbody tr th:only-of-type {\n",
       "        vertical-align: middle;\n",
       "    }\n",
       "\n",
       "    .dataframe tbody tr th {\n",
       "        vertical-align: top;\n",
       "    }\n",
       "\n",
       "    .dataframe thead th {\n",
       "        text-align: right;\n",
       "    }\n",
       "</style>\n",
       "<table border=\"1\" class=\"dataframe\">\n",
       "  <thead>\n",
       "    <tr style=\"text-align: right;\">\n",
       "      <th></th>\n",
       "      <th>Constructor</th>\n",
       "      <th>Cabin_Staff_Service</th>\n",
       "      <th>Lounge_Staff_Service</th>\n",
       "      <th>Bar_And_Beverages</th>\n",
       "      <th>Food_And_Beverages</th>\n",
       "      <th>Ground_Service</th>\n",
       "      <th>Catering</th>\n",
       "      <th>Cleanliness</th>\n",
       "      <th>Lounge_Comfort</th>\n",
       "      <th>Aisle_Space</th>\n",
       "      <th>...</th>\n",
       "      <th>Viewing_Tv_Screen</th>\n",
       "      <th>Power_Supply</th>\n",
       "      <th>Seat</th>\n",
       "      <th>Seat_Legroom</th>\n",
       "      <th>Seat_Storage</th>\n",
       "      <th>Seat_Recline</th>\n",
       "      <th>Seat_Width</th>\n",
       "      <th>Washrooms</th>\n",
       "      <th>Value_For_Money</th>\n",
       "      <th>Overall_Customer_Rating</th>\n",
       "    </tr>\n",
       "  </thead>\n",
       "  <tbody>\n",
       "    <tr>\n",
       "      <th>0</th>\n",
       "      <td>Embraer</td>\n",
       "      <td>2.0</td>\n",
       "      <td>NaN</td>\n",
       "      <td>NaN</td>\n",
       "      <td>1.0</td>\n",
       "      <td>1.0</td>\n",
       "      <td>NaN</td>\n",
       "      <td>NaN</td>\n",
       "      <td>NaN</td>\n",
       "      <td>NaN</td>\n",
       "      <td>...</td>\n",
       "      <td>NaN</td>\n",
       "      <td>NaN</td>\n",
       "      <td>NaN</td>\n",
       "      <td>NaN</td>\n",
       "      <td>NaN</td>\n",
       "      <td>NaN</td>\n",
       "      <td>NaN</td>\n",
       "      <td>NaN</td>\n",
       "      <td>2.0</td>\n",
       "      <td>1.0</td>\n",
       "    </tr>\n",
       "    <tr>\n",
       "      <th>1</th>\n",
       "      <td>Embraer</td>\n",
       "      <td>1.0</td>\n",
       "      <td>NaN</td>\n",
       "      <td>NaN</td>\n",
       "      <td>1.0</td>\n",
       "      <td>1.0</td>\n",
       "      <td>NaN</td>\n",
       "      <td>NaN</td>\n",
       "      <td>NaN</td>\n",
       "      <td>NaN</td>\n",
       "      <td>...</td>\n",
       "      <td>NaN</td>\n",
       "      <td>NaN</td>\n",
       "      <td>NaN</td>\n",
       "      <td>NaN</td>\n",
       "      <td>NaN</td>\n",
       "      <td>NaN</td>\n",
       "      <td>NaN</td>\n",
       "      <td>NaN</td>\n",
       "      <td>2.0</td>\n",
       "      <td>1.0</td>\n",
       "    </tr>\n",
       "    <tr>\n",
       "      <th>2</th>\n",
       "      <td>NaN</td>\n",
       "      <td>1.0</td>\n",
       "      <td>NaN</td>\n",
       "      <td>NaN</td>\n",
       "      <td>NaN</td>\n",
       "      <td>1.0</td>\n",
       "      <td>NaN</td>\n",
       "      <td>NaN</td>\n",
       "      <td>NaN</td>\n",
       "      <td>NaN</td>\n",
       "      <td>...</td>\n",
       "      <td>NaN</td>\n",
       "      <td>NaN</td>\n",
       "      <td>NaN</td>\n",
       "      <td>NaN</td>\n",
       "      <td>NaN</td>\n",
       "      <td>NaN</td>\n",
       "      <td>NaN</td>\n",
       "      <td>NaN</td>\n",
       "      <td>1.0</td>\n",
       "      <td>1.0</td>\n",
       "    </tr>\n",
       "    <tr>\n",
       "      <th>3</th>\n",
       "      <td>NaN</td>\n",
       "      <td>1.0</td>\n",
       "      <td>NaN</td>\n",
       "      <td>NaN</td>\n",
       "      <td>1.0</td>\n",
       "      <td>1.0</td>\n",
       "      <td>NaN</td>\n",
       "      <td>NaN</td>\n",
       "      <td>NaN</td>\n",
       "      <td>NaN</td>\n",
       "      <td>...</td>\n",
       "      <td>NaN</td>\n",
       "      <td>NaN</td>\n",
       "      <td>NaN</td>\n",
       "      <td>NaN</td>\n",
       "      <td>NaN</td>\n",
       "      <td>NaN</td>\n",
       "      <td>NaN</td>\n",
       "      <td>NaN</td>\n",
       "      <td>1.0</td>\n",
       "      <td>1.0</td>\n",
       "    </tr>\n",
       "    <tr>\n",
       "      <th>4</th>\n",
       "      <td>NaN</td>\n",
       "      <td>1.0</td>\n",
       "      <td>NaN</td>\n",
       "      <td>NaN</td>\n",
       "      <td>1.0</td>\n",
       "      <td>1.0</td>\n",
       "      <td>NaN</td>\n",
       "      <td>NaN</td>\n",
       "      <td>NaN</td>\n",
       "      <td>NaN</td>\n",
       "      <td>...</td>\n",
       "      <td>NaN</td>\n",
       "      <td>NaN</td>\n",
       "      <td>NaN</td>\n",
       "      <td>NaN</td>\n",
       "      <td>NaN</td>\n",
       "      <td>NaN</td>\n",
       "      <td>NaN</td>\n",
       "      <td>NaN</td>\n",
       "      <td>1.0</td>\n",
       "      <td>1.0</td>\n",
       "    </tr>\n",
       "  </tbody>\n",
       "</table>\n",
       "<p>5 rows × 22 columns</p>\n",
       "</div>"
      ],
      "text/plain": [
       "  Constructor  Cabin_Staff_Service  Lounge_Staff_Service  Bar_And_Beverages  \\\n",
       "0     Embraer                  2.0                   NaN                NaN   \n",
       "1     Embraer                  1.0                   NaN                NaN   \n",
       "2         NaN                  1.0                   NaN                NaN   \n",
       "3         NaN                  1.0                   NaN                NaN   \n",
       "4         NaN                  1.0                   NaN                NaN   \n",
       "\n",
       "   Food_And_Beverages  Ground_Service  Catering  Cleanliness  Lounge_Comfort  \\\n",
       "0                 1.0             1.0       NaN          NaN             NaN   \n",
       "1                 1.0             1.0       NaN          NaN             NaN   \n",
       "2                 NaN             1.0       NaN          NaN             NaN   \n",
       "3                 1.0             1.0       NaN          NaN             NaN   \n",
       "4                 1.0             1.0       NaN          NaN             NaN   \n",
       "\n",
       "   Aisle_Space           ...             Viewing_Tv_Screen  Power_Supply  \\\n",
       "0          NaN           ...                           NaN           NaN   \n",
       "1          NaN           ...                           NaN           NaN   \n",
       "2          NaN           ...                           NaN           NaN   \n",
       "3          NaN           ...                           NaN           NaN   \n",
       "4          NaN           ...                           NaN           NaN   \n",
       "\n",
       "   Seat  Seat_Legroom Seat_Storage  Seat_Recline  Seat_Width  Washrooms  \\\n",
       "0   NaN           NaN          NaN           NaN         NaN        NaN   \n",
       "1   NaN           NaN          NaN           NaN         NaN        NaN   \n",
       "2   NaN           NaN          NaN           NaN         NaN        NaN   \n",
       "3   NaN           NaN          NaN           NaN         NaN        NaN   \n",
       "4   NaN           NaN          NaN           NaN         NaN        NaN   \n",
       "\n",
       "   Value_For_Money  Overall_Customer_Rating  \n",
       "0              2.0                      1.0  \n",
       "1              2.0                      1.0  \n",
       "2              1.0                      1.0  \n",
       "3              1.0                      1.0  \n",
       "4              1.0                      1.0  \n",
       "\n",
       "[5 rows x 22 columns]"
      ]
     },
     "execution_count": 65,
     "metadata": {},
     "output_type": "execute_result"
    }
   ],
   "source": [
    "notes_data.head()"
   ]
  },
  {
   "cell_type": "code",
   "execution_count": 66,
   "metadata": {
    "ExecuteTime": {
     "end_time": "2020-01-15T10:26:14.960894Z",
     "start_time": "2020-01-15T10:26:14.921340Z"
    },
    "hidden": true
   },
   "outputs": [],
   "source": [
    "notes_data = notes_data.groupby('Constructor').mean()\n",
    "notes_data = notes_data.reset_index()"
   ]
  },
  {
   "cell_type": "code",
   "execution_count": 67,
   "metadata": {
    "ExecuteTime": {
     "end_time": "2020-01-15T10:26:15.513785Z",
     "start_time": "2020-01-15T10:26:15.511596Z"
    },
    "hidden": true
   },
   "outputs": [],
   "source": [
    "# Constructor name\n",
    "label = notes_data['Constructor']"
   ]
  },
  {
   "cell_type": "markdown",
   "metadata": {
    "hidden": true
   },
   "source": [
    "Selection of notes columns"
   ]
  },
  {
   "cell_type": "code",
   "execution_count": 68,
   "metadata": {
    "ExecuteTime": {
     "end_time": "2020-01-15T10:26:16.458941Z",
     "start_time": "2020-01-15T10:26:16.453102Z"
    },
    "hidden": true
   },
   "outputs": [],
   "source": [
    "# We only keep columns without NaN\n",
    "constructACP = notes_data.dropna(axis='columns', how='any')\n",
    "constructACP = constructACP.iloc[:, 1:15]"
   ]
  },
  {
   "cell_type": "markdown",
   "metadata": {
    "hidden": true
   },
   "source": [
    "Number of individuals"
   ]
  },
  {
   "cell_type": "code",
   "execution_count": 70,
   "metadata": {
    "ExecuteTime": {
     "end_time": "2020-01-15T10:26:20.834213Z",
     "start_time": "2020-01-15T10:26:20.827945Z"
    },
    "hidden": true
   },
   "outputs": [
    {
     "data": {
      "text/plain": [
       "7"
      ]
     },
     "execution_count": 70,
     "metadata": {},
     "output_type": "execute_result"
    }
   ],
   "source": [
    "n = constructACP.shape[0]\n",
    "n"
   ]
  },
  {
   "cell_type": "markdown",
   "metadata": {
    "hidden": true
   },
   "source": [
    "Number of variables"
   ]
  },
  {
   "cell_type": "code",
   "execution_count": 71,
   "metadata": {
    "ExecuteTime": {
     "end_time": "2020-01-15T10:26:21.629382Z",
     "start_time": "2020-01-15T10:26:21.626266Z"
    },
    "hidden": true
   },
   "outputs": [
    {
     "data": {
      "text/plain": [
       "7"
      ]
     },
     "execution_count": 71,
     "metadata": {},
     "output_type": "execute_result"
    }
   ],
   "source": [
    "p = constructACP.shape[1]\n",
    "p"
   ]
  },
  {
   "cell_type": "markdown",
   "metadata": {
    "hidden": true
   },
   "source": [
    "Data normalisation"
   ]
  },
  {
   "cell_type": "code",
   "execution_count": 72,
   "metadata": {
    "ExecuteTime": {
     "end_time": "2020-01-15T10:26:28.942641Z",
     "start_time": "2020-01-15T10:26:28.938966Z"
    },
    "hidden": true
   },
   "outputs": [],
   "source": [
    "sc = StandardScaler()\n",
    "constructCR = sc.fit_transform(constructACP)"
   ]
  },
  {
   "cell_type": "markdown",
   "metadata": {
    "hidden": true
   },
   "source": [
    "Instanciation"
   ]
  },
  {
   "cell_type": "code",
   "execution_count": 73,
   "metadata": {
    "ExecuteTime": {
     "end_time": "2020-01-15T10:29:06.670819Z",
     "start_time": "2020-01-15T10:29:06.668766Z"
    },
    "hidden": true
   },
   "outputs": [],
   "source": [
    "acpConstruct = PCA(svd_solver='full')"
   ]
  },
  {
   "cell_type": "markdown",
   "metadata": {
    "heading_collapsed": true,
    "hidden": true
   },
   "source": [
    "### Calcul of coordinates"
   ]
  },
  {
   "cell_type": "markdown",
   "metadata": {
    "hidden": true
   },
   "source": [
    "Coordinates"
   ]
  },
  {
   "cell_type": "code",
   "execution_count": 74,
   "metadata": {
    "ExecuteTime": {
     "end_time": "2020-01-15T10:29:08.151155Z",
     "start_time": "2020-01-15T10:29:08.148556Z"
    },
    "hidden": true
   },
   "outputs": [],
   "source": [
    "coord = acpConstruct.fit_transform(constructCR)"
   ]
  },
  {
   "cell_type": "markdown",
   "metadata": {
    "hidden": true
   },
   "source": [
    "Proportion explained variance"
   ]
  },
  {
   "cell_type": "code",
   "execution_count": 75,
   "metadata": {
    "ExecuteTime": {
     "end_time": "2020-01-15T10:29:09.094774Z",
     "start_time": "2020-01-15T10:29:09.088123Z"
    },
    "hidden": true
   },
   "outputs": [
    {
     "data": {
      "text/plain": [
       "array([6.37560422e-01, 3.13852580e-01, 3.62754653e-02, 1.13950522e-02,\n",
       "       8.43604409e-04, 7.28762186e-05, 3.93824404e-34])"
      ]
     },
     "execution_count": 75,
     "metadata": {},
     "output_type": "execute_result"
    }
   ],
   "source": [
    "acpConstruct.explained_variance_ratio_"
   ]
  },
  {
   "cell_type": "markdown",
   "metadata": {
    "hidden": true
   },
   "source": [
    "Eigen Values"
   ]
  },
  {
   "cell_type": "code",
   "execution_count": 76,
   "metadata": {
    "ExecuteTime": {
     "end_time": "2020-01-15T10:29:10.167167Z",
     "start_time": "2020-01-15T10:29:10.163828Z"
    },
    "hidden": true
   },
   "outputs": [
    {
     "data": {
      "text/plain": [
       "array([4.46292295e+00, 2.19696806e+00, 2.53928257e-01, 7.97653651e-02,\n",
       "       5.90523086e-03, 5.10133530e-04, 2.75677083e-33])"
      ]
     },
     "execution_count": 76,
     "metadata": {},
     "output_type": "execute_result"
    }
   ],
   "source": [
    "eigval = ((n-1)/n)*acpConstruct.explained_variance_\n",
    "eigval"
   ]
  },
  {
   "cell_type": "code",
   "execution_count": 77,
   "metadata": {
    "ExecuteTime": {
     "end_time": "2020-01-15T10:29:11.096977Z",
     "start_time": "2020-01-15T10:29:10.985888Z"
    },
    "hidden": true
   },
   "outputs": [
    {
     "data": {
      "image/png": "[encoded data removed]",
      "text/plain": [
       "<Figure size 432x288 with 1 Axes>"
      ]
     },
     "metadata": {
      "needs_background": "light"
     },
     "output_type": "display_data"
    }
   ],
   "source": [
    "# Display of eigen values\n",
    "\n",
    "plt.plot(np.arange(1, p+1), eigval)\n",
    "plt.title (\"Display of eigen values\")\n",
    "plt.show()"
   ]
  },
  {
   "cell_type": "markdown",
   "metadata": {
    "heading_collapsed": true,
    "hidden": true
   },
   "source": [
    "### Display of Constructors in the first plan"
   ]
  },
  {
   "cell_type": "code",
   "execution_count": 78,
   "metadata": {
    "ExecuteTime": {
     "end_time": "2020-01-15T10:29:17.169011Z",
     "start_time": "2020-01-15T10:29:17.042896Z"
    },
    "hidden": true
   },
   "outputs": [
    {
     "data": {
      "image/png": "[encoded data removed]",
      "text/plain": [
       "<Figure size 360x360 with 1 Axes>"
      ]
     },
     "metadata": {
      "needs_background": "light"
     },
     "output_type": "display_data"
    }
   ],
   "source": [
    "fig = plt.figure(figsize=(5, 5))\n",
    "\n",
    "for i in range(n):\n",
    "    x = coord[i, 0]\n",
    "    y = coord[i, 1]\n",
    "    plt.scatter(x, y)\n",
    "    plt.text(x, y, label.iloc[i])\n",
    "\n",
    "    plt.title (\"Display of the constructors in the first plan\")\n",
    "plt.show()"
   ]
  },
  {
   "cell_type": "markdown",
   "metadata": {
    "hidden": true
   },
   "source": [
    "Quality of individuals corelations"
   ]
  },
  {
   "cell_type": "code",
   "execution_count": 79,
   "metadata": {
    "ExecuteTime": {
     "end_time": "2020-01-15T10:29:19.684692Z",
     "start_time": "2020-01-15T10:29:19.674689Z"
    },
    "hidden": true
   },
   "outputs": [
    {
     "data": {
      "text/html": [
       "<div>\n",
       "<style scoped>\n",
       "    .dataframe tbody tr th:only-of-type {\n",
       "        vertical-align: middle;\n",
       "    }\n",
       "\n",
       "    .dataframe tbody tr th {\n",
       "        vertical-align: top;\n",
       "    }\n",
       "\n",
       "    .dataframe thead th {\n",
       "        text-align: right;\n",
       "    }\n",
       "</style>\n",
       "<table border=\"1\" class=\"dataframe\">\n",
       "  <thead>\n",
       "    <tr style=\"text-align: right;\">\n",
       "      <th></th>\n",
       "      <th>id</th>\n",
       "      <th>COS2_1</th>\n",
       "      <th>COS2_2</th>\n",
       "    </tr>\n",
       "  </thead>\n",
       "  <tbody>\n",
       "    <tr>\n",
       "      <th>0</th>\n",
       "      <td>Airbus</td>\n",
       "      <td>0.844975</td>\n",
       "      <td>0.134899</td>\n",
       "    </tr>\n",
       "    <tr>\n",
       "      <th>1</th>\n",
       "      <td>Boeing</td>\n",
       "      <td>0.841465</td>\n",
       "      <td>0.137048</td>\n",
       "    </tr>\n",
       "    <tr>\n",
       "      <th>2</th>\n",
       "      <td>Bombardier</td>\n",
       "      <td>0.765375</td>\n",
       "      <td>0.016484</td>\n",
       "    </tr>\n",
       "    <tr>\n",
       "      <th>3</th>\n",
       "      <td>Embraer</td>\n",
       "      <td>0.902994</td>\n",
       "      <td>0.050282</td>\n",
       "    </tr>\n",
       "    <tr>\n",
       "      <th>4</th>\n",
       "      <td>Fokker</td>\n",
       "      <td>0.885683</td>\n",
       "      <td>0.001159</td>\n",
       "    </tr>\n",
       "    <tr>\n",
       "      <th>5</th>\n",
       "      <td>Mac Donnell</td>\n",
       "      <td>0.815000</td>\n",
       "      <td>0.143656</td>\n",
       "    </tr>\n",
       "    <tr>\n",
       "      <th>6</th>\n",
       "      <td>Saab</td>\n",
       "      <td>0.004418</td>\n",
       "      <td>0.984928</td>\n",
       "    </tr>\n",
       "  </tbody>\n",
       "</table>\n",
       "</div>"
      ],
      "text/plain": [
       "            id    COS2_1    COS2_2\n",
       "0       Airbus  0.844975  0.134899\n",
       "1       Boeing  0.841465  0.137048\n",
       "2   Bombardier  0.765375  0.016484\n",
       "3      Embraer  0.902994  0.050282\n",
       "4       Fokker  0.885683  0.001159\n",
       "5  Mac Donnell  0.815000  0.143656\n",
       "6         Saab  0.004418  0.984928"
      ]
     },
     "execution_count": 79,
     "metadata": {},
     "output_type": "execute_result"
    }
   ],
   "source": [
    "# Contribution des individus dans l'inertie totale\n",
    "di = np.sum(constructCR**2, axis=1)\n",
    "pd.DataFrame({'ID': label, 'd_i': di})\n",
    "\n",
    "# Quality of individuals corelations\n",
    "cos2 = coord**2\n",
    "for j in range(p):\n",
    "    cos2[:, j] = cos2[:, j]/di\n",
    "\n",
    "pd.DataFrame(\n",
    "    {'id': label, 'COS2_1': cos2[:, 0], 'COS2_2': cos2[:, 1]})"
   ]
  },
  {
   "cell_type": "markdown",
   "metadata": {
    "heading_collapsed": true,
    "hidden": true
   },
   "source": [
    "### Display of the correlation circle"
   ]
  },
  {
   "cell_type": "markdown",
   "metadata": {
    "hidden": true
   },
   "source": [
    "Corelation of variables on the first plan"
   ]
  },
  {
   "cell_type": "code",
   "execution_count": 80,
   "metadata": {
    "ExecuteTime": {
     "end_time": "2020-01-15T10:29:22.027667Z",
     "start_time": "2020-01-15T10:29:22.015825Z"
    },
    "hidden": true
   },
   "outputs": [
    {
     "data": {
      "text/html": [
       "<div>\n",
       "<style scoped>\n",
       "    .dataframe tbody tr th:only-of-type {\n",
       "        vertical-align: middle;\n",
       "    }\n",
       "\n",
       "    .dataframe tbody tr th {\n",
       "        vertical-align: top;\n",
       "    }\n",
       "\n",
       "    .dataframe thead th {\n",
       "        text-align: right;\n",
       "    }\n",
       "</style>\n",
       "<table border=\"1\" class=\"dataframe\">\n",
       "  <thead>\n",
       "    <tr style=\"text-align: right;\">\n",
       "      <th></th>\n",
       "      <th>id</th>\n",
       "      <th>COR_1</th>\n",
       "      <th>COR_2</th>\n",
       "    </tr>\n",
       "  </thead>\n",
       "  <tbody>\n",
       "    <tr>\n",
       "      <th>0</th>\n",
       "      <td>Airbus</td>\n",
       "      <td>-0.805135</td>\n",
       "      <td>0.589995</td>\n",
       "    </tr>\n",
       "    <tr>\n",
       "      <th>1</th>\n",
       "      <td>Boeing</td>\n",
       "      <td>-0.794973</td>\n",
       "      <td>0.594168</td>\n",
       "    </tr>\n",
       "    <tr>\n",
       "      <th>2</th>\n",
       "      <td>Bombardier</td>\n",
       "      <td>-0.920470</td>\n",
       "      <td>0.359358</td>\n",
       "    </tr>\n",
       "    <tr>\n",
       "      <th>3</th>\n",
       "      <td>Embraer</td>\n",
       "      <td>-0.605053</td>\n",
       "      <td>-0.719371</td>\n",
       "    </tr>\n",
       "    <tr>\n",
       "      <th>4</th>\n",
       "      <td>Fokker</td>\n",
       "      <td>-0.570760</td>\n",
       "      <td>-0.791943</td>\n",
       "    </tr>\n",
       "    <tr>\n",
       "      <th>5</th>\n",
       "      <td>Mac Donnell</td>\n",
       "      <td>-0.994692</td>\n",
       "      <td>-0.009911</td>\n",
       "    </tr>\n",
       "    <tr>\n",
       "      <th>6</th>\n",
       "      <td>Saab</td>\n",
       "      <td>-0.808804</td>\n",
       "      <td>-0.471098</td>\n",
       "    </tr>\n",
       "  </tbody>\n",
       "</table>\n",
       "</div>"
      ],
      "text/plain": [
       "            id     COR_1     COR_2\n",
       "0       Airbus -0.805135  0.589995\n",
       "1       Boeing -0.794973  0.594168\n",
       "2   Bombardier -0.920470  0.359358\n",
       "3      Embraer -0.605053 -0.719371\n",
       "4       Fokker -0.570760 -0.791943\n",
       "5  Mac Donnell -0.994692 -0.009911\n",
       "6         Saab -0.808804 -0.471098"
      ]
     },
     "execution_count": 80,
     "metadata": {},
     "output_type": "execute_result"
    }
   ],
   "source": [
    "sqrt_eigval = np.sqrt(eigval)\n",
    "\n",
    "# Corelation of variables with axis\n",
    "corvar = np.zeros((p, p))\n",
    "\n",
    "for k in range(p):\n",
    "    corvar[:, k] = acpConstruct.components_[k, :] * sqrt_eigval[k]\n",
    "    \n",
    "# Coordinates of variables on the first plan\n",
    "pd.DataFrame(\n",
    "    {'id': label, 'COR_1': corvar[:, 0], 'COR_2': corvar[:, 1]})"
   ]
  },
  {
   "cell_type": "code",
   "execution_count": 82,
   "metadata": {
    "ExecuteTime": {
     "end_time": "2020-01-15T10:30:27.094742Z",
     "start_time": "2020-01-15T10:30:26.937393Z"
    },
    "hidden": true
   },
   "outputs": [
    {
     "data": {
      "image/png": "[encoded data removed]",
      "text/plain": [
       "<Figure size 720x720 with 1 Axes>"
      ]
     },
     "metadata": {
      "needs_background": "light"
     },
     "output_type": "display_data"
    }
   ],
   "source": [
    "fig, axes = plt.subplots(figsize=(10, 10))\n",
    "axes.set_xlim(-1, 1)\n",
    "axes.set_ylim(-1, 1)\n",
    "\n",
    "for j in range(p):\n",
    "    x = corvar[j, 0]\n",
    "    y = corvar[j, 1]\n",
    "    plt.scatter(x, y)\n",
    "    plt.text(x, y, constructACP.columns[j])\n",
    "\n",
    "cercle = plt.Circle((0, 0), 1, color='blue', fill=False)\n",
    "axes.add_artist(cercle)\n",
    "\n",
    "plt.title(\"Display of the correlation circle\")\n",
    "plt.show()"
   ]
  },
  {
   "cell_type": "markdown",
   "metadata": {
    "heading_collapsed": true,
    "hidden": true
   },
   "source": [
    "### Interpretation"
   ]
  },
  {
   "cell_type": "markdown",
   "metadata": {
    "hidden": true
   },
   "source": [
    "In avegrage, we can see that Airbus and Boeing are two constructors very similars. Moreover, Saab constructor has higher rates on Food_And_Beverages and Cabin_Staff_Service than Bombardier, Embraer, Airbus and Boeing. These last ones have higher rates in entertainment.\n",
    "The constructors which have the best rates on Seat_Comfort are Embraer and Bombardier.\n",
    "\n",
    "Furthermore, we can see a correlation between Wifi_And_Connectivity and Inflight_Entertainment variables which makes sens.\n",
    "\n",
    "However, maybe this PCA is not relevant because only Seat_Comfort is linked to Constructors. Cabin_Staff_Service or Food_And_Beverages are not linked to Constructors but to Airlines companies."
   ]
  },
  {
   "cell_type": "markdown",
   "metadata": {
    "heading_collapsed": true
   },
   "source": [
    "# Similarity of word distributions"
   ]
  },
  {
   "cell_type": "markdown",
   "metadata": {
    "hidden": true
   },
   "source": [
    "At the request of group 4, we had to carry out an analysis on the similarities between the distributions of 3 corpuses corresponding to 3 data files. The goal was to determine if it is possible to use the same learning algorithm for the different data sources wich are ALL_DATA_ANNOTATE, OTHERS_DATA_ANNOTATE and TWITTER. \n",
    "\n",
    "To do this, we first looked at the distribution of word density, then in a second step, we calculated the spearman correlation coefficient which allows us to look at the distribution of the data in relation to the rank of the words in the corpus (rank obtained thanks to the mean of the tf)."
   ]
  },
  {
   "cell_type": "markdown",
   "metadata": {
    "heading_collapsed": true,
    "hidden": true
   },
   "source": [
    "## Data visualization"
   ]
  },
  {
   "cell_type": "markdown",
   "metadata": {
    "hidden": true
   },
   "source": [
    "Shape of DataFrames"
   ]
  },
  {
   "cell_type": "code",
   "execution_count": 84,
   "metadata": {
    "ExecuteTime": {
     "end_time": "2020-01-15T12:42:54.600909Z",
     "start_time": "2020-01-15T12:42:54.598335Z"
    },
    "hidden": true
   },
   "outputs": [
    {
     "data": {
      "text/plain": [
       "(3647, 968)"
      ]
     },
     "execution_count": 84,
     "metadata": {},
     "output_type": "execute_result"
    }
   ],
   "source": [
    "tf_annotate.shape"
   ]
  },
  {
   "cell_type": "code",
   "execution_count": 85,
   "metadata": {
    "ExecuteTime": {
     "end_time": "2020-01-15T12:43:18.111951Z",
     "start_time": "2020-01-15T12:43:18.108128Z"
    },
    "hidden": true
   },
   "outputs": [
    {
     "data": {
      "text/plain": [
       "(2380, 1260)"
      ]
     },
     "execution_count": 85,
     "metadata": {},
     "output_type": "execute_result"
    }
   ],
   "source": [
    "tf_others_annotate.shape"
   ]
  },
  {
   "cell_type": "code",
   "execution_count": 86,
   "metadata": {
    "ExecuteTime": {
     "end_time": "2020-01-15T12:43:53.536003Z",
     "start_time": "2020-01-15T12:43:53.531685Z"
    },
    "hidden": true
   },
   "outputs": [
    {
     "data": {
      "text/plain": [
       "(17667, 5323)"
      ]
     },
     "execution_count": 86,
     "metadata": {},
     "output_type": "execute_result"
    }
   ],
   "source": [
    "tf_twitter.shape"
   ]
  },
  {
   "cell_type": "markdown",
   "metadata": {
    "hidden": true
   },
   "source": [
    "Head of DataFrames"
   ]
  },
  {
   "cell_type": "code",
   "execution_count": 87,
   "metadata": {
    "ExecuteTime": {
     "end_time": "2020-01-15T12:53:24.638258Z",
     "start_time": "2020-01-15T12:53:24.625852Z"
    },
    "hidden": true,
    "scrolled": true
   },
   "outputs": [
    {
     "data": {
      "text/html": [
       "<div>\n",
       "<style scoped>\n",
       "    .dataframe tbody tr th:only-of-type {\n",
       "        vertical-align: middle;\n",
       "    }\n",
       "\n",
       "    .dataframe tbody tr th {\n",
       "        vertical-align: top;\n",
       "    }\n",
       "\n",
       "    .dataframe thead th {\n",
       "        text-align: right;\n",
       "    }\n",
       "</style>\n",
       "<table border=\"1\" class=\"dataframe\">\n",
       "  <thead>\n",
       "    <tr style=\"text-align: right;\">\n",
       "      <th></th>\n",
       "      <th>index</th>\n",
       "      <th>commentaire</th>\n",
       "      <th>100</th>\n",
       "      <th>10a</th>\n",
       "      <th>180</th>\n",
       "      <th>190</th>\n",
       "      <th>1hr</th>\n",
       "      <th>1st</th>\n",
       "      <th>200</th>\n",
       "      <th>2013</th>\n",
       "      <th>...</th>\n",
       "      <th>worry</th>\n",
       "      <th>worth</th>\n",
       "      <th>wouldn</th>\n",
       "      <th>year</th>\n",
       "      <th>yes</th>\n",
       "      <th>york</th>\n",
       "      <th>young</th>\n",
       "      <th>zealand</th>\n",
       "      <th>zero</th>\n",
       "      <th>zurich</th>\n",
       "    </tr>\n",
       "  </thead>\n",
       "  <tbody>\n",
       "    <tr>\n",
       "      <th>0</th>\n",
       "      <td>0</td>\n",
       "      <td>excellent flight way adria airway manchester l...</td>\n",
       "      <td>0</td>\n",
       "      <td>0</td>\n",
       "      <td>0</td>\n",
       "      <td>0</td>\n",
       "      <td>0</td>\n",
       "      <td>0</td>\n",
       "      <td>0</td>\n",
       "      <td>0</td>\n",
       "      <td>...</td>\n",
       "      <td>0</td>\n",
       "      <td>0</td>\n",
       "      <td>0</td>\n",
       "      <td>0</td>\n",
       "      <td>0</td>\n",
       "      <td>0</td>\n",
       "      <td>0</td>\n",
       "      <td>0</td>\n",
       "      <td>0</td>\n",
       "      <td>0</td>\n",
       "    </tr>\n",
       "    <tr>\n",
       "      <th>1</th>\n",
       "      <td>5</td>\n",
       "      <td>impressed pleasant attitude responsive service...</td>\n",
       "      <td>0</td>\n",
       "      <td>0</td>\n",
       "      <td>0</td>\n",
       "      <td>0</td>\n",
       "      <td>0</td>\n",
       "      <td>0</td>\n",
       "      <td>0</td>\n",
       "      <td>0</td>\n",
       "      <td>...</td>\n",
       "      <td>0</td>\n",
       "      <td>0</td>\n",
       "      <td>0</td>\n",
       "      <td>0</td>\n",
       "      <td>0</td>\n",
       "      <td>0</td>\n",
       "      <td>0</td>\n",
       "      <td>0</td>\n",
       "      <td>0</td>\n",
       "      <td>0</td>\n",
       "    </tr>\n",
       "    <tr>\n",
       "      <th>2</th>\n",
       "      <td>8</td>\n",
       "      <td>good flight nice offer hot meal arn ath leg co...</td>\n",
       "      <td>0</td>\n",
       "      <td>0</td>\n",
       "      <td>0</td>\n",
       "      <td>0</td>\n",
       "      <td>0</td>\n",
       "      <td>0</td>\n",
       "      <td>0</td>\n",
       "      <td>0</td>\n",
       "      <td>...</td>\n",
       "      <td>0</td>\n",
       "      <td>0</td>\n",
       "      <td>0</td>\n",
       "      <td>0</td>\n",
       "      <td>0</td>\n",
       "      <td>0</td>\n",
       "      <td>0</td>\n",
       "      <td>0</td>\n",
       "      <td>0</td>\n",
       "      <td>0</td>\n",
       "    </tr>\n",
       "    <tr>\n",
       "      <th>3</th>\n",
       "      <td>12</td>\n",
       "      <td>fly athens rhodes week ago fantastic airline s...</td>\n",
       "      <td>0</td>\n",
       "      <td>0</td>\n",
       "      <td>0</td>\n",
       "      <td>0</td>\n",
       "      <td>0</td>\n",
       "      <td>0</td>\n",
       "      <td>0</td>\n",
       "      <td>0</td>\n",
       "      <td>...</td>\n",
       "      <td>0</td>\n",
       "      <td>0</td>\n",
       "      <td>0</td>\n",
       "      <td>0</td>\n",
       "      <td>0</td>\n",
       "      <td>0</td>\n",
       "      <td>0</td>\n",
       "      <td>0</td>\n",
       "      <td>0</td>\n",
       "      <td>0</td>\n",
       "    </tr>\n",
       "    <tr>\n",
       "      <th>4</th>\n",
       "      <td>13</td>\n",
       "      <td>staff excellent customer service orient meal g...</td>\n",
       "      <td>0</td>\n",
       "      <td>0</td>\n",
       "      <td>0</td>\n",
       "      <td>0</td>\n",
       "      <td>0</td>\n",
       "      <td>0</td>\n",
       "      <td>0</td>\n",
       "      <td>0</td>\n",
       "      <td>...</td>\n",
       "      <td>0</td>\n",
       "      <td>0</td>\n",
       "      <td>0</td>\n",
       "      <td>0</td>\n",
       "      <td>0</td>\n",
       "      <td>0</td>\n",
       "      <td>0</td>\n",
       "      <td>0</td>\n",
       "      <td>0</td>\n",
       "      <td>0</td>\n",
       "    </tr>\n",
       "  </tbody>\n",
       "</table>\n",
       "<p>5 rows × 968 columns</p>\n",
       "</div>"
      ],
      "text/plain": [
       "   index                                        commentaire  100  10a  180  \\\n",
       "0      0  excellent flight way adria airway manchester l...    0    0    0   \n",
       "1      5  impressed pleasant attitude responsive service...    0    0    0   \n",
       "2      8  good flight nice offer hot meal arn ath leg co...    0    0    0   \n",
       "3     12  fly athens rhodes week ago fantastic airline s...    0    0    0   \n",
       "4     13  staff excellent customer service orient meal g...    0    0    0   \n",
       "\n",
       "   190  1hr  1st  200  2013   ...    worry  worth  wouldn  year  yes  york  \\\n",
       "0    0    0    0    0     0   ...        0      0       0     0    0     0   \n",
       "1    0    0    0    0     0   ...        0      0       0     0    0     0   \n",
       "2    0    0    0    0     0   ...        0      0       0     0    0     0   \n",
       "3    0    0    0    0     0   ...        0      0       0     0    0     0   \n",
       "4    0    0    0    0     0   ...        0      0       0     0    0     0   \n",
       "\n",
       "   young  zealand  zero  zurich  \n",
       "0      0        0     0       0  \n",
       "1      0        0     0       0  \n",
       "2      0        0     0       0  \n",
       "3      0        0     0       0  \n",
       "4      0        0     0       0  \n",
       "\n",
       "[5 rows x 968 columns]"
      ]
     },
     "execution_count": 87,
     "metadata": {},
     "output_type": "execute_result"
    }
   ],
   "source": [
    "tf_annotate.head()"
   ]
  },
  {
   "cell_type": "code",
   "execution_count": 88,
   "metadata": {
    "ExecuteTime": {
     "end_time": "2020-01-15T12:53:36.442056Z",
     "start_time": "2020-01-15T12:53:36.428851Z"
    },
    "hidden": true
   },
   "outputs": [
    {
     "data": {
      "text/html": [
       "<div>\n",
       "<style scoped>\n",
       "    .dataframe tbody tr th:only-of-type {\n",
       "        vertical-align: middle;\n",
       "    }\n",
       "\n",
       "    .dataframe tbody tr th {\n",
       "        vertical-align: top;\n",
       "    }\n",
       "\n",
       "    .dataframe thead th {\n",
       "        text-align: right;\n",
       "    }\n",
       "</style>\n",
       "<table border=\"1\" class=\"dataframe\">\n",
       "  <thead>\n",
       "    <tr style=\"text-align: right;\">\n",
       "      <th></th>\n",
       "      <th>index</th>\n",
       "      <th>commentaire</th>\n",
       "      <th>100</th>\n",
       "      <th>180</th>\n",
       "      <th>1hr</th>\n",
       "      <th>1st</th>\n",
       "      <th>200</th>\n",
       "      <th>2017</th>\n",
       "      <th>2018</th>\n",
       "      <th>2nd</th>\n",
       "      <th>...</th>\n",
       "      <th>wouldn</th>\n",
       "      <th>wrap</th>\n",
       "      <th>write</th>\n",
       "      <th>wrong</th>\n",
       "      <th>year</th>\n",
       "      <th>yes</th>\n",
       "      <th>young</th>\n",
       "      <th>zealand</th>\n",
       "      <th>zero</th>\n",
       "      <th>zone</th>\n",
       "    </tr>\n",
       "  </thead>\n",
       "  <tbody>\n",
       "    <tr>\n",
       "      <th>0</th>\n",
       "      <td>0</td>\n",
       "      <td>crew nice helpful</td>\n",
       "      <td>0</td>\n",
       "      <td>0</td>\n",
       "      <td>0</td>\n",
       "      <td>0</td>\n",
       "      <td>0</td>\n",
       "      <td>0</td>\n",
       "      <td>0</td>\n",
       "      <td>0</td>\n",
       "      <td>...</td>\n",
       "      <td>0</td>\n",
       "      <td>0</td>\n",
       "      <td>0</td>\n",
       "      <td>0</td>\n",
       "      <td>0</td>\n",
       "      <td>0</td>\n",
       "      <td>0</td>\n",
       "      <td>0</td>\n",
       "      <td>0</td>\n",
       "      <td>0</td>\n",
       "    </tr>\n",
       "    <tr>\n",
       "      <th>1</th>\n",
       "      <td>1</td>\n",
       "      <td>upgrade business husband cabin economy love sp...</td>\n",
       "      <td>0</td>\n",
       "      <td>0</td>\n",
       "      <td>0</td>\n",
       "      <td>0</td>\n",
       "      <td>0</td>\n",
       "      <td>0</td>\n",
       "      <td>0</td>\n",
       "      <td>0</td>\n",
       "      <td>...</td>\n",
       "      <td>0</td>\n",
       "      <td>0</td>\n",
       "      <td>0</td>\n",
       "      <td>0</td>\n",
       "      <td>0</td>\n",
       "      <td>0</td>\n",
       "      <td>0</td>\n",
       "      <td>0</td>\n",
       "      <td>0</td>\n",
       "      <td>0</td>\n",
       "    </tr>\n",
       "    <tr>\n",
       "      <th>2</th>\n",
       "      <td>2</td>\n",
       "      <td>business seat tight tray table fall time man s...</td>\n",
       "      <td>0</td>\n",
       "      <td>0</td>\n",
       "      <td>0</td>\n",
       "      <td>0</td>\n",
       "      <td>0</td>\n",
       "      <td>0</td>\n",
       "      <td>0</td>\n",
       "      <td>0</td>\n",
       "      <td>...</td>\n",
       "      <td>0</td>\n",
       "      <td>0</td>\n",
       "      <td>0</td>\n",
       "      <td>0</td>\n",
       "      <td>0</td>\n",
       "      <td>0</td>\n",
       "      <td>0</td>\n",
       "      <td>0</td>\n",
       "      <td>0</td>\n",
       "      <td>0</td>\n",
       "    </tr>\n",
       "    <tr>\n",
       "      <th>3</th>\n",
       "      <td>3</td>\n",
       "      <td>suck allow suitcase understand</td>\n",
       "      <td>0</td>\n",
       "      <td>0</td>\n",
       "      <td>0</td>\n",
       "      <td>0</td>\n",
       "      <td>0</td>\n",
       "      <td>0</td>\n",
       "      <td>0</td>\n",
       "      <td>0</td>\n",
       "      <td>...</td>\n",
       "      <td>0</td>\n",
       "      <td>0</td>\n",
       "      <td>0</td>\n",
       "      <td>0</td>\n",
       "      <td>0</td>\n",
       "      <td>0</td>\n",
       "      <td>0</td>\n",
       "      <td>0</td>\n",
       "      <td>0</td>\n",
       "      <td>0</td>\n",
       "    </tr>\n",
       "    <tr>\n",
       "      <th>4</th>\n",
       "      <td>4</td>\n",
       "      <td>mayonnaise sandwich taste</td>\n",
       "      <td>0</td>\n",
       "      <td>0</td>\n",
       "      <td>0</td>\n",
       "      <td>0</td>\n",
       "      <td>0</td>\n",
       "      <td>0</td>\n",
       "      <td>0</td>\n",
       "      <td>0</td>\n",
       "      <td>...</td>\n",
       "      <td>0</td>\n",
       "      <td>0</td>\n",
       "      <td>0</td>\n",
       "      <td>0</td>\n",
       "      <td>0</td>\n",
       "      <td>0</td>\n",
       "      <td>0</td>\n",
       "      <td>0</td>\n",
       "      <td>0</td>\n",
       "      <td>0</td>\n",
       "    </tr>\n",
       "  </tbody>\n",
       "</table>\n",
       "<p>5 rows × 1260 columns</p>\n",
       "</div>"
      ],
      "text/plain": [
       "   index                                        commentaire  100  180  1hr  \\\n",
       "0      0                                  crew nice helpful    0    0    0   \n",
       "1      1  upgrade business husband cabin economy love sp...    0    0    0   \n",
       "2      2  business seat tight tray table fall time man s...    0    0    0   \n",
       "3      3                     suck allow suitcase understand    0    0    0   \n",
       "4      4                          mayonnaise sandwich taste    0    0    0   \n",
       "\n",
       "   1st  200  2017  2018  2nd  ...   wouldn  wrap  write  wrong  year  yes  \\\n",
       "0    0    0     0     0    0  ...        0     0      0      0     0    0   \n",
       "1    0    0     0     0    0  ...        0     0      0      0     0    0   \n",
       "2    0    0     0     0    0  ...        0     0      0      0     0    0   \n",
       "3    0    0     0     0    0  ...        0     0      0      0     0    0   \n",
       "4    0    0     0     0    0  ...        0     0      0      0     0    0   \n",
       "\n",
       "   young  zealand  zero  zone  \n",
       "0      0        0     0     0  \n",
       "1      0        0     0     0  \n",
       "2      0        0     0     0  \n",
       "3      0        0     0     0  \n",
       "4      0        0     0     0  \n",
       "\n",
       "[5 rows x 1260 columns]"
      ]
     },
     "execution_count": 88,
     "metadata": {},
     "output_type": "execute_result"
    }
   ],
   "source": [
    "tf_others_annotate.head()"
   ]
  },
  {
   "cell_type": "code",
   "execution_count": 89,
   "metadata": {
    "ExecuteTime": {
     "end_time": "2020-01-15T12:53:44.612040Z",
     "start_time": "2020-01-15T12:53:44.599318Z"
    },
    "hidden": true
   },
   "outputs": [
    {
     "data": {
      "text/html": [
       "<div>\n",
       "<style scoped>\n",
       "    .dataframe tbody tr th:only-of-type {\n",
       "        vertical-align: middle;\n",
       "    }\n",
       "\n",
       "    .dataframe tbody tr th {\n",
       "        vertical-align: top;\n",
       "    }\n",
       "\n",
       "    .dataframe thead th {\n",
       "        text-align: right;\n",
       "    }\n",
       "</style>\n",
       "<table border=\"1\" class=\"dataframe\">\n",
       "  <thead>\n",
       "    <tr style=\"text-align: right;\">\n",
       "      <th></th>\n",
       "      <th>index</th>\n",
       "      <th>commentaire</th>\n",
       "      <th>000</th>\n",
       "      <th>000th</th>\n",
       "      <th>001</th>\n",
       "      <th>05r</th>\n",
       "      <th>06l</th>\n",
       "      <th>09l</th>\n",
       "      <th>09r</th>\n",
       "      <th>100</th>\n",
       "      <th>...</th>\n",
       "      <th>ðÿš</th>\n",
       "      <th>ðÿž</th>\n",
       "      <th>ðÿžˆ</th>\n",
       "      <th>œthe</th>\n",
       "      <th>œwe</th>\n",
       "      <th>œðÿ</th>\n",
       "      <th>šðÿ</th>\n",
       "      <th>žðÿ</th>\n",
       "      <th>ƒâœˆï</th>\n",
       "      <th>ƒðÿ</th>\n",
       "    </tr>\n",
       "  </thead>\n",
       "  <tbody>\n",
       "    <tr>\n",
       "      <th>0</th>\n",
       "      <td>(0, 0)</td>\n",
       "      <td>good news passenger prague route airbaltic inc...</td>\n",
       "      <td>0</td>\n",
       "      <td>0</td>\n",
       "      <td>0</td>\n",
       "      <td>0</td>\n",
       "      <td>0</td>\n",
       "      <td>0</td>\n",
       "      <td>0</td>\n",
       "      <td>0</td>\n",
       "      <td>...</td>\n",
       "      <td>0</td>\n",
       "      <td>0</td>\n",
       "      <td>0</td>\n",
       "      <td>0</td>\n",
       "      <td>0</td>\n",
       "      <td>0</td>\n",
       "      <td>0</td>\n",
       "      <td>0</td>\n",
       "      <td>0</td>\n",
       "      <td>0</td>\n",
       "    </tr>\n",
       "    <tr>\n",
       "      <th>1</th>\n",
       "      <td>(1, 0)</td>\n",
       "      <td>thank gtf mount kilimanjaro breathe easy weeke...</td>\n",
       "      <td>0</td>\n",
       "      <td>0</td>\n",
       "      <td>0</td>\n",
       "      <td>0</td>\n",
       "      <td>0</td>\n",
       "      <td>0</td>\n",
       "      <td>0</td>\n",
       "      <td>0</td>\n",
       "      <td>...</td>\n",
       "      <td>0</td>\n",
       "      <td>0</td>\n",
       "      <td>0</td>\n",
       "      <td>0</td>\n",
       "      <td>0</td>\n",
       "      <td>0</td>\n",
       "      <td>0</td>\n",
       "      <td>0</td>\n",
       "      <td>0</td>\n",
       "      <td>0</td>\n",
       "    </tr>\n",
       "    <tr>\n",
       "      <th>2</th>\n",
       "      <td>(2, 0)</td>\n",
       "      <td>sunbathe buchar csm airbus a220 300 effective ...</td>\n",
       "      <td>0</td>\n",
       "      <td>0</td>\n",
       "      <td>0</td>\n",
       "      <td>0</td>\n",
       "      <td>0</td>\n",
       "      <td>0</td>\n",
       "      <td>0</td>\n",
       "      <td>0</td>\n",
       "      <td>...</td>\n",
       "      <td>0</td>\n",
       "      <td>0</td>\n",
       "      <td>0</td>\n",
       "      <td>0</td>\n",
       "      <td>0</td>\n",
       "      <td>0</td>\n",
       "      <td>0</td>\n",
       "      <td>0</td>\n",
       "      <td>0</td>\n",
       "      <td>0</td>\n",
       "    </tr>\n",
       "    <tr>\n",
       "      <th>3</th>\n",
       "      <td>(3, 0)</td>\n",
       "      <td>today open long await airbaltic route riga dub...</td>\n",
       "      <td>0</td>\n",
       "      <td>0</td>\n",
       "      <td>0</td>\n",
       "      <td>0</td>\n",
       "      <td>0</td>\n",
       "      <td>0</td>\n",
       "      <td>0</td>\n",
       "      <td>0</td>\n",
       "      <td>...</td>\n",
       "      <td>0</td>\n",
       "      <td>0</td>\n",
       "      <td>0</td>\n",
       "      <td>0</td>\n",
       "      <td>0</td>\n",
       "      <td>0</td>\n",
       "      <td>0</td>\n",
       "      <td>0</td>\n",
       "      <td>0</td>\n",
       "      <td>0</td>\n",
       "    </tr>\n",
       "    <tr>\n",
       "      <th>4</th>\n",
       "      <td>(4, 0)</td>\n",
       "      <td>new airbaltic route riga dublin launch today t...</td>\n",
       "      <td>0</td>\n",
       "      <td>0</td>\n",
       "      <td>0</td>\n",
       "      <td>0</td>\n",
       "      <td>0</td>\n",
       "      <td>0</td>\n",
       "      <td>0</td>\n",
       "      <td>0</td>\n",
       "      <td>...</td>\n",
       "      <td>0</td>\n",
       "      <td>0</td>\n",
       "      <td>0</td>\n",
       "      <td>0</td>\n",
       "      <td>0</td>\n",
       "      <td>0</td>\n",
       "      <td>0</td>\n",
       "      <td>0</td>\n",
       "      <td>0</td>\n",
       "      <td>0</td>\n",
       "    </tr>\n",
       "  </tbody>\n",
       "</table>\n",
       "<p>5 rows × 5323 columns</p>\n",
       "</div>"
      ],
      "text/plain": [
       "    index                                        commentaire  000  000th  001  \\\n",
       "0  (0, 0)  good news passenger prague route airbaltic inc...    0      0    0   \n",
       "1  (1, 0)  thank gtf mount kilimanjaro breathe easy weeke...    0      0    0   \n",
       "2  (2, 0)  sunbathe buchar csm airbus a220 300 effective ...    0      0    0   \n",
       "3  (3, 0)  today open long await airbaltic route riga dub...    0      0    0   \n",
       "4  (4, 0)  new airbaltic route riga dublin launch today t...    0      0    0   \n",
       "\n",
       "   05r  06l  09l  09r  100 ...   ðÿš  ðÿž  ðÿžˆ  œthe  œwe  œðÿ  šðÿ  žðÿ  \\\n",
       "0    0    0    0    0    0 ...     0    0     0     0    0    0    0    0   \n",
       "1    0    0    0    0    0 ...     0    0     0     0    0    0    0    0   \n",
       "2    0    0    0    0    0 ...     0    0     0     0    0    0    0    0   \n",
       "3    0    0    0    0    0 ...     0    0     0     0    0    0    0    0   \n",
       "4    0    0    0    0    0 ...     0    0     0     0    0    0    0    0   \n",
       "\n",
       "   ƒâœˆï  ƒðÿ  \n",
       "0      0    0  \n",
       "1      0    0  \n",
       "2      0    0  \n",
       "3      0    0  \n",
       "4      0    0  \n",
       "\n",
       "[5 rows x 5323 columns]"
      ]
     },
     "execution_count": 89,
     "metadata": {},
     "output_type": "execute_result"
    }
   ],
   "source": [
    "tf_twitter.head()"
   ]
  },
  {
   "cell_type": "markdown",
   "metadata": {
    "heading_collapsed": true,
    "hidden": true
   },
   "source": [
    "## Finding common words"
   ]
  },
  {
   "cell_type": "code",
   "execution_count": 90,
   "metadata": {
    "ExecuteTime": {
     "end_time": "2020-01-15T12:54:27.315237Z",
     "start_time": "2020-01-15T12:54:24.104689Z"
    },
    "hidden": true
   },
   "outputs": [],
   "source": [
    "# retrieve column names (words)\n",
    "set_annotate = set(tf_annotate.iloc[:, 2:])\n",
    "set_others_annotate = set(tf_others_annotate.iloc[:, 2:])\n",
    "set_twitter = set(tf_twitter.iloc[:, 2:])"
   ]
  },
  {
   "cell_type": "code",
   "execution_count": 91,
   "metadata": {
    "ExecuteTime": {
     "end_time": "2020-01-15T12:56:13.504846Z",
     "start_time": "2020-01-15T12:56:13.502399Z"
    },
    "hidden": true
   },
   "outputs": [],
   "source": [
    "# Words in common between sources\n",
    "set_all = set_annotate & set_others_annotate & set_twitter"
   ]
  },
  {
   "cell_type": "code",
   "execution_count": 92,
   "metadata": {
    "ExecuteTime": {
     "end_time": "2020-01-15T12:56:21.125129Z",
     "start_time": "2020-01-15T12:56:21.122455Z"
    },
    "hidden": true
   },
   "outputs": [],
   "source": [
    "# Words who are not common words\n",
    "set_annotate_wcw = set_annotate - set_all\n",
    "set_others_annotate_wcw = set_others_annotate - set_all\n",
    "set_twitter_wcw = set_twitter - set_all"
   ]
  },
  {
   "cell_type": "code",
   "execution_count": 93,
   "metadata": {
    "ExecuteTime": {
     "end_time": "2020-01-15T12:56:30.756706Z",
     "start_time": "2020-01-15T12:56:30.702059Z"
    },
    "hidden": true
   },
   "outputs": [],
   "source": [
    "# Starting dataframe with only common words\n",
    "annotate_cw = tf_annotate[list(set_all)]\n",
    "others_annotate_cw = tf_others_annotate[list(set_all)]\n",
    "twitter_cw = tf_twitter[list(set_all)]"
   ]
  },
  {
   "cell_type": "markdown",
   "metadata": {
    "hidden": true
   },
   "source": [
    "Proportion of commun words in tf_annotate :"
   ]
  },
  {
   "cell_type": "code",
   "execution_count": 94,
   "metadata": {
    "ExecuteTime": {
     "end_time": "2020-01-15T12:56:55.099639Z",
     "start_time": "2020-01-15T12:56:55.096802Z"
    },
    "hidden": true
   },
   "outputs": [
    {
     "data": {
      "text/plain": [
       "70.35123966942149"
      ]
     },
     "execution_count": 94,
     "metadata": {},
     "output_type": "execute_result"
    }
   ],
   "source": [
    "(annotate_cw.shape[1]/tf_annotate.shape[1])*100"
   ]
  },
  {
   "cell_type": "markdown",
   "metadata": {
    "hidden": true
   },
   "source": [
    "Proportion of commun words in tf_others_annotate :"
   ]
  },
  {
   "cell_type": "code",
   "execution_count": 95,
   "metadata": {
    "ExecuteTime": {
     "end_time": "2020-01-15T12:57:52.386218Z",
     "start_time": "2020-01-15T12:57:52.383040Z"
    },
    "hidden": true
   },
   "outputs": [
    {
     "data": {
      "text/plain": [
       "54.047619047619044"
      ]
     },
     "execution_count": 95,
     "metadata": {},
     "output_type": "execute_result"
    }
   ],
   "source": [
    "(others_annotate_cw.shape[1]/tf_others_annotate.shape[1])*100"
   ]
  },
  {
   "cell_type": "markdown",
   "metadata": {
    "hidden": true
   },
   "source": [
    "Proportion of commun words in tf_twitter :"
   ]
  },
  {
   "cell_type": "code",
   "execution_count": 96,
   "metadata": {
    "ExecuteTime": {
     "end_time": "2020-01-15T12:58:19.996442Z",
     "start_time": "2020-01-15T12:58:19.993245Z"
    },
    "hidden": true
   },
   "outputs": [
    {
     "data": {
      "text/plain": [
       "12.793537478865302"
      ]
     },
     "execution_count": 96,
     "metadata": {},
     "output_type": "execute_result"
    }
   ],
   "source": [
    "(twitter_cw.shape[1]/tf_twitter.shape[1])*100"
   ]
  },
  {
   "cell_type": "code",
   "execution_count": 97,
   "metadata": {
    "ExecuteTime": {
     "end_time": "2020-01-15T12:58:28.031558Z",
     "start_time": "2020-01-15T12:58:27.458497Z"
    },
    "hidden": true
   },
   "outputs": [],
   "source": [
    "# Starting dataframe without common words\n",
    "annotate_wcw = tf_annotate[list(set_annotate_wcw)]\n",
    "others_annotate_wcw = tf_others_annotate[list(set_others_annotate_wcw)]\n",
    "twitter_wcw = tf_twitter[list(set_twitter_wcw)]"
   ]
  },
  {
   "cell_type": "markdown",
   "metadata": {
    "heading_collapsed": true,
    "hidden": true
   },
   "source": [
    "## Frequencies of words"
   ]
  },
  {
   "cell_type": "markdown",
   "metadata": {
    "heading_collapsed": true,
    "hidden": true
   },
   "source": [
    "### in DATA_ANNOTATE"
   ]
  },
  {
   "cell_type": "markdown",
   "metadata": {
    "hidden": true
   },
   "source": [
    "With all words"
   ]
  },
  {
   "cell_type": "code",
   "execution_count": 98,
   "metadata": {
    "ExecuteTime": {
     "end_time": "2020-01-15T12:59:56.999351Z",
     "start_time": "2020-01-15T12:59:56.971124Z"
    },
    "hidden": true
   },
   "outputs": [],
   "source": [
    "# sum of frequencies for each words in tf_annotate\n",
    "sum_annotate = tf_annotate.iloc[:, 2:].sum()"
   ]
  },
  {
   "cell_type": "code",
   "execution_count": 99,
   "metadata": {
    "ExecuteTime": {
     "end_time": "2020-01-15T13:00:03.543858Z",
     "start_time": "2020-01-15T13:00:03.532925Z"
    },
    "hidden": true
   },
   "outputs": [
    {
     "data": {
      "text/plain": [
       "count     966.000000\n",
       "mean       39.100414\n",
       "std       133.726243\n",
       "min         5.000000\n",
       "25%         7.000000\n",
       "50%        12.000000\n",
       "75%        26.000000\n",
       "max      2612.000000\n",
       "dtype: float64"
      ]
     },
     "execution_count": 99,
     "metadata": {},
     "output_type": "execute_result"
    }
   ],
   "source": [
    "sum_annotate.describe()"
   ]
  },
  {
   "cell_type": "markdown",
   "metadata": {
    "hidden": true
   },
   "source": [
    "With common words only"
   ]
  },
  {
   "cell_type": "code",
   "execution_count": 100,
   "metadata": {
    "ExecuteTime": {
     "end_time": "2020-01-15T13:00:23.381508Z",
     "start_time": "2020-01-15T13:00:23.366438Z"
    },
    "hidden": true
   },
   "outputs": [],
   "source": [
    "# sum of frequencies for each words in tf_annotate with only common words\n",
    "sum_annotate_cw = annotate_cw.sum()"
   ]
  },
  {
   "cell_type": "code",
   "execution_count": 101,
   "metadata": {
    "ExecuteTime": {
     "end_time": "2020-01-15T13:00:30.340256Z",
     "start_time": "2020-01-15T13:00:30.333881Z"
    },
    "hidden": true
   },
   "outputs": [
    {
     "data": {
      "text/plain": [
       "count     681.000000\n",
       "mean       49.992658\n",
       "std       157.118834\n",
       "min         5.000000\n",
       "25%         9.000000\n",
       "50%        16.000000\n",
       "75%        36.000000\n",
       "max      2612.000000\n",
       "dtype: float64"
      ]
     },
     "execution_count": 101,
     "metadata": {},
     "output_type": "execute_result"
    }
   ],
   "source": [
    "sum_annotate_cw.describe()"
   ]
  },
  {
   "cell_type": "markdown",
   "metadata": {
    "hidden": true
   },
   "source": [
    "Without common words"
   ]
  },
  {
   "cell_type": "code",
   "execution_count": 102,
   "metadata": {
    "ExecuteTime": {
     "end_time": "2020-01-15T13:00:53.090402Z",
     "start_time": "2020-01-15T13:00:53.081553Z"
    },
    "hidden": true
   },
   "outputs": [],
   "source": [
    "# sum of frequencies for each words in tf_annotate without common words\n",
    "sum_annotate_wcw = annotate_wcw.sum()"
   ]
  },
  {
   "cell_type": "code",
   "execution_count": 103,
   "metadata": {
    "ExecuteTime": {
     "end_time": "2020-01-15T13:00:59.464512Z",
     "start_time": "2020-01-15T13:00:59.459260Z"
    },
    "hidden": true
   },
   "outputs": [
    {
     "data": {
      "text/plain": [
       "count    285.000000\n",
       "mean      13.073684\n",
       "std       26.287914\n",
       "min        5.000000\n",
       "25%        6.000000\n",
       "50%        7.000000\n",
       "75%       10.000000\n",
       "max      328.000000\n",
       "dtype: float64"
      ]
     },
     "execution_count": 103,
     "metadata": {},
     "output_type": "execute_result"
    }
   ],
   "source": [
    "sum_annotate_wcw.describe()"
   ]
  },
  {
   "cell_type": "markdown",
   "metadata": {
    "heading_collapsed": true,
    "hidden": true
   },
   "source": [
    "### in OTHERS_DATA_ANNOTATE"
   ]
  },
  {
   "cell_type": "markdown",
   "metadata": {
    "hidden": true
   },
   "source": [
    "With all words"
   ]
  },
  {
   "cell_type": "code",
   "execution_count": 104,
   "metadata": {
    "ExecuteTime": {
     "end_time": "2020-01-15T13:01:38.600763Z",
     "start_time": "2020-01-15T13:01:38.565437Z"
    },
    "hidden": true
   },
   "outputs": [],
   "source": [
    "# sum of frequencies for each words in tf_others_annotate\n",
    "sum_others_annotate = tf_others_annotate.iloc[:, 2:].sum()"
   ]
  },
  {
   "cell_type": "code",
   "execution_count": 105,
   "metadata": {
    "ExecuteTime": {
     "end_time": "2020-01-15T13:01:46.779963Z",
     "start_time": "2020-01-15T13:01:46.770988Z"
    },
    "hidden": true
   },
   "outputs": [
    {
     "data": {
      "text/plain": [
       "count    1258.000000\n",
       "mean       33.107313\n",
       "std        91.457841\n",
       "min         5.000000\n",
       "25%         7.000000\n",
       "50%        13.000000\n",
       "75%        27.000000\n",
       "max      1848.000000\n",
       "dtype: float64"
      ]
     },
     "execution_count": 105,
     "metadata": {},
     "output_type": "execute_result"
    }
   ],
   "source": [
    "sum_others_annotate.describe()"
   ]
  },
  {
   "cell_type": "markdown",
   "metadata": {
    "hidden": true
   },
   "source": [
    "With common words only"
   ]
  },
  {
   "cell_type": "code",
   "execution_count": 106,
   "metadata": {
    "ExecuteTime": {
     "end_time": "2020-01-15T13:02:06.817158Z",
     "start_time": "2020-01-15T13:02:06.805178Z"
    },
    "hidden": true
   },
   "outputs": [],
   "source": [
    "# sum of frequencies for each words in tf_others_annotate with only common words\n",
    "sum_others_annotate_cw = others_annotate_cw.sum()"
   ]
  },
  {
   "cell_type": "code",
   "execution_count": 107,
   "metadata": {
    "ExecuteTime": {
     "end_time": "2020-01-15T13:02:13.431918Z",
     "start_time": "2020-01-15T13:02:13.425414Z"
    },
    "hidden": true,
    "scrolled": true
   },
   "outputs": [
    {
     "data": {
      "text/plain": [
       "count     681.000000\n",
       "mean       51.857562\n",
       "std       120.578320\n",
       "min         5.000000\n",
       "25%        13.000000\n",
       "50%        23.000000\n",
       "75%        45.000000\n",
       "max      1848.000000\n",
       "dtype: float64"
      ]
     },
     "execution_count": 107,
     "metadata": {},
     "output_type": "execute_result"
    }
   ],
   "source": [
    "sum_others_annotate_cw.describe()"
   ]
  },
  {
   "cell_type": "markdown",
   "metadata": {
    "hidden": true
   },
   "source": [
    "Without common words"
   ]
  },
  {
   "cell_type": "code",
   "execution_count": 108,
   "metadata": {
    "ExecuteTime": {
     "end_time": "2020-01-15T13:02:35.164648Z",
     "start_time": "2020-01-15T13:02:35.155495Z"
    },
    "hidden": true
   },
   "outputs": [],
   "source": [
    "# sum of frequencies for each words in tf_others_annotate without common words\n",
    "sum_others_annotate_wcw = others_annotate_wcw.sum()"
   ]
  },
  {
   "cell_type": "code",
   "execution_count": 109,
   "metadata": {
    "ExecuteTime": {
     "end_time": "2020-01-15T13:02:42.533830Z",
     "start_time": "2020-01-15T13:02:42.528611Z"
    },
    "hidden": true,
    "scrolled": true
   },
   "outputs": [
    {
     "data": {
      "text/plain": [
       "count    577.000000\n",
       "mean      10.977470\n",
       "std       13.541263\n",
       "min        5.000000\n",
       "25%        6.000000\n",
       "50%        8.000000\n",
       "75%       11.000000\n",
       "max      190.000000\n",
       "dtype: float64"
      ]
     },
     "execution_count": 109,
     "metadata": {},
     "output_type": "execute_result"
    }
   ],
   "source": [
    "sum_others_annotate_wcw.describe()"
   ]
  },
  {
   "cell_type": "markdown",
   "metadata": {
    "heading_collapsed": true,
    "hidden": true
   },
   "source": [
    "### in TWITTER"
   ]
  },
  {
   "cell_type": "markdown",
   "metadata": {
    "hidden": true
   },
   "source": [
    "With all words"
   ]
  },
  {
   "cell_type": "code",
   "execution_count": 110,
   "metadata": {
    "ExecuteTime": {
     "end_time": "2020-01-15T13:04:18.082401Z",
     "start_time": "2020-01-15T13:04:05.483467Z"
    },
    "hidden": true
   },
   "outputs": [],
   "source": [
    "# sum of frequencies for each words in tf_twitter\n",
    "sum_twitter = tf_twitter.iloc[:, 2:].sum()"
   ]
  },
  {
   "cell_type": "code",
   "execution_count": 111,
   "metadata": {
    "ExecuteTime": {
     "end_time": "2020-01-15T13:04:27.400984Z",
     "start_time": "2020-01-15T13:04:27.388640Z"
    },
    "hidden": true
   },
   "outputs": [
    {
     "data": {
      "text/plain": [
       "count     5321.000000\n",
       "mean        55.723548\n",
       "std        374.708143\n",
       "min          5.000000\n",
       "25%          9.000000\n",
       "50%         16.000000\n",
       "75%         35.000000\n",
       "max      20403.000000\n",
       "dtype: float64"
      ]
     },
     "execution_count": 111,
     "metadata": {},
     "output_type": "execute_result"
    }
   ],
   "source": [
    "sum_twitter.describe()"
   ]
  },
  {
   "cell_type": "markdown",
   "metadata": {
    "hidden": true
   },
   "source": [
    "With common words only"
   ]
  },
  {
   "cell_type": "code",
   "execution_count": 112,
   "metadata": {
    "ExecuteTime": {
     "end_time": "2020-01-15T13:04:46.536523Z",
     "start_time": "2020-01-15T13:04:46.462016Z"
    },
    "hidden": true
   },
   "outputs": [],
   "source": [
    "# sum of frequencies for each words in tf_twitter with only common words\n",
    "sum_twitter_cw = twitter_cw.sum()"
   ]
  },
  {
   "cell_type": "code",
   "execution_count": 113,
   "metadata": {
    "ExecuteTime": {
     "end_time": "2020-01-15T13:04:52.687900Z",
     "start_time": "2020-01-15T13:04:52.682332Z"
    },
    "hidden": true
   },
   "outputs": [
    {
     "data": {
      "text/plain": [
       "count      681.000000\n",
       "mean       161.530103\n",
       "std        594.530573\n",
       "min          5.000000\n",
       "25%         17.000000\n",
       "50%         44.000000\n",
       "75%        116.000000\n",
       "max      11219.000000\n",
       "dtype: float64"
      ]
     },
     "execution_count": 113,
     "metadata": {},
     "output_type": "execute_result"
    }
   ],
   "source": [
    "sum_twitter_cw.describe()"
   ]
  },
  {
   "cell_type": "markdown",
   "metadata": {
    "hidden": true
   },
   "source": [
    "Without common words"
   ]
  },
  {
   "cell_type": "code",
   "execution_count": 114,
   "metadata": {
    "ExecuteTime": {
     "end_time": "2020-01-15T13:05:17.737483Z",
     "start_time": "2020-01-15T13:05:16.521071Z"
    },
    "hidden": true
   },
   "outputs": [],
   "source": [
    "# sum of frequencies for each words in tf_twitter without common words\n",
    "sum_twitter_wcw = twitter_wcw.sum()"
   ]
  },
  {
   "cell_type": "code",
   "execution_count": 115,
   "metadata": {
    "ExecuteTime": {
     "end_time": "2020-01-15T13:05:23.426285Z",
     "start_time": "2020-01-15T13:05:23.418548Z"
    },
    "hidden": true
   },
   "outputs": [
    {
     "data": {
      "text/plain": [
       "count     4640.000000\n",
       "mean        40.194612\n",
       "std        327.598443\n",
       "min          5.000000\n",
       "25%          8.000000\n",
       "50%         14.000000\n",
       "75%         28.000000\n",
       "max      20403.000000\n",
       "dtype: float64"
      ]
     },
     "execution_count": 115,
     "metadata": {},
     "output_type": "execute_result"
    }
   ],
   "source": [
    "sum_twitter_wcw.describe()"
   ]
  },
  {
   "cell_type": "markdown",
   "metadata": {
    "heading_collapsed": true,
    "hidden": true
   },
   "source": [
    "## Density plots"
   ]
  },
  {
   "cell_type": "markdown",
   "metadata": {
    "heading_collapsed": true,
    "hidden": true
   },
   "source": [
    "### in DATA_ANNOTATE"
   ]
  },
  {
   "cell_type": "code",
   "execution_count": 118,
   "metadata": {
    "ExecuteTime": {
     "end_time": "2020-01-15T13:08:25.226213Z",
     "start_time": "2020-01-15T13:08:24.864441Z"
    },
    "hidden": true
   },
   "outputs": [
    {
     "data": {
      "image/png": "[encoded data removed]",
      "text/plain": [
       "<Figure size 720x720 with 4 Axes>"
      ]
     },
     "metadata": {
      "needs_background": "light"
     },
     "output_type": "display_data"
    }
   ],
   "source": [
    "f, axes = plt.subplots(2, 2, figsize=(10, 10))\n",
    "sns.despine(left=True)\n",
    "plt.subplots_adjust(wspace=0.5, hspace=0.5)\n",
    "\n",
    "ax1 = sns.distplot(sum_annotate, hist=False, color=\"b\",\n",
    "                   kde_kws={\"shade\": True}, ax=axes[0, 0], label=\"All words\")\n",
    "ax2 = sns.distplot(sum_annotate_cw, hist=False, color=\"orange\",\n",
    "                   kde_kws={\"shade\": True}, ax=axes[0, 1], label=\"With common words only\")\n",
    "ax3 = sns.distplot(sum_annotate_wcw, hist=False, color=\"g\",\n",
    "                   kde_kws={\"shade\": True}, ax=axes[1, 0], label=\"Without common words\")\n",
    "\n",
    "ax1.set(xlabel='Frequencies', ylabel='Density',\n",
    "        title='Density of frequencies distribution in\\n DATA_ANNOTATE file\\n with all words')\n",
    "ax2.set(xlabel='Frequencies', ylabel='Density',\n",
    "        title='Density of frequencies distribution in\\n DATA_ANNOTATE file\\n with common words only')\n",
    "ax3.set(xlabel='Frequencies', ylabel='Density',\n",
    "        title='Density of frequencies distribution in\\n DATA_ANNOTATE file\\n without common words')\n",
    "plt.show()"
   ]
  },
  {
   "cell_type": "markdown",
   "metadata": {
    "heading_collapsed": true,
    "hidden": true
   },
   "source": [
    "### in OTHERS_DATA_ANNOTATE"
   ]
  },
  {
   "cell_type": "code",
   "execution_count": 119,
   "metadata": {
    "ExecuteTime": {
     "end_time": "2020-01-15T13:08:51.660368Z",
     "start_time": "2020-01-15T13:08:51.335347Z"
    },
    "hidden": true
   },
   "outputs": [
    {
     "data": {
      "image/png": "[encoded data removed]",
      "text/plain": [
       "<Figure size 720x720 with 4 Axes>"
      ]
     },
     "metadata": {
      "needs_background": "light"
     },
     "output_type": "display_data"
    }
   ],
   "source": [
    "f, axes = plt.subplots(2, 2, figsize=(10, 10))\n",
    "plt.subplots_adjust(wspace=0.5, hspace=0.5)\n",
    "sns.despine(left=True)\n",
    "\n",
    "ax1 = sns.distplot(sum_others_annotate, hist=False, color=\"b\",\n",
    "                   kde_kws={\"shade\": True}, ax=axes[0, 0], label=\"All words\")\n",
    "ax2 = sns.distplot(sum_others_annotate_cw, hist=False, color=\"orange\",\n",
    "                   kde_kws={\"shade\": True}, ax=axes[0, 1], label=\"With common words only\")\n",
    "ax3 = sns.distplot(sum_others_annotate_wcw, hist=False, color=\"g\",\n",
    "                   kde_kws={\"shade\": True}, ax=axes[1, 0], label=\"Without common words\")\n",
    "ax1.set(xlabel='Frequencies', ylabel='Density',\n",
    "        title='Density of frequencies distribution in\\n OTHERS_DATA_ANNOTATE file\\n with all words')\n",
    "ax2.set(xlabel='Frequencies', ylabel='Density',\n",
    "        title='Density of frequencies distribution in\\n OTHERS_DATA_ANNOTATE file\\n with common words only')\n",
    "ax3.set(xlabel='Frequencies', ylabel='Density',\n",
    "        title='Density of frequencies distribution in\\n OTHERS_DATA_ANNOTATE file\\n without common words')\n",
    "plt.show()"
   ]
  },
  {
   "cell_type": "markdown",
   "metadata": {
    "heading_collapsed": true,
    "hidden": true
   },
   "source": [
    "### in TWITTER"
   ]
  },
  {
   "cell_type": "code",
   "execution_count": 120,
   "metadata": {
    "ExecuteTime": {
     "end_time": "2020-01-15T13:09:06.343523Z",
     "start_time": "2020-01-15T13:09:05.988580Z"
    },
    "hidden": true
   },
   "outputs": [
    {
     "data": {
      "image/png": "[encoded data removed]",
      "text/plain": [
       "<Figure size 720x720 with 4 Axes>"
      ]
     },
     "metadata": {
      "needs_background": "light"
     },
     "output_type": "display_data"
    }
   ],
   "source": [
    "f, axes = plt.subplots(2, 2, figsize=(10, 10))\n",
    "plt.subplots_adjust(wspace=0.5, hspace=0.5)\n",
    "\n",
    "sns.despine(left=True)\n",
    "\n",
    "ax1 = sns.distplot(sum_twitter, hist=False, color=\"b\",\n",
    "                   kde_kws={\"shade\": True}, ax=axes[0, 0], label=\"All words\")\n",
    "ax2 = sns.distplot(sum_twitter_cw, hist=False, color=\"orange\",\n",
    "                   kde_kws={\"shade\": True}, ax=axes[0, 1], label=\"With common words only\")\n",
    "ax3 = sns.distplot(sum_twitter_wcw, hist=False, color=\"g\",\n",
    "                   kde_kws={\"shade\": True}, ax=axes[1, 0], label=\"Without common words\")\n",
    "\n",
    "ax1.set(xlabel='Frequencies', ylabel='Density',\n",
    "        title='Density of frequencies distribution in\\n TWITTER file\\n with all words')\n",
    "ax2.set(xlabel='Frequencies', ylabel='Density',\n",
    "        title='Density of frequencies distribution in\\n TWITTER file\\n with common words only')\n",
    "ax3.set(xlabel='Frequencies', ylabel='Density',\n",
    "        title='Density of frequencies distribution in\\n TWITTER file\\n without common words')\n",
    "plt.show()"
   ]
  },
  {
   "cell_type": "markdown",
   "metadata": {
    "heading_collapsed": true,
    "hidden": true
   },
   "source": [
    "## Superposition of density plots"
   ]
  },
  {
   "cell_type": "markdown",
   "metadata": {
    "heading_collapsed": true,
    "hidden": true
   },
   "source": [
    "### With all the words"
   ]
  },
  {
   "cell_type": "code",
   "execution_count": 121,
   "metadata": {
    "ExecuteTime": {
     "end_time": "2020-01-15T13:10:31.082456Z",
     "start_time": "2020-01-15T13:10:30.908016Z"
    },
    "hidden": true
   },
   "outputs": [
    {
     "data": {
      "image/png": "[encoded data removed]",
      "text/plain": [
       "<Figure size 432x288 with 1 Axes>"
      ]
     },
     "metadata": {
      "needs_background": "light"
     },
     "output_type": "display_data"
    }
   ],
   "source": [
    "plt.title('Superposition of density plot for all 3 files with all words')\n",
    "plt.xlabel('Frequencies')\n",
    "plt.ylabel('Density')\n",
    "sns.distplot(sum_annotate, hist=False, color=\"b\", kde_kws={\"shade\": True})\n",
    "sns.distplot(sum_others_annotate, hist=False,\n",
    "             color=\"orange\", kde_kws={\"shade\": True})\n",
    "sns.distplot(sum_twitter, hist=False, color=\"g\", kde_kws={\"shade\": True})\n",
    "plt.show()"
   ]
  },
  {
   "cell_type": "markdown",
   "metadata": {
    "hidden": true
   },
   "source": [
    "We can zoom on the graph :"
   ]
  },
  {
   "cell_type": "code",
   "execution_count": 122,
   "metadata": {
    "ExecuteTime": {
     "end_time": "2020-01-15T13:10:50.239102Z",
     "start_time": "2020-01-15T13:10:49.976220Z"
    },
    "hidden": true
   },
   "outputs": [
    {
     "data": {
      "image/png": "[encoded data removed]",
      "text/plain": [
       "<Figure size 432x288 with 1 Axes>"
      ]
     },
     "metadata": {
      "needs_background": "light"
     },
     "output_type": "display_data"
    }
   ],
   "source": [
    "plt.title('Superposition of density plot for all 3 files with all words (zoom)')\n",
    "plt.xlabel('Frequencies')\n",
    "plt.ylabel('Density')\n",
    "plt.xlim(-20, 400)\n",
    "sns.distplot(sum_annotate, hist=False, color=\"b\", kde_kws={\"shade\": True})\n",
    "sns.distplot(sum_others_annotate, hist=False,\n",
    "             color=\"orange\", kde_kws={\"shade\": True})\n",
    "sns.distplot(sum_twitter, hist=False, color=\"g\", kde_kws={\"shade\": True})\n",
    "plt.show()"
   ]
  },
  {
   "cell_type": "markdown",
   "metadata": {
    "hidden": true
   },
   "source": [
    "Because TWITTER file has a lot more rows than the others, we can display the graph with a logarithm scale on the horizontal axis."
   ]
  },
  {
   "cell_type": "code",
   "execution_count": 123,
   "metadata": {
    "ExecuteTime": {
     "end_time": "2020-01-15T13:11:10.373097Z",
     "start_time": "2020-01-15T13:11:09.711403Z"
    },
    "hidden": true
   },
   "outputs": [
    {
     "data": {
      "text/plain": [
       "<matplotlib.legend.Legend at 0x7ff019bfccf8>"
      ]
     },
     "execution_count": 123,
     "metadata": {},
     "output_type": "execute_result"
    },
    {
     "data": {
      "image/png": "[encoded data removed]",
      "text/plain": [
       "<Figure size 432x288 with 1 Axes>"
      ]
     },
     "metadata": {
      "needs_background": "light"
     },
     "output_type": "display_data"
    }
   ],
   "source": [
    "plt.title('Superposition of density plot for all 3 files with all words (log)')\n",
    "plt.xlabel('Log frequencies')\n",
    "sum_annotate.plot.density(logx=True, label='DATA_ANNOTATE')\n",
    "sum_others_annotate.plot.density(logx=True, label='OTHERS_DATA_ANNOTATE')\n",
    "sum_twitter.plot.density(logx=True, label='TWITTER')\n",
    "plt.legend()"
   ]
  },
  {
   "cell_type": "markdown",
   "metadata": {
    "heading_collapsed": true,
    "hidden": true
   },
   "source": [
    "### With common words only"
   ]
  },
  {
   "cell_type": "code",
   "execution_count": 124,
   "metadata": {
    "ExecuteTime": {
     "end_time": "2020-01-15T13:11:38.579842Z",
     "start_time": "2020-01-15T13:11:38.433879Z"
    },
    "hidden": true
   },
   "outputs": [
    {
     "data": {
      "image/png": "[encoded data removed]",
      "text/plain": [
       "<Figure size 432x288 with 1 Axes>"
      ]
     },
     "metadata": {
      "needs_background": "light"
     },
     "output_type": "display_data"
    }
   ],
   "source": [
    "plt.title('Superposition of density plot for all 3 files with common words only')\n",
    "plt.xlabel('Frequencies')\n",
    "plt.ylabel('Density')\n",
    "sns.distplot(sum_annotate_cw, hist=False, color=\"b\", kde_kws={\"shade\": True})\n",
    "sns.distplot(sum_others_annotate_cw, hist=False,\n",
    "             color=\"orange\", kde_kws={\"shade\": True})\n",
    "sns.distplot(sum_twitter_cw, hist=False, color=\"g\", kde_kws={\"shade\": True})\n",
    "plt.show()"
   ]
  },
  {
   "cell_type": "markdown",
   "metadata": {
    "hidden": true
   },
   "source": [
    "We can zoom on the graph :"
   ]
  },
  {
   "cell_type": "code",
   "execution_count": 125,
   "metadata": {
    "ExecuteTime": {
     "end_time": "2020-01-15T13:12:03.286998Z",
     "start_time": "2020-01-15T13:12:03.113295Z"
    },
    "hidden": true
   },
   "outputs": [
    {
     "data": {
      "image/png": "[encoded data removed]",
      "text/plain": [
       "<Figure size 432x288 with 1 Axes>"
      ]
     },
     "metadata": {
      "needs_background": "light"
     },
     "output_type": "display_data"
    }
   ],
   "source": [
    "plt.title('Superposition of density plot for all 3 files with common words only (zoom)')\n",
    "plt.xlabel('Frequencies')\n",
    "plt.ylabel('Density')\n",
    "plt.xlim(-20, 450)\n",
    "sns.distplot(sum_annotate_cw, hist=False, color=\"b\", kde_kws={\"shade\": True})\n",
    "sns.distplot(sum_others_annotate_cw, hist=False,\n",
    "             color=\"orange\", kde_kws={\"shade\": True})\n",
    "sns.distplot(sum_twitter_cw, hist=False, color=\"g\", kde_kws={\"shade\": True})\n",
    "plt.show()"
   ]
  },
  {
   "cell_type": "markdown",
   "metadata": {
    "hidden": true
   },
   "source": [
    "Because TWITTER file has a lot more rows than the others, we can display the graph with a logarithm scale on the horizontal axis."
   ]
  },
  {
   "cell_type": "code",
   "execution_count": 126,
   "metadata": {
    "ExecuteTime": {
     "end_time": "2020-01-15T13:12:26.272361Z",
     "start_time": "2020-01-15T13:12:25.866890Z"
    },
    "hidden": true
   },
   "outputs": [
    {
     "data": {
      "text/plain": [
       "<matplotlib.legend.Legend at 0x7ff00cec7f98>"
      ]
     },
     "execution_count": 126,
     "metadata": {},
     "output_type": "execute_result"
    },
    {
     "data": {
      "image/png": "[encoded data removed]",
      "text/plain": [
       "<Figure size 432x288 with 1 Axes>"
      ]
     },
     "metadata": {
      "needs_background": "light"
     },
     "output_type": "display_data"
    }
   ],
   "source": [
    "plt.title(\n",
    "    'Superposition of density plot for all 3 files with common words only (log)')\n",
    "plt.xlabel('Log frequencies')\n",
    "sum_annotate_cw.plot.density(logx=True, label='DATA_ANNOTATE')\n",
    "sum_others_annotate_cw.plot.density(logx=True, label='OTHERS_DATA_ANNOTATE')\n",
    "sum_twitter_cw.plot.density(logx=True, label='TWITTER')\n",
    "plt.legend()"
   ]
  },
  {
   "cell_type": "markdown",
   "metadata": {
    "heading_collapsed": true,
    "hidden": true
   },
   "source": [
    "### Without common words"
   ]
  },
  {
   "cell_type": "code",
   "execution_count": 127,
   "metadata": {
    "ExecuteTime": {
     "end_time": "2020-01-15T13:12:58.059906Z",
     "start_time": "2020-01-15T13:12:57.916427Z"
    },
    "hidden": true
   },
   "outputs": [
    {
     "data": {
      "text/plain": [
       "<matplotlib.axes._subplots.AxesSubplot at 0x7ff00db84e48>"
      ]
     },
     "execution_count": 127,
     "metadata": {},
     "output_type": "execute_result"
    },
    {
     "data": {
      "image/png": "[encoded data removed]",
      "text/plain": [
       "<Figure size 432x288 with 1 Axes>"
      ]
     },
     "metadata": {
      "needs_background": "light"
     },
     "output_type": "display_data"
    }
   ],
   "source": [
    "plt.title('Superposition of density plot for all 3 files without common words')\n",
    "plt.xlabel('Frequencies')\n",
    "plt.ylabel('Density')\n",
    "sns.distplot(sum_annotate_wcw, hist=False, color=\"b\", kde_kws={\"shade\": True})\n",
    "sns.distplot(sum_others_annotate_wcw, hist=False,\n",
    "             color=\"orange\", kde_kws={\"shade\": True})\n",
    "sns.distplot(sum_twitter_wcw, hist=False, color=\"g\", kde_kws={\"shade\": True})"
   ]
  },
  {
   "cell_type": "markdown",
   "metadata": {
    "hidden": true
   },
   "source": [
    "We can zoom on the graph :"
   ]
  },
  {
   "cell_type": "code",
   "execution_count": 128,
   "metadata": {
    "ExecuteTime": {
     "end_time": "2020-01-15T13:13:17.996154Z",
     "start_time": "2020-01-15T13:13:17.800466Z"
    },
    "hidden": true
   },
   "outputs": [
    {
     "data": {
      "text/plain": [
       "<matplotlib.axes._subplots.AxesSubplot at 0x7ff00c3b2668>"
      ]
     },
     "execution_count": 128,
     "metadata": {},
     "output_type": "execute_result"
    },
    {
     "data": {
      "image/png": "[encoded data removed]",
      "text/plain": [
       "<Figure size 432x288 with 1 Axes>"
      ]
     },
     "metadata": {
      "needs_background": "light"
     },
     "output_type": "display_data"
    }
   ],
   "source": [
    "plt.title('Superposition of density plot for all 3 files without common words (zoom)')\n",
    "plt.xlabel('Frequencies')\n",
    "plt.ylabel('Density')\n",
    "plt.xlim(-30, 100)\n",
    "sns.distplot(sum_annotate_wcw, hist=False, color=\"b\", kde_kws={\"shade\": True})\n",
    "sns.distplot(sum_others_annotate_wcw, hist=False,\n",
    "             color=\"orange\", kde_kws={\"shade\": True})\n",
    "sns.distplot(sum_twitter_wcw, hist=False, color=\"g\", kde_kws={\"shade\": True})"
   ]
  },
  {
   "cell_type": "markdown",
   "metadata": {
    "hidden": true
   },
   "source": [
    "Because TWITTER file has a lot more rows than the others, we can display the graph with a logarithm scale on the horizontal axis."
   ]
  },
  {
   "cell_type": "code",
   "execution_count": 129,
   "metadata": {
    "ExecuteTime": {
     "end_time": "2020-01-15T13:13:39.319170Z",
     "start_time": "2020-01-15T13:13:38.859874Z"
    },
    "hidden": true
   },
   "outputs": [
    {
     "data": {
      "text/plain": [
       "<matplotlib.legend.Legend at 0x7ff00c6297f0>"
      ]
     },
     "execution_count": 129,
     "metadata": {},
     "output_type": "execute_result"
    },
    {
     "data": {
      "image/png": "[encoded data removed]",
      "text/plain": [
       "<Figure size 432x288 with 1 Axes>"
      ]
     },
     "metadata": {
      "needs_background": "light"
     },
     "output_type": "display_data"
    }
   ],
   "source": [
    "plt.title('Superposition of density plot for all 3 files without common words (log)')\n",
    "plt.xlabel('Log frequencies')\n",
    "sum_annotate_wcw.plot.density(logx=True, label='DATA_ANNOTATE')\n",
    "sum_others_annotate_wcw.plot.density(logx=True, label='OTHERS_DATA_ANNOTATE')\n",
    "sum_twitter_wcw.plot.density(logx=True, label='TWITTER')\n",
    "plt.legend()"
   ]
  },
  {
   "cell_type": "markdown",
   "metadata": {
    "hidden": true
   },
   "source": [
    "For each density superposition plots, we observe an almost similar density of frequencies between DATA_ANNOTATE and OTHERS_DATA_ANNOTATE, while the density for TWITTER file is way weaker."
   ]
  },
  {
   "cell_type": "markdown",
   "metadata": {
    "heading_collapsed": true,
    "hidden": true
   },
   "source": [
    "## Spearman correlation"
   ]
  },
  {
   "cell_type": "markdown",
   "metadata": {
    "hidden": true
   },
   "source": [
    "Spearman correlation between all_data_annotate and others_data_annotate (common words only) :"
   ]
  },
  {
   "cell_type": "code",
   "execution_count": 130,
   "metadata": {
    "ExecuteTime": {
     "end_time": "2020-01-15T13:14:52.556655Z",
     "start_time": "2020-01-15T13:14:52.536636Z"
    },
    "hidden": true
   },
   "outputs": [
    {
     "data": {
      "text/plain": [
       "SpearmanrResult(correlation=0.7970089059438441, pvalue=7.802894161619731e-151)"
      ]
     },
     "execution_count": 130,
     "metadata": {},
     "output_type": "execute_result"
    }
   ],
   "source": [
    "scipy.stats.spearmanr(sum_annotate_cw, sum_others_annotate_cw)"
   ]
  },
  {
   "cell_type": "markdown",
   "metadata": {
    "hidden": true
   },
   "source": [
    "On one hand, we observe a monotonic trend of the ranks of the common words between DATA_ANNOTATE and OTHERS_DATA_ANNOTATE files. On the other hand, we don't observe a specific trend between DATA_ANNOTATE and TWITTER files, same conclusion for OTHERS_DATA_ANNOTATE and TWITTER files with a close spearman coefficient between these two last correlations :"
   ]
  },
  {
   "cell_type": "markdown",
   "metadata": {
    "ExecuteTime": {
     "end_time": "2020-01-15T13:15:20.895740Z",
     "start_time": "2020-01-15T13:15:20.892590Z"
    },
    "hidden": true
   },
   "source": [
    "Spearman correlation between all_data_annotate and twitter (common words only) :"
   ]
  },
  {
   "cell_type": "code",
   "execution_count": 132,
   "metadata": {
    "ExecuteTime": {
     "end_time": "2020-01-15T13:15:35.358396Z",
     "start_time": "2020-01-15T13:15:35.349529Z"
    },
    "collapsed": true,
    "hidden": true
   },
   "outputs": [
    {
     "data": {
      "text/plain": [
       "SpearmanrResult(correlation=0.2367123142850761, pvalue=3.975169410657428e-10)"
      ]
     },
     "execution_count": 132,
     "metadata": {},
     "output_type": "execute_result"
    }
   ],
   "source": [
    "scipy.stats.spearmanr(sum_annotate_cw, sum_twitter_cw)"
   ]
  },
  {
   "cell_type": "markdown",
   "metadata": {
    "hidden": true
   },
   "source": [
    "Spearman correlation between twitter and others_data_annotate (common words only) :"
   ]
  },
  {
   "cell_type": "code",
   "execution_count": 133,
   "metadata": {
    "ExecuteTime": {
     "end_time": "2020-01-15T13:15:59.064937Z",
     "start_time": "2020-01-15T13:15:59.060053Z"
    },
    "hidden": true
   },
   "outputs": [
    {
     "data": {
      "text/plain": [
       "SpearmanrResult(correlation=0.24868962047429563, pvalue=4.6557065364926196e-11)"
      ]
     },
     "execution_count": 133,
     "metadata": {},
     "output_type": "execute_result"
    }
   ],
   "source": [
    "scipy.stats.spearmanr(sum_others_annotate_cw, sum_twitter_cw)"
   ]
  },
  {
   "cell_type": "markdown",
   "metadata": {
    "heading_collapsed": true
   },
   "source": [
    "# Correlations"
   ]
  },
  {
   "cell_type": "markdown",
   "metadata": {
    "hidden": true
   },
   "source": [
    "Before performing correlations, we have looked for the number of filled rows for each pair of columns in a data source"
   ]
  },
  {
   "cell_type": "code",
   "execution_count": 4,
   "metadata": {
    "hidden": true
   },
   "outputs": [],
   "source": [
    "def nbRows (data: str, limit: int):\n",
    "    \"\"\"Documentation\n",
    "  \n",
    "    Number of filled rows\n",
    "    Display the number of filled rows for each pair of columns in a data source\n",
    "    \n",
    "    Parameters:\n",
    "        data : name of data source\n",
    "        limit : limit of the number for which the result is returned\n",
    "\n",
    "    \"\"\"\n",
    "    \n",
    "    list=[]\n",
    "    for  col1 in data:\n",
    "        list.append(col1)\n",
    "        for col2 in data:\n",
    "            if col2 not in list:\n",
    "                nbRows = 0\n",
    "                a = data.get(col1).isna()\n",
    "                b = data.get(col2).isna()\n",
    "                for i in range (0,len(data)):\n",
    "                    if (not a[i] and not b[i]):\n",
    "                        nbRows += 1\n",
    "                if nbRows > limit:\n",
    "                        print(col1, col2, nbRows)\n",
    "    "
   ]
  },
  {
   "cell_type": "code",
   "execution_count": 5,
   "metadata": {
    "hidden": true
   },
   "outputs": [
    {
     "name": "stdout",
     "output_type": "stream",
     "text": [
      "Data_Source Airline_Name 6039\n",
      "Data_Source Aircraft_Type 2928\n",
      "Data_Source Cabin_Class 1162\n",
      "Data_Source Type_Of_Traveller 648\n",
      "Data_Source Date_Flown 641\n",
      "Data_Source Route 859\n",
      "Data_Source Cabin_Staff_Service 1237\n",
      "Data_Source Food_And_Beverages 1211\n",
      "Data_Source Ground_Service 525\n",
      "Data_Source Inflight_Entertainment 1052\n",
      "Data_Source Seat 2257\n",
      "Data_Source Seat_Comfort 1033\n",
      "Data_Source Value_For_Money 1183\n",
      "Data_Source Overall_Customer_Rating 3586\n",
      "Data_Source Recommended 1504\n",
      "Data_Source Date_Review 3872\n",
      "Data_Source Review 6039\n",
      "Data_Source Sentence 6039\n",
      "Data_Source LABEL_SEAT 2413\n",
      "Data_Source LABEL_IFE 565\n",
      "Data_Source LABEL_FOOD 722\n",
      "Data_Source LABEL_CABIN_CREW 1418\n",
      "Data_Source LABEL_PUNCTUALITY 1080\n",
      "Data_Source LABEL_ATTRACTIVE_AIRCRAFT 851\n",
      "Data_Source LABEL_GENERAL 1000\n",
      "Airline_Name Aircraft_Type 2928\n",
      "Airline_Name Cabin_Class 1162\n",
      "Airline_Name Type_Of_Traveller 648\n",
      "Airline_Name Date_Flown 641\n",
      "Airline_Name Route 859\n",
      "Airline_Name Cabin_Staff_Service 1237\n",
      "Airline_Name Food_And_Beverages 1211\n",
      "Airline_Name Ground_Service 525\n",
      "Airline_Name Inflight_Entertainment 1052\n",
      "Airline_Name Seat 2257\n",
      "Airline_Name Seat_Comfort 1033\n",
      "Airline_Name Value_For_Money 1183\n",
      "Airline_Name Overall_Customer_Rating 3586\n",
      "Airline_Name Recommended 1504\n",
      "Airline_Name Date_Review 3872\n",
      "Airline_Name Review 6039\n",
      "Airline_Name Sentence 6039\n",
      "Airline_Name LABEL_SEAT 2413\n",
      "Airline_Name LABEL_IFE 565\n",
      "Airline_Name LABEL_FOOD 722\n",
      "Airline_Name LABEL_CABIN_CREW 1418\n",
      "Airline_Name LABEL_PUNCTUALITY 1080\n",
      "Airline_Name LABEL_ATTRACTIVE_AIRCRAFT 851\n",
      "Airline_Name LABEL_GENERAL 1000\n",
      "Aircraft_Type Route 699\n",
      "Aircraft_Type Cabin_Staff_Service 574\n",
      "Aircraft_Type Food_And_Beverages 569\n",
      "Aircraft_Type Seat 2257\n",
      "Aircraft_Type Overall_Customer_Rating 557\n",
      "Aircraft_Type Recommended 557\n",
      "Aircraft_Type Date_Review 2925\n",
      "Aircraft_Type Review 2928\n",
      "Aircraft_Type Sentence 2928\n",
      "Aircraft_Type LABEL_SEAT 1863\n",
      "Aircraft_Type LABEL_ATTRACTIVE_AIRCRAFT 515\n",
      "Cabin_Class Type_Of_Traveller 530\n",
      "Cabin_Class Date_Flown 523\n",
      "Cabin_Class Route 530\n",
      "Cabin_Class Cabin_Staff_Service 1022\n",
      "Cabin_Class Food_And_Beverages 971\n",
      "Cabin_Class Ground_Service 525\n",
      "Cabin_Class Inflight_Entertainment 827\n",
      "Cabin_Class Seat_Comfort 1022\n",
      "Cabin_Class Value_For_Money 1160\n",
      "Cabin_Class Overall_Customer_Rating 1098\n",
      "Cabin_Class Recommended 1162\n",
      "Cabin_Class Date_Review 1162\n",
      "Cabin_Class Review 1162\n",
      "Cabin_Class Sentence 1162\n",
      "Type_Of_Traveller Date_Flown 641\n",
      "Type_Of_Traveller Route 530\n",
      "Type_Of_Traveller Cabin_Staff_Service 530\n",
      "Type_Of_Traveller Ground_Service 523\n",
      "Type_Of_Traveller Seat_Comfort 530\n",
      "Type_Of_Traveller Value_For_Money 530\n",
      "Type_Of_Traveller Overall_Customer_Rating 648\n",
      "Type_Of_Traveller Recommended 648\n",
      "Type_Of_Traveller Date_Review 648\n",
      "Type_Of_Traveller Review 648\n",
      "Type_Of_Traveller Sentence 648\n",
      "Date_Flown Route 523\n",
      "Date_Flown Cabin_Staff_Service 523\n",
      "Date_Flown Ground_Service 523\n",
      "Date_Flown Seat_Comfort 523\n",
      "Date_Flown Value_For_Money 523\n",
      "Date_Flown Overall_Customer_Rating 641\n",
      "Date_Flown Recommended 641\n",
      "Date_Flown Date_Review 641\n",
      "Date_Flown Review 641\n",
      "Date_Flown Sentence 641\n",
      "Route Cabin_Staff_Service 678\n",
      "Route Food_And_Beverages 648\n",
      "Route Ground_Service 523\n",
      "Route Inflight_Entertainment 511\n",
      "Route Seat_Comfort 530\n",
      "Route Value_For_Money 530\n",
      "Route Overall_Customer_Rating 530\n",
      "Route Recommended 530\n",
      "Route Date_Review 859\n",
      "Route Review 859\n",
      "Route Sentence 859\n",
      "Cabin_Staff_Service Food_And_Beverages 1140\n",
      "Cabin_Staff_Service Ground_Service 523\n",
      "Cabin_Staff_Service Inflight_Entertainment 972\n",
      "Cabin_Staff_Service Seat_Comfort 1033\n",
      "Cabin_Staff_Service Value_For_Money 1033\n",
      "Cabin_Staff_Service Overall_Customer_Rating 991\n",
      "Cabin_Staff_Service Recommended 1033\n",
      "Cabin_Staff_Service Date_Review 1237\n",
      "Cabin_Staff_Service Review 1237\n",
      "Cabin_Staff_Service Sentence 1237\n",
      "Food_And_Beverages Inflight_Entertainment 984\n",
      "Food_And_Beverages Seat_Comfort 982\n",
      "Food_And_Beverages Value_For_Money 982\n",
      "Food_And_Beverages Overall_Customer_Rating 940\n",
      "Food_And_Beverages Recommended 982\n",
      "Food_And_Beverages Date_Review 1211\n",
      "Food_And_Beverages Review 1211\n",
      "Food_And_Beverages Sentence 1211\n",
      "Ground_Service Seat_Comfort 523\n",
      "Ground_Service Value_For_Money 525\n",
      "Ground_Service Overall_Customer_Rating 525\n",
      "Ground_Service Recommended 525\n",
      "Ground_Service Date_Review 525\n",
      "Ground_Service Review 525\n",
      "Ground_Service Sentence 525\n",
      "Inflight_Entertainment Seat_Comfort 838\n",
      "Inflight_Entertainment Value_For_Money 838\n",
      "Inflight_Entertainment Overall_Customer_Rating 796\n",
      "Inflight_Entertainment Recommended 838\n",
      "Inflight_Entertainment Date_Review 1052\n",
      "Inflight_Entertainment Review 1052\n",
      "Inflight_Entertainment Sentence 1052\n",
      "Seat Date_Review 2257\n",
      "Seat Review 2257\n",
      "Seat Sentence 2257\n",
      "Seat LABEL_SEAT 1582\n",
      "Seat_Comfort Value_For_Money 1033\n",
      "Seat_Comfort Overall_Customer_Rating 991\n",
      "Seat_Comfort Recommended 1033\n",
      "Seat_Comfort Date_Review 1033\n",
      "Seat_Comfort Review 1033\n",
      "Seat_Comfort Sentence 1033\n",
      "Value_For_Money Overall_Customer_Rating 1117\n",
      "Value_For_Money Recommended 1183\n",
      "Value_For_Money Date_Review 1183\n",
      "Value_For_Money Review 1183\n",
      "Value_For_Money Sentence 1183\n",
      "Overall_Customer_Rating Recommended 1422\n",
      "Overall_Customer_Rating Date_Review 1422\n",
      "Overall_Customer_Rating Review 3586\n",
      "Overall_Customer_Rating Sentence 3586\n",
      "Overall_Customer_Rating LABEL_SEAT 748\n",
      "Overall_Customer_Rating LABEL_FOOD 538\n",
      "Overall_Customer_Rating LABEL_CABIN_CREW 1082\n",
      "Overall_Customer_Rating LABEL_PUNCTUALITY 1001\n",
      "Overall_Customer_Rating LABEL_GENERAL 653\n",
      "Recommended Date_Review 1504\n",
      "Recommended Review 1504\n",
      "Recommended Sentence 1504\n",
      "Date_Review Review 3872\n",
      "Date_Review Sentence 3872\n",
      "Date_Review LABEL_SEAT 2027\n",
      "Date_Review LABEL_CABIN_CREW 788\n",
      "Date_Review LABEL_ATTRACTIVE_AIRCRAFT 659\n",
      "Date_Review LABEL_GENERAL 652\n",
      "Review Sentence 6039\n",
      "Review LABEL_SEAT 2413\n",
      "Review LABEL_IFE 565\n",
      "Review LABEL_FOOD 722\n",
      "Review LABEL_CABIN_CREW 1418\n",
      "Review LABEL_PUNCTUALITY 1080\n",
      "Review LABEL_ATTRACTIVE_AIRCRAFT 851\n",
      "Review LABEL_GENERAL 1000\n",
      "Sentence LABEL_SEAT 2413\n",
      "Sentence LABEL_IFE 565\n",
      "Sentence LABEL_FOOD 722\n",
      "Sentence LABEL_CABIN_CREW 1418\n",
      "Sentence LABEL_PUNCTUALITY 1080\n",
      "Sentence LABEL_ATTRACTIVE_AIRCRAFT 851\n",
      "Sentence LABEL_GENERAL 1000\n"
     ]
    }
   ],
   "source": [
    "# Display of the number of filled rows for each pair of columns in ALL_DATA_ANNOTATE (number > 500)\n",
    "nbRows(all_data_annotate, 500)"
   ]
  },
  {
   "cell_type": "markdown",
   "metadata": {
    "hidden": true
   },
   "source": [
    "ALL_DATA_ANNOTATE consists of 6039 lines. We can see that many pairs have much smaller numbers. As a result, it is difficult to calculate correlations across many pairs initially targeted as being of intererest."
   ]
  },
  {
   "cell_type": "code",
   "execution_count": 7,
   "metadata": {
    "hidden": true
   },
   "outputs": [
    {
     "name": "stdout",
     "output_type": "stream",
     "text": [
      "Data_Source Airline_Name 150453\n",
      "Data_Source Airline_Type 11133\n",
      "Data_Source Region_Operation 11133\n",
      "Data_Source Aircraft_Type 51847\n",
      "Data_Source Cabin_Class 105510\n",
      "Data_Source Type_Of_Lounge 3942\n",
      "Data_Source Type_Of_Traveller 61132\n",
      "Data_Source Date_Visit 2034\n",
      "Data_Source Date_Flown 60975\n",
      "Data_Source Airport 4118\n",
      "Data_Source Route 61759\n",
      "Data_Source Category 11133\n",
      "Data_Source Category_Detail 11132\n",
      "Data_Source Cabin_Staff_Service 89279\n",
      "Data_Source Lounge_Staff_Service 4127\n",
      "Data_Source Bar_And_Beverages 4131\n",
      "Data_Source Food_And_Beverages 77397\n",
      "Data_Source Ground_Service 58899\n",
      "Data_Source Catering 4176\n",
      "Data_Source Cleanliness 4197\n",
      "Data_Source Lounge_Comfort 4199\n",
      "Data_Source Aisle_Space 2815\n",
      "Data_Source Wifi_And_Connectivity 21091\n",
      "Data_Source Inflight_Entertainment 65114\n",
      "Data_Source Viewing_Tv_Screen 2277\n",
      "Data_Source Power_Supply 891\n",
      "Data_Source Seat 19395\n",
      "Data_Source Seat_Type 2862\n",
      "Data_Source Seat_Comfort 87794\n",
      "Data_Source Seat_Legroom 4495\n",
      "Data_Source Seat_Storage 1704\n",
      "Data_Source Seat_Recline 1701\n",
      "Data_Source Seat_Width 1699\n",
      "Data_Source Washrooms 3753\n",
      "Data_Source Value_For_Money 95518\n",
      "Data_Source Overall_Customer_Rating 99953\n",
      "Data_Source Overall_Service_Rating 11133\n",
      "Data_Source Overall_Airline_Rating 11133\n",
      "Data_Source Recommended 104245\n",
      "Data_Source Date_Review 124923\n",
      "Data_Source Review 139320\n",
      "Airline_Name Airline_Type 11133\n",
      "Airline_Name Region_Operation 11133\n",
      "Airline_Name Aircraft_Type 51847\n",
      "Airline_Name Cabin_Class 105510\n",
      "Airline_Name Type_Of_Lounge 3942\n",
      "Airline_Name Type_Of_Traveller 61132\n",
      "Airline_Name Date_Visit 2034\n",
      "Airline_Name Date_Flown 60975\n",
      "Airline_Name Airport 4118\n",
      "Airline_Name Route 61759\n",
      "Airline_Name Category 11133\n",
      "Airline_Name Category_Detail 11132\n",
      "Airline_Name Cabin_Staff_Service 89279\n",
      "Airline_Name Lounge_Staff_Service 4127\n",
      "Airline_Name Bar_And_Beverages 4131\n",
      "Airline_Name Food_And_Beverages 77397\n",
      "Airline_Name Ground_Service 58899\n",
      "Airline_Name Catering 4176\n",
      "Airline_Name Cleanliness 4197\n",
      "Airline_Name Lounge_Comfort 4199\n",
      "Airline_Name Aisle_Space 2815\n",
      "Airline_Name Wifi_And_Connectivity 21091\n",
      "Airline_Name Inflight_Entertainment 65114\n",
      "Airline_Name Viewing_Tv_Screen 2277\n",
      "Airline_Name Power_Supply 891\n",
      "Airline_Name Seat 19395\n",
      "Airline_Name Seat_Type 2862\n",
      "Airline_Name Seat_Comfort 87794\n",
      "Airline_Name Seat_Legroom 4495\n",
      "Airline_Name Seat_Storage 1704\n",
      "Airline_Name Seat_Recline 1701\n",
      "Airline_Name Seat_Width 1699\n",
      "Airline_Name Washrooms 3753\n",
      "Airline_Name Value_For_Money 95518\n",
      "Airline_Name Overall_Customer_Rating 99953\n",
      "Airline_Name Overall_Service_Rating 11133\n",
      "Airline_Name Overall_Airline_Rating 11133\n",
      "Airline_Name Recommended 104245\n",
      "Airline_Name Date_Review 124923\n",
      "Airline_Name Review 139320\n",
      "Airline_Type Region_Operation 11133\n",
      "Airline_Type Cabin_Class 11133\n",
      "Airline_Type Category 11133\n",
      "Airline_Type Category_Detail 11132\n",
      "Airline_Type Overall_Service_Rating 11133\n",
      "Airline_Type Overall_Airline_Rating 11133\n",
      "Region_Operation Cabin_Class 11133\n",
      "Region_Operation Category 11133\n",
      "Region_Operation Category_Detail 11132\n",
      "Region_Operation Overall_Service_Rating 11133\n",
      "Region_Operation Overall_Airline_Rating 11133\n",
      "Aircraft_Type Cabin_Class 28299\n",
      "Aircraft_Type Type_Of_Traveller 30019\n",
      "Aircraft_Type Date_Flown 29967\n",
      "Aircraft_Type Route 30674\n",
      "Aircraft_Type Cabin_Staff_Service 29765\n",
      "Aircraft_Type Food_And_Beverages 26833\n",
      "Aircraft_Type Ground_Service 28228\n",
      "Aircraft_Type Aisle_Space 2811\n",
      "Aircraft_Type Wifi_And_Connectivity 7376\n",
      "Aircraft_Type Inflight_Entertainment 20989\n",
      "Aircraft_Type Viewing_Tv_Screen 2276\n",
      "Aircraft_Type Power_Supply 890\n",
      "Aircraft_Type Seat 19388\n",
      "Aircraft_Type Seat_Type 2858\n",
      "Aircraft_Type Seat_Comfort 28171\n",
      "Aircraft_Type Seat_Legroom 4484\n",
      "Aircraft_Type Seat_Storage 1700\n",
      "Aircraft_Type Seat_Recline 1694\n",
      "Aircraft_Type Seat_Width 1694\n",
      "Aircraft_Type Value_For_Money 28311\n",
      "Aircraft_Type Overall_Customer_Rating 31174\n",
      "Aircraft_Type Recommended 31176\n",
      "Aircraft_Type Date_Review 51844\n",
      "Aircraft_Type Review 51847\n",
      "Cabin_Class Type_Of_Traveller 59395\n",
      "Cabin_Class Date_Flown 59243\n",
      "Cabin_Class Route 59358\n",
      "Cabin_Class Category 11133\n",
      "Cabin_Class Category_Detail 11132\n",
      "Cabin_Class Cabin_Staff_Service 86599\n",
      "Cabin_Class Food_And_Beverages 74613\n",
      "Cabin_Class Ground_Service 58876\n",
      "Cabin_Class Wifi_And_Connectivity 17188\n",
      "Cabin_Class Inflight_Entertainment 62383\n",
      "Cabin_Class Seat_Comfort 86721\n",
      "Cabin_Class Value_For_Money 94253\n",
      "Cabin_Class Overall_Customer_Rating 90900\n",
      "Cabin_Class Overall_Service_Rating 11133\n",
      "Cabin_Class Overall_Airline_Rating 11133\n",
      "Cabin_Class Recommended 94377\n",
      "Cabin_Class Date_Review 94377\n",
      "Cabin_Class Review 94377\n",
      "Type_Of_Lounge Date_Visit 2034\n",
      "Type_Of_Lounge Airport 3866\n",
      "Type_Of_Lounge Lounge_Staff_Service 3864\n",
      "Type_Of_Lounge Bar_And_Beverages 3866\n",
      "Type_Of_Lounge Catering 3908\n",
      "Type_Of_Lounge Cleanliness 3930\n",
      "Type_Of_Lounge Lounge_Comfort 3931\n",
      "Type_Of_Lounge Wifi_And_Connectivity 3639\n",
      "Type_Of_Lounge Washrooms 3501\n",
      "Type_Of_Lounge Overall_Customer_Rating 3938\n",
      "Type_Of_Lounge Recommended 3942\n",
      "Type_Of_Lounge Date_Review 3942\n",
      "Type_Of_Lounge Review 3942\n",
      "Type_Of_Traveller Date_Flown 60970\n",
      "Type_Of_Traveller Route 59366\n",
      "Type_Of_Traveller Cabin_Staff_Service 57308\n",
      "Type_Of_Traveller Food_And_Beverages 45386\n",
      "Type_Of_Traveller Ground_Service 58696\n",
      "Type_Of_Traveller Aisle_Space 1661\n",
      "Type_Of_Traveller Wifi_And_Connectivity 17198\n",
      "Type_Of_Traveller Inflight_Entertainment 34855\n",
      "Type_Of_Traveller Viewing_Tv_Screen 1123\n",
      "Type_Of_Traveller Power_Supply 891\n",
      "Type_Of_Traveller Seat_Type 1714\n",
      "Type_Of_Traveller Seat_Comfort 57419\n",
      "Type_Of_Traveller Seat_Legroom 1662\n",
      "Type_Of_Traveller Seat_Storage 1704\n",
      "Type_Of_Traveller Value_For_Money 59407\n",
      "Type_Of_Traveller Overall_Customer_Rating 61131\n",
      "Type_Of_Traveller Recommended 61132\n",
      "Type_Of_Traveller Date_Review 61132\n",
      "Type_Of_Traveller Review 61132\n",
      "Date_Visit Airport 2028\n",
      "Date_Visit Lounge_Staff_Service 1976\n",
      "Date_Visit Bar_And_Beverages 1970\n",
      "Date_Visit Catering 2003\n",
      "Date_Visit Cleanliness 2027\n",
      "Date_Visit Lounge_Comfort 2029\n",
      "Date_Visit Wifi_And_Connectivity 1837\n",
      "Date_Visit Washrooms 1682\n",
      "Date_Visit Overall_Customer_Rating 2034\n",
      "Date_Visit Recommended 2034\n",
      "Date_Visit Date_Review 2034\n",
      "Date_Visit Review 2034\n",
      "Date_Flown Route 59249\n",
      "Date_Flown Cabin_Staff_Service 57160\n",
      "Date_Flown Food_And_Beverages 45252\n",
      "Date_Flown Ground_Service 58676\n",
      "Date_Flown Aisle_Space 1656\n",
      "Date_Flown Wifi_And_Connectivity 17192\n",
      "Date_Flown Inflight_Entertainment 34742\n",
      "Date_Flown Viewing_Tv_Screen 1118\n",
      "Date_Flown Power_Supply 891\n",
      "Date_Flown Seat_Type 1709\n",
      "Date_Flown Seat_Comfort 57271\n",
      "Date_Flown Seat_Legroom 1657\n",
      "Date_Flown Seat_Storage 1704\n",
      "Date_Flown Value_For_Money 59258\n",
      "Date_Flown Overall_Customer_Rating 60974\n",
      "Date_Flown Recommended 60975\n",
      "Date_Flown Date_Review 60975\n",
      "Date_Flown Review 60975\n",
      "Airport Lounge_Staff_Service 4037\n",
      "Airport Bar_And_Beverages 4038\n",
      "Airport Catering 4083\n",
      "Airport Cleanliness 4104\n",
      "Airport Lounge_Comfort 4106\n",
      "Airport Wifi_And_Connectivity 3805\n",
      "Airport Washrooms 3667\n",
      "Airport Overall_Customer_Rating 4113\n",
      "Airport Recommended 4118\n",
      "Airport Date_Review 4118\n",
      "Airport Review 4118\n",
      "Route Cabin_Staff_Service 58626\n",
      "Route Food_And_Beverages 46799\n",
      "Route Ground_Service 58689\n",
      "Route Wifi_And_Connectivity 17191\n",
      "Route Inflight_Entertainment 36225\n",
      "Route Seat 2297\n",
      "Route Seat_Comfort 57380\n",
      "Route Seat_Legroom 1431\n",
      "Route Seat_Recline 1441\n",
      "Route Seat_Width 1448\n",
      "Route Value_For_Money 59367\n",
      "Route Overall_Customer_Rating 59380\n",
      "Route Recommended 59381\n",
      "Route Date_Review 61759\n",
      "Route Review 61759\n",
      "Category Category_Detail 11132\n",
      "Category Overall_Service_Rating 11133\n",
      "Category Overall_Airline_Rating 11133\n",
      "Category_Detail Overall_Service_Rating 11132\n",
      "Category_Detail Overall_Airline_Rating 11132\n",
      "Cabin_Staff_Service Food_And_Beverages 76974\n",
      "Cabin_Staff_Service Ground_Service 57279\n",
      "Cabin_Staff_Service Wifi_And_Connectivity 17181\n",
      "Cabin_Staff_Service Inflight_Entertainment 64644\n",
      "Cabin_Staff_Service Seat 1571\n",
      "Cabin_Staff_Service Seat_Comfort 87655\n",
      "Cabin_Staff_Service Seat_Legroom 1232\n",
      "Cabin_Staff_Service Seat_Recline 1223\n",
      "Cabin_Staff_Service Seat_Width 1223\n",
      "Cabin_Staff_Service Value_For_Money 87672\n",
      "Cabin_Staff_Service Overall_Customer_Rating 84738\n",
      "Cabin_Staff_Service Recommended 87672\n",
      "Cabin_Staff_Service Date_Review 89279\n",
      "Cabin_Staff_Service Review 89279\n",
      "Lounge_Staff_Service Bar_And_Beverages 4071\n",
      "Lounge_Staff_Service Catering 4110\n",
      "Lounge_Staff_Service Cleanliness 4125\n",
      "Lounge_Staff_Service Lounge_Comfort 4122\n",
      "Lounge_Staff_Service Wifi_And_Connectivity 3852\n"
     ]
    },
    {
     "name": "stdout",
     "output_type": "stream",
     "text": [
      "Lounge_Staff_Service Washrooms 3713\n",
      "Lounge_Staff_Service Overall_Customer_Rating 4125\n",
      "Lounge_Staff_Service Recommended 4127\n",
      "Lounge_Staff_Service Date_Review 4127\n",
      "Lounge_Staff_Service Review 4127\n",
      "Bar_And_Beverages Catering 4121\n",
      "Bar_And_Beverages Cleanliness 4128\n",
      "Bar_And_Beverages Lounge_Comfort 4127\n",
      "Bar_And_Beverages Wifi_And_Connectivity 3849\n",
      "Bar_And_Beverages Washrooms 3708\n",
      "Bar_And_Beverages Overall_Customer_Rating 4130\n",
      "Bar_And_Beverages Recommended 4131\n",
      "Bar_And_Beverages Date_Review 4131\n",
      "Bar_And_Beverages Review 4131\n",
      "Food_And_Beverages Ground_Service 45308\n",
      "Food_And_Beverages Wifi_And_Connectivity 16267\n",
      "Food_And_Beverages Inflight_Entertainment 63515\n",
      "Food_And_Beverages Seat 1687\n",
      "Food_And_Beverages Seat_Comfort 75677\n",
      "Food_And_Beverages Seat_Legroom 1259\n",
      "Food_And_Beverages Seat_Recline 1270\n",
      "Food_And_Beverages Seat_Width 1275\n",
      "Food_And_Beverages Value_For_Money 75680\n",
      "Food_And_Beverages Overall_Customer_Rating 72746\n",
      "Food_And_Beverages Recommended 75680\n",
      "Food_And_Beverages Date_Review 77397\n",
      "Food_And_Beverages Review 77397\n",
      "Ground_Service Wifi_And_Connectivity 17197\n",
      "Ground_Service Inflight_Entertainment 34758\n",
      "Ground_Service Seat_Comfort 57404\n",
      "Ground_Service Value_For_Money 58898\n",
      "Ground_Service Overall_Customer_Rating 58898\n",
      "Ground_Service Recommended 58899\n",
      "Ground_Service Date_Review 58899\n",
      "Ground_Service Review 58899\n",
      "Catering Cleanliness 4171\n",
      "Catering Lounge_Comfort 4170\n",
      "Catering Wifi_And_Connectivity 3884\n",
      "Catering Washrooms 3744\n",
      "Catering Overall_Customer_Rating 4172\n",
      "Catering Recommended 4176\n",
      "Catering Date_Review 4176\n",
      "Catering Review 4176\n",
      "Cleanliness Lounge_Comfort 4194\n",
      "Cleanliness Wifi_And_Connectivity 3889\n",
      "Cleanliness Washrooms 3750\n",
      "Cleanliness Overall_Customer_Rating 4195\n",
      "Cleanliness Recommended 4197\n",
      "Cleanliness Date_Review 4197\n",
      "Cleanliness Review 4197\n",
      "Lounge_Comfort Wifi_And_Connectivity 3890\n",
      "Lounge_Comfort Washrooms 3749\n",
      "Lounge_Comfort Overall_Customer_Rating 4197\n",
      "Lounge_Comfort Recommended 4199\n",
      "Lounge_Comfort Date_Review 4199\n",
      "Lounge_Comfort Review 4199\n",
      "Aisle_Space Viewing_Tv_Screen 2276\n",
      "Aisle_Space Power_Supply 848\n",
      "Aisle_Space Seat_Type 2809\n",
      "Aisle_Space Seat_Legroom 2815\n",
      "Aisle_Space Seat_Storage 1653\n",
      "Aisle_Space Overall_Customer_Rating 2814\n",
      "Aisle_Space Recommended 2815\n",
      "Aisle_Space Date_Review 2815\n",
      "Aisle_Space Review 2815\n",
      "Wifi_And_Connectivity Inflight_Entertainment 16086\n",
      "Wifi_And_Connectivity Seat_Comfort 17184\n",
      "Wifi_And_Connectivity Washrooms 3550\n",
      "Wifi_And_Connectivity Value_For_Money 17199\n",
      "Wifi_And_Connectivity Overall_Customer_Rating 21090\n",
      "Wifi_And_Connectivity Recommended 21091\n",
      "Wifi_And_Connectivity Date_Review 21091\n",
      "Wifi_And_Connectivity Review 21091\n",
      "Inflight_Entertainment Seat 1639\n",
      "Inflight_Entertainment Seat_Comfort 63444\n",
      "Inflight_Entertainment Seat_Legroom 1227\n",
      "Inflight_Entertainment Seat_Recline 1250\n",
      "Inflight_Entertainment Seat_Width 1236\n",
      "Inflight_Entertainment Value_For_Money 63446\n",
      "Inflight_Entertainment Overall_Customer_Rating 60806\n",
      "Inflight_Entertainment Recommended 63446\n",
      "Inflight_Entertainment Date_Review 65114\n",
      "Inflight_Entertainment Review 65114\n",
      "Viewing_Tv_Screen Power_Supply 793\n",
      "Viewing_Tv_Screen Seat_Type 2271\n",
      "Viewing_Tv_Screen Seat_Legroom 2277\n",
      "Viewing_Tv_Screen Seat_Storage 1115\n",
      "Viewing_Tv_Screen Overall_Customer_Rating 2276\n",
      "Viewing_Tv_Screen Recommended 2277\n",
      "Viewing_Tv_Screen Date_Review 2277\n",
      "Viewing_Tv_Screen Review 2277\n",
      "Power_Supply Seat_Type 891\n",
      "Power_Supply Seat_Legroom 848\n",
      "Power_Supply Seat_Storage 891\n",
      "Power_Supply Overall_Customer_Rating 891\n",
      "Power_Supply Recommended 891\n",
      "Power_Supply Date_Review 891\n",
      "Power_Supply Review 891\n",
      "Seat Seat_Legroom 1652\n",
      "Seat Seat_Recline 1667\n",
      "Seat Seat_Width 1670\n",
      "Seat Date_Review 19395\n",
      "Seat Review 19395\n",
      "Seat_Type Seat_Legroom 2810\n",
      "Seat_Type Seat_Storage 1704\n",
      "Seat_Type Overall_Customer_Rating 2861\n",
      "Seat_Type Recommended 2862\n",
      "Seat_Type Date_Review 2862\n",
      "Seat_Type Review 2862\n",
      "Seat_Comfort Value_For_Money 87794\n",
      "Seat_Comfort Overall_Customer_Rating 84860\n",
      "Seat_Comfort Recommended 87794\n",
      "Seat_Comfort Date_Review 87794\n",
      "Seat_Comfort Review 87794\n",
      "Seat_Legroom Seat_Storage 1653\n",
      "Seat_Legroom Seat_Recline 1292\n",
      "Seat_Legroom Seat_Width 1312\n",
      "Seat_Legroom Overall_Customer_Rating 2815\n",
      "Seat_Legroom Recommended 2816\n",
      "Seat_Legroom Date_Review 4495\n",
      "Seat_Legroom Review 4495\n",
      "Seat_Storage Overall_Customer_Rating 1704\n",
      "Seat_Storage Recommended 1704\n",
      "Seat_Storage Date_Review 1704\n",
      "Seat_Storage Review 1704\n",
      "Seat_Recline Seat_Width 1340\n",
      "Seat_Recline Date_Review 1701\n",
      "Seat_Recline Review 1701\n",
      "Seat_Width Date_Review 1699\n",
      "Seat_Width Review 1699\n",
      "Washrooms Overall_Customer_Rating 3752\n",
      "Washrooms Recommended 3753\n",
      "Washrooms Date_Review 3753\n",
      "Washrooms Review 3753\n",
      "Value_For_Money Overall_Customer_Rating 91896\n",
      "Value_For_Money Recommended 95518\n",
      "Value_For_Money Date_Review 95518\n",
      "Value_For_Money Review 95518\n",
      "Overall_Customer_Rating Recommended 99951\n",
      "Overall_Customer_Rating Date_Review 99953\n",
      "Overall_Customer_Rating Review 99953\n",
      "Overall_Service_Rating Overall_Airline_Rating 11133\n",
      "Recommended Date_Review 104245\n",
      "Recommended Review 104245\n",
      "Date_Review Review 124923\n"
     ]
    }
   ],
   "source": [
    "# Display of the number of filled rows for each pair of columns in ALL_DATA (number > 500)\n",
    "nbRows(all_data, 500)"
   ]
  },
  {
   "cell_type": "markdown",
   "metadata": {
    "hidden": true
   },
   "source": [
    "ALL_DATA consists of 150453 lines. We can see that many pairs have much smaller numbers. As a result, it is difficult to calculate correlations across many pairs initially targeted as being of intererest."
   ]
  },
  {
   "cell_type": "code",
   "execution_count": null,
   "metadata": {
    "hidden": true
   },
   "outputs": [],
   "source": []
  }
 ],
 "metadata": {
  "kernelspec": {
   "display_name": "Python 3",
   "language": "python",
   "name": "python3"
  },
  "language_info": {
   "codemirror_mode": {
    "name": "ipython",
    "version": 3
   },
   "file_extension": ".py",
   "mimetype": "text/x-python",
   "name": "python",
   "nbconvert_exporter": "python",
   "pygments_lexer": "ipython3",
   "version": "3.7.0"
  },
  "toc": {
   "base_numbering": 1,
   "nav_menu": {},
   "number_sections": true,
   "sideBar": true,
   "skip_h1_title": false,
   "title_cell": "Table of Contents",
   "title_sidebar": "Contents",
   "toc_cell": false,
   "toc_position": {},
   "toc_section_display": true,
   "toc_window_display": true
  },
  "varInspector": {
   "cols": {
    "lenName": 16,
    "lenType": 16,
    "lenVar": 40
   },
   "kernels_config": {
    "python": {
     "delete_cmd_postfix": "",
     "delete_cmd_prefix": "del ",
     "library": "var_list.py",
     "varRefreshCmd": "print(var_dic_list())"
    },
    "r": {
     "delete_cmd_postfix": ") ",
     "delete_cmd_prefix": "rm(",
     "library": "var_list.r",
     "varRefreshCmd": "cat(var_dic_list()) "
    }
   },
   "types_to_exclude": [
    "module",
    "function",
    "builtin_function_or_method",
    "instance",
    "_Feature"
   ],
   "window_display": false
  }
 },
 "nbformat": 4,
 "nbformat_minor": 2
}
