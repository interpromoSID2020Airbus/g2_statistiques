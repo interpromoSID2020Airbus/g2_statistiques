{
 "cells": [
  {
   "cell_type": "markdown",
   "metadata": {},
   "source": [
    "<h1> Groupe 2 - Statistics  \n",
    "\n",
    "> Preprocessing Notebook\n",
    "\n",
    "<span class=\"tocSkip\"></span>\n",
    "\n",
    "> *Authors :   \n",
    "LEROYER Corentin  \n",
    "MARTINEAU Enzo  \n",
    "MIROUSE Sylvaine  \n",
    "MORA FERNANDEZ Jordi  \n",
    "OLLIVIER Cassandre   \n",
    "PACE Marine*\n",
    "\n",
    "</h1>\n"
   ]
  },
  {
   "cell_type": "markdown",
   "metadata": {
    "toc": true
   },
   "source": [
    "<h1>Table of Contents<span class=\"tocSkip\"></span></h1>\n",
    "<div class=\"toc\"><ul class=\"toc-item\"><li><span><a href=\"#Introduction\" data-toc-modified-id=\"Introduction-1\"><span class=\"toc-item-num\">1&nbsp;&nbsp;</span>Introduction</a></span><ul class=\"toc-item\"><li><span><a href=\"#Highlight\" data-toc-modified-id=\"Highlight-1.1\"><span class=\"toc-item-num\">1.1&nbsp;&nbsp;</span>Highlight</a></span></li></ul></li><li><span><a href=\"#Environment\" data-toc-modified-id=\"Environment-2\"><span class=\"toc-item-num\">2&nbsp;&nbsp;</span>Environment</a></span><ul class=\"toc-item\"><li><span><a href=\"#Libraries\" data-toc-modified-id=\"Libraries-2.1\"><span class=\"toc-item-num\">2.1&nbsp;&nbsp;</span>Libraries</a></span></li></ul></li><li><span><a href=\"#Modification-of-all_data_annotate-and-others_data_annotate\" data-toc-modified-id=\"Modification-of-all_data_annotate-and-others_data_annotate-3\"><span class=\"toc-item-num\">3&nbsp;&nbsp;</span>Modification of all_data_annotate and others_data_annotate</a></span><ul class=\"toc-item\"><li><span><a href=\"#Creation-of-new-labels\" data-toc-modified-id=\"Creation-of-new-labels-3.1\"><span class=\"toc-item-num\">3.1&nbsp;&nbsp;</span>Creation of new labels</a></span><ul class=\"toc-item\"><li><span><a href=\"#Creation-of-ANNOTATE_V2\" data-toc-modified-id=\"Creation-of-ANNOTATE_V2-3.1.1\"><span class=\"toc-item-num\">3.1.1&nbsp;&nbsp;</span>Creation of ANNOTATE_V2</a></span></li><li><span><a href=\"#Creation-of-OTHERS_ANNOTATE_v2\" data-toc-modified-id=\"Creation-of-OTHERS_ANNOTATE_v2-3.1.2\"><span class=\"toc-item-num\">3.1.2&nbsp;&nbsp;</span>Creation of OTHERS_ANNOTATE_v2</a></span></li></ul></li><li><span><a href=\"#Add-constructors\" data-toc-modified-id=\"Add-constructors-3.2\"><span class=\"toc-item-num\">3.2&nbsp;&nbsp;</span>Add constructors</a></span></li><li><span><a href=\"#Création-of-4-new-variables-for-notes\" data-toc-modified-id=\"Création-of-4-new-variables-for-notes-3.3\"><span class=\"toc-item-num\">3.3&nbsp;&nbsp;</span>Création of 4 new variables for notes</a></span><ul class=\"toc-item\"><li><span><a href=\"#Creation-of-ANNOTATE_V3\" data-toc-modified-id=\"Creation-of-ANNOTATE_V3-3.3.1\"><span class=\"toc-item-num\">3.3.1&nbsp;&nbsp;</span>Creation of ANNOTATE_V3</a></span></li></ul></li></ul></li><li><span><a href=\"#Modification-of-all_data\" data-toc-modified-id=\"Modification-of-all_data-4\"><span class=\"toc-item-num\">4&nbsp;&nbsp;</span>Modification of all_data</a></span><ul class=\"toc-item\"><li><ul class=\"toc-item\"><li><span><a href=\"#Creation-of-ALL_DATA_V2\" data-toc-modified-id=\"Creation-of-ALL_DATA_V2-4.0.1\"><span class=\"toc-item-num\">4.0.1&nbsp;&nbsp;</span>Creation of ALL_DATA_V2</a></span></li><li><span><a href=\"#Creation-of-ALL_DATA_V3\" data-toc-modified-id=\"Creation-of-ALL_DATA_V3-4.0.2\"><span class=\"toc-item-num\">4.0.2&nbsp;&nbsp;</span>Creation of ALL_DATA_V3</a></span></li></ul></li></ul></li><li><span><a href=\"#Modification-of-seatguru\" data-toc-modified-id=\"Modification-of-seatguru-5\"><span class=\"toc-item-num\">5&nbsp;&nbsp;</span>Modification of seatguru</a></span></li><li><span><a href=\"#Modification-of-Kayak\" data-toc-modified-id=\"Modification-of-Kayak-6\"><span class=\"toc-item-num\">6&nbsp;&nbsp;</span>Modification of Kayak</a></span></li><li><span><a href=\"#Creation-of-all_data_month\" data-toc-modified-id=\"Creation-of-all_data_month-7\"><span class=\"toc-item-num\">7&nbsp;&nbsp;</span>Creation of all_data_month</a></span></li></ul></div>"
   ]
  },
  {
   "cell_type": "markdown",
   "metadata": {
    "heading_collapsed": true
   },
   "source": [
    "# Introduction"
   ]
  },
  {
   "cell_type": "markdown",
   "metadata": {
    "hidden": true
   },
   "source": [
    "Before starting our work, we decided to observe the data we have.   \n",
    "We noticed a significant amount of missing data, which is essential information to take into account when compiling statistics.   \n",
    "We also observed that variable *Overall_Customer_Rating* was of the wrong type.\n",
    "In addition, we noticed that the variable *Aircraft_Type* includes nearly 4000 different values in the ALL_DATA file. \n",
    "\n",
    "Following all his observations, we have made the following adjustments:  \n",
    "\n",
    "**First modifications :**\n",
    "\n",
    "For ALL_DATA_ANNOTATE and OTHERS_DATA_ANNOTATE, we decided to modify the labels in order to be able to make the most of them :    \n",
    "\n",
    "<p>\n",
    "  <li>-1 : Negative user opinion</li>   \n",
    "  <li>0 : No comment on this topic </li> \n",
    "  <li>1 : Positive user opinion </li> \n",
    "  <li>2 : Very positive user opinion  </li> \n",
    "</p>\n",
    "\n",
    "So, we created **ANNOTATE_V2** and **OTHERS_ANNOTATE_V2**.\n",
    "\n",
    "Later, we decided to perform statistical analysis on labels, so we created **ANNOTATE_V2_BIS** which contains an additional *Constructors* variable.\n",
    "\n",
    "ALL_DATA has been cleaned : *Overall_Customer_Rating* feature was not a float.  \n",
    "We created a new feature : *Constructors* to sum up the Aircraft_Type. 7 differents constructors are represent.  \n",
    "So, we created **ALL_DATA_v2**.\n",
    "\n",
    "We also added *Constructors* on SEATGURU but with only 3 variable : Airbus, Boing and we group all others in 'Others'.\n",
    "So, We created **SEATGURU_V2**.\n",
    "\n",
    "We change all the type on KAYAK_AIRLINE_RATE_GLOBAL to work with float variables.\n",
    "\n",
    "We created a new file : **ALL_DATA_MONTH** where we changed the types of dates to make temporal analysies.  \n",
    "    \n",
    "\n",
    "**Second modifications :**\n",
    "\n",
    "In a second time, we created **ALL_DATA_V3**, **ANNOTATE_V3** and **OTHERS_ANNOTATE_V3** with 4 new variables :   \n",
    "      \n",
    "<p>    \n",
    " <li> 'Food_Beverages' which groups the variables 'Bar_And_Beverages', 'Food_And_Beverages' and 'Catering'</li>  \n",
    " <li> 'Entertainments_And_Amenities' which groups the variables 'Wifi_And_Connectivity', 'Inflight_Entertainment', 'Viewing_Tv_Screen', 'Power_Supply' and 'Washrooms'</li>   \n",
    "    \n",
    " <li> 'Seat_Comfort_And_Recline' which groups the variables 'Seat_Comfort' and 'Seat_Recline'</li>   \n",
    "    \n",
    " <li> 'Staff_Service' which groups the variables 'Cabin_Staff_Service', 'Lounge_Staff_Service' and 'Ground_Service'</li>   \n",
    "    \n",
    "</p>"
   ]
  },
  {
   "cell_type": "markdown",
   "metadata": {
    "heading_collapsed": true,
    "hidden": true
   },
   "source": [
    "## Highlight"
   ]
  },
  {
   "cell_type": "markdown",
   "metadata": {
    "hidden": true
   },
   "source": [
    "The preprocessing we have done has been useful for all of us. However, we can point out that the creation of the constructors on the different data sources was particularly useful for many of our analyses.\n",
    "\n",
    "The creation of the new notes that we made only in the middle of the project was finally useful to complete our statistics and make more relevant correlations."
   ]
  },
  {
   "cell_type": "markdown",
   "metadata": {
    "ExecuteTime": {
     "end_time": "2020-01-13T14:03:01.103787Z",
     "start_time": "2020-01-13T14:03:01.101682Z"
    },
    "heading_collapsed": true
   },
   "source": [
    "# Environment"
   ]
  },
  {
   "cell_type": "markdown",
   "metadata": {
    "heading_collapsed": true,
    "hidden": true
   },
   "source": [
    "## Libraries"
   ]
  },
  {
   "cell_type": "code",
   "execution_count": 2,
   "metadata": {
    "ExecuteTime": {
     "end_time": "2020-01-14T13:53:18.784934Z",
     "start_time": "2020-01-14T13:53:18.782449Z"
    },
    "hidden": true
   },
   "outputs": [],
   "source": [
    "import pandas as pd\n",
    "import datetime\n",
    "import numpy as np\n",
    "import pandas as pd\n",
    "import math"
   ]
  },
  {
   "cell_type": "code",
   "execution_count": 3,
   "metadata": {
    "ExecuteTime": {
     "end_time": "2020-01-14T13:53:21.041986Z",
     "start_time": "2020-01-14T13:53:21.039687Z"
    },
    "hidden": true
   },
   "outputs": [],
   "source": [
    "# workpath\n",
    "workpath = \"/home/ddm2018-1/Documents/sauvegarde_ordi-fac_12_19/M2/Projet_Inter_Promo/Interpromo2020/Interpromo2020/AllData/\""
   ]
  },
  {
   "cell_type": "markdown",
   "metadata": {
    "heading_collapsed": true
   },
   "source": [
    "# Modification of all_data_annotate and others_data_annotate"
   ]
  },
  {
   "cell_type": "markdown",
   "metadata": {
    "heading_collapsed": true,
    "hidden": true
   },
   "source": [
    "## Creation of new labels"
   ]
  },
  {
   "cell_type": "markdown",
   "metadata": {
    "heading_collapsed": true,
    "hidden": true
   },
   "source": [
    "### Creation of ANNOTATE_V2"
   ]
  },
  {
   "cell_type": "code",
   "execution_count": 22,
   "metadata": {
    "ExecuteTime": {
     "end_time": "2020-01-12T09:12:03.387575Z",
     "start_time": "2020-01-12T09:12:02.788473Z"
    },
    "hidden": true
   },
   "outputs": [],
   "source": [
    "annotate = pd.read_excel(workpath+'ALL_DATA_ANNOTATE.xlsx')"
   ]
  },
  {
   "cell_type": "code",
   "execution_count": 23,
   "metadata": {
    "ExecuteTime": {
     "end_time": "2020-01-12T09:12:03.550324Z",
     "start_time": "2020-01-12T09:12:03.543031Z"
    },
    "hidden": true
   },
   "outputs": [],
   "source": [
    "data = annotate.copy()"
   ]
  },
  {
   "cell_type": "code",
   "execution_count": 24,
   "metadata": {
    "ExecuteTime": {
     "end_time": "2020-01-12T09:12:04.395362Z",
     "start_time": "2020-01-12T09:12:04.358148Z"
    },
    "hidden": true
   },
   "outputs": [
    {
     "data": {
      "text/html": [
       "<div>\n",
       "<style scoped>\n",
       "    .dataframe tbody tr th:only-of-type {\n",
       "        vertical-align: middle;\n",
       "    }\n",
       "\n",
       "    .dataframe tbody tr th {\n",
       "        vertical-align: top;\n",
       "    }\n",
       "\n",
       "    .dataframe thead th {\n",
       "        text-align: right;\n",
       "    }\n",
       "</style>\n",
       "<table border=\"1\" class=\"dataframe\">\n",
       "  <thead>\n",
       "    <tr style=\"text-align: right;\">\n",
       "      <th></th>\n",
       "      <th>Data_Source</th>\n",
       "      <th>Airline_Name</th>\n",
       "      <th>Aircraft_Type</th>\n",
       "      <th>Cabin_Class</th>\n",
       "      <th>Type_Of_Lounge</th>\n",
       "      <th>Type_Of_Traveller</th>\n",
       "      <th>Date_Visit</th>\n",
       "      <th>Date_Flown</th>\n",
       "      <th>Airport</th>\n",
       "      <th>Route</th>\n",
       "      <th>...</th>\n",
       "      <th>LABEL_LAVATORY SPACE</th>\n",
       "      <th>LABEL_PRICE</th>\n",
       "      <th>LABEL_LOST BAGGAGE</th>\n",
       "      <th>LABEL_CHECK IN</th>\n",
       "      <th>LABEL_PUNCTUALITY</th>\n",
       "      <th>LABEL_ATTRACTIVE AIRCRAFT</th>\n",
       "      <th>LABEL_SAV</th>\n",
       "      <th>LABEL_BOARDING</th>\n",
       "      <th>LABEL_GENERAL</th>\n",
       "      <th>Unnamed: 54</th>\n",
       "    </tr>\n",
       "  </thead>\n",
       "  <tbody>\n",
       "    <tr>\n",
       "      <th>0</th>\n",
       "      <td>Airline Quality Airline</td>\n",
       "      <td>adria-airways</td>\n",
       "      <td>A319</td>\n",
       "      <td>Economy Class</td>\n",
       "      <td>NaN</td>\n",
       "      <td>Family Leisure</td>\n",
       "      <td>NaN</td>\n",
       "      <td>August 2015</td>\n",
       "      <td>NaN</td>\n",
       "      <td>Manchester to Ljubljana</td>\n",
       "      <td>...</td>\n",
       "      <td>NaN</td>\n",
       "      <td>NaN</td>\n",
       "      <td>NaN</td>\n",
       "      <td>NaN</td>\n",
       "      <td>2.0</td>\n",
       "      <td>NaN</td>\n",
       "      <td>NaN</td>\n",
       "      <td>NaN</td>\n",
       "      <td>2.0</td>\n",
       "      <td>NaN</td>\n",
       "    </tr>\n",
       "    <tr>\n",
       "      <th>1</th>\n",
       "      <td>Airline Quality Airline</td>\n",
       "      <td>adria-airways</td>\n",
       "      <td>A319</td>\n",
       "      <td>Economy Class</td>\n",
       "      <td>NaN</td>\n",
       "      <td>Family Leisure</td>\n",
       "      <td>NaN</td>\n",
       "      <td>August 2015</td>\n",
       "      <td>NaN</td>\n",
       "      <td>Manchester to Ljubljana</td>\n",
       "      <td>...</td>\n",
       "      <td>NaN</td>\n",
       "      <td>NaN</td>\n",
       "      <td>NaN</td>\n",
       "      <td>NaN</td>\n",
       "      <td>NaN</td>\n",
       "      <td>NaN</td>\n",
       "      <td>NaN</td>\n",
       "      <td>NaN</td>\n",
       "      <td>NaN</td>\n",
       "      <td>NaN</td>\n",
       "    </tr>\n",
       "    <tr>\n",
       "      <th>2</th>\n",
       "      <td>Airline Quality Airline</td>\n",
       "      <td>adria-airways</td>\n",
       "      <td>A319</td>\n",
       "      <td>Economy Class</td>\n",
       "      <td>NaN</td>\n",
       "      <td>Family Leisure</td>\n",
       "      <td>NaN</td>\n",
       "      <td>August 2015</td>\n",
       "      <td>NaN</td>\n",
       "      <td>Manchester to Ljubljana</td>\n",
       "      <td>...</td>\n",
       "      <td>NaN</td>\n",
       "      <td>NaN</td>\n",
       "      <td>NaN</td>\n",
       "      <td>NaN</td>\n",
       "      <td>NaN</td>\n",
       "      <td>NaN</td>\n",
       "      <td>NaN</td>\n",
       "      <td>NaN</td>\n",
       "      <td>NaN</td>\n",
       "      <td>NaN</td>\n",
       "    </tr>\n",
       "    <tr>\n",
       "      <th>3</th>\n",
       "      <td>Airline Quality Airline</td>\n",
       "      <td>adria-airways</td>\n",
       "      <td>A319</td>\n",
       "      <td>Economy Class</td>\n",
       "      <td>NaN</td>\n",
       "      <td>Family Leisure</td>\n",
       "      <td>NaN</td>\n",
       "      <td>August 2015</td>\n",
       "      <td>NaN</td>\n",
       "      <td>Manchester to Ljubljana</td>\n",
       "      <td>...</td>\n",
       "      <td>NaN</td>\n",
       "      <td>NaN</td>\n",
       "      <td>NaN</td>\n",
       "      <td>NaN</td>\n",
       "      <td>1.0</td>\n",
       "      <td>NaN</td>\n",
       "      <td>NaN</td>\n",
       "      <td>1.0</td>\n",
       "      <td>NaN</td>\n",
       "      <td>NaN</td>\n",
       "    </tr>\n",
       "    <tr>\n",
       "      <th>4</th>\n",
       "      <td>Airline Quality Airline</td>\n",
       "      <td>adria-airways</td>\n",
       "      <td>A319</td>\n",
       "      <td>Economy Class</td>\n",
       "      <td>NaN</td>\n",
       "      <td>Family Leisure</td>\n",
       "      <td>NaN</td>\n",
       "      <td>August 2015</td>\n",
       "      <td>NaN</td>\n",
       "      <td>Manchester to Ljubljana</td>\n",
       "      <td>...</td>\n",
       "      <td>NaN</td>\n",
       "      <td>NaN</td>\n",
       "      <td>NaN</td>\n",
       "      <td>NaN</td>\n",
       "      <td>NaN</td>\n",
       "      <td>NaN</td>\n",
       "      <td>NaN</td>\n",
       "      <td>NaN</td>\n",
       "      <td>2.0</td>\n",
       "      <td>NaN</td>\n",
       "    </tr>\n",
       "  </tbody>\n",
       "</table>\n",
       "<p>5 rows × 55 columns</p>\n",
       "</div>"
      ],
      "text/plain": [
       "               Data_Source   Airline_Name Aircraft_Type    Cabin_Class  \\\n",
       "0  Airline Quality Airline  adria-airways          A319  Economy Class   \n",
       "1  Airline Quality Airline  adria-airways          A319  Economy Class   \n",
       "2  Airline Quality Airline  adria-airways          A319  Economy Class   \n",
       "3  Airline Quality Airline  adria-airways          A319  Economy Class   \n",
       "4  Airline Quality Airline  adria-airways          A319  Economy Class   \n",
       "\n",
       "  Type_Of_Lounge Type_Of_Traveller Date_Visit   Date_Flown Airport  \\\n",
       "0            NaN    Family Leisure        NaN  August 2015     NaN   \n",
       "1            NaN    Family Leisure        NaN  August 2015     NaN   \n",
       "2            NaN    Family Leisure        NaN  August 2015     NaN   \n",
       "3            NaN    Family Leisure        NaN  August 2015     NaN   \n",
       "4            NaN    Family Leisure        NaN  August 2015     NaN   \n",
       "\n",
       "                     Route     ...       LABEL_LAVATORY SPACE  LABEL_PRICE  \\\n",
       "0  Manchester to Ljubljana     ...                        NaN          NaN   \n",
       "1  Manchester to Ljubljana     ...                        NaN          NaN   \n",
       "2  Manchester to Ljubljana     ...                        NaN          NaN   \n",
       "3  Manchester to Ljubljana     ...                        NaN          NaN   \n",
       "4  Manchester to Ljubljana     ...                        NaN          NaN   \n",
       "\n",
       "   LABEL_LOST BAGGAGE  LABEL_CHECK IN  LABEL_PUNCTUALITY  \\\n",
       "0                 NaN             NaN                2.0   \n",
       "1                 NaN             NaN                NaN   \n",
       "2                 NaN             NaN                NaN   \n",
       "3                 NaN             NaN                1.0   \n",
       "4                 NaN             NaN                NaN   \n",
       "\n",
       "   LABEL_ATTRACTIVE AIRCRAFT  LABEL_SAV  LABEL_BOARDING  LABEL_GENERAL  \\\n",
       "0                        NaN        NaN             NaN            2.0   \n",
       "1                        NaN        NaN             NaN            NaN   \n",
       "2                        NaN        NaN             NaN            NaN   \n",
       "3                        NaN        NaN             1.0            NaN   \n",
       "4                        NaN        NaN             NaN            2.0   \n",
       "\n",
       "   Unnamed: 54  \n",
       "0          NaN  \n",
       "1          NaN  \n",
       "2          NaN  \n",
       "3          NaN  \n",
       "4          NaN  \n",
       "\n",
       "[5 rows x 55 columns]"
      ]
     },
     "execution_count": 24,
     "metadata": {},
     "output_type": "execute_result"
    }
   ],
   "source": [
    "data.head()"
   ]
  },
  {
   "cell_type": "markdown",
   "metadata": {
    "hidden": true
   },
   "source": [
    "Creation of new labels"
   ]
  },
  {
   "cell_type": "code",
   "execution_count": 25,
   "metadata": {
    "ExecuteTime": {
     "end_time": "2020-01-12T09:12:07.029073Z",
     "start_time": "2020-01-12T09:12:06.453742Z"
    },
    "hidden": true,
    "scrolled": true
   },
   "outputs": [
    {
     "name": "stderr",
     "output_type": "stream",
     "text": [
      "/home/ddm2018-1/anaconda3/lib/python3.7/site-packages/ipykernel_launcher.py:1: SettingWithCopyWarning: \n",
      "A value is trying to be set on a copy of a slice from a DataFrame\n",
      "\n",
      "See the caveats in the documentation: http://pandas.pydata.org/pandas-docs/stable/indexing.html#indexing-view-versus-copy\n",
      "  \"\"\"Entry point for launching an IPython kernel.\n",
      "/home/ddm2018-1/anaconda3/lib/python3.7/site-packages/ipykernel_launcher.py:2: SettingWithCopyWarning: \n",
      "A value is trying to be set on a copy of a slice from a DataFrame\n",
      "\n",
      "See the caveats in the documentation: http://pandas.pydata.org/pandas-docs/stable/indexing.html#indexing-view-versus-copy\n",
      "  \n",
      "/home/ddm2018-1/anaconda3/lib/python3.7/site-packages/ipykernel_launcher.py:3: SettingWithCopyWarning: \n",
      "A value is trying to be set on a copy of a slice from a DataFrame\n",
      "\n",
      "See the caveats in the documentation: http://pandas.pydata.org/pandas-docs/stable/indexing.html#indexing-view-versus-copy\n",
      "  This is separate from the ipykernel package so we can avoid doing imports until\n",
      "/home/ddm2018-1/anaconda3/lib/python3.7/site-packages/ipykernel_launcher.py:4: SettingWithCopyWarning: \n",
      "A value is trying to be set on a copy of a slice from a DataFrame\n",
      "\n",
      "See the caveats in the documentation: http://pandas.pydata.org/pandas-docs/stable/indexing.html#indexing-view-versus-copy\n",
      "  after removing the cwd from sys.path.\n",
      "/home/ddm2018-1/anaconda3/lib/python3.7/site-packages/ipykernel_launcher.py:5: SettingWithCopyWarning: \n",
      "A value is trying to be set on a copy of a slice from a DataFrame\n",
      "\n",
      "See the caveats in the documentation: http://pandas.pydata.org/pandas-docs/stable/indexing.html#indexing-view-versus-copy\n",
      "  \"\"\"\n",
      "/home/ddm2018-1/anaconda3/lib/python3.7/site-packages/ipykernel_launcher.py:6: SettingWithCopyWarning: \n",
      "A value is trying to be set on a copy of a slice from a DataFrame\n",
      "\n",
      "See the caveats in the documentation: http://pandas.pydata.org/pandas-docs/stable/indexing.html#indexing-view-versus-copy\n",
      "  \n",
      "/home/ddm2018-1/anaconda3/lib/python3.7/site-packages/ipykernel_launcher.py:7: SettingWithCopyWarning: \n",
      "A value is trying to be set on a copy of a slice from a DataFrame\n",
      "\n",
      "See the caveats in the documentation: http://pandas.pydata.org/pandas-docs/stable/indexing.html#indexing-view-versus-copy\n",
      "  import sys\n",
      "/home/ddm2018-1/anaconda3/lib/python3.7/site-packages/ipykernel_launcher.py:8: SettingWithCopyWarning: \n",
      "A value is trying to be set on a copy of a slice from a DataFrame\n",
      "\n",
      "See the caveats in the documentation: http://pandas.pydata.org/pandas-docs/stable/indexing.html#indexing-view-versus-copy\n",
      "  \n",
      "/home/ddm2018-1/anaconda3/lib/python3.7/site-packages/ipykernel_launcher.py:9: SettingWithCopyWarning: \n",
      "A value is trying to be set on a copy of a slice from a DataFrame\n",
      "\n",
      "See the caveats in the documentation: http://pandas.pydata.org/pandas-docs/stable/indexing.html#indexing-view-versus-copy\n",
      "  if __name__ == '__main__':\n",
      "/home/ddm2018-1/anaconda3/lib/python3.7/site-packages/ipykernel_launcher.py:10: SettingWithCopyWarning: \n",
      "A value is trying to be set on a copy of a slice from a DataFrame\n",
      "\n",
      "See the caveats in the documentation: http://pandas.pydata.org/pandas-docs/stable/indexing.html#indexing-view-versus-copy\n",
      "  # Remove the CWD from sys.path while we load stuff.\n",
      "/home/ddm2018-1/anaconda3/lib/python3.7/site-packages/ipykernel_launcher.py:11: SettingWithCopyWarning: \n",
      "A value is trying to be set on a copy of a slice from a DataFrame\n",
      "\n",
      "See the caveats in the documentation: http://pandas.pydata.org/pandas-docs/stable/indexing.html#indexing-view-versus-copy\n",
      "  # This is added back by InteractiveShellApp.init_path()\n",
      "/home/ddm2018-1/anaconda3/lib/python3.7/site-packages/ipykernel_launcher.py:12: SettingWithCopyWarning: \n",
      "A value is trying to be set on a copy of a slice from a DataFrame\n",
      "\n",
      "See the caveats in the documentation: http://pandas.pydata.org/pandas-docs/stable/indexing.html#indexing-view-versus-copy\n",
      "  if sys.path[0] == '':\n",
      "/home/ddm2018-1/anaconda3/lib/python3.7/site-packages/ipykernel_launcher.py:13: SettingWithCopyWarning: \n",
      "A value is trying to be set on a copy of a slice from a DataFrame\n",
      "\n",
      "See the caveats in the documentation: http://pandas.pydata.org/pandas-docs/stable/indexing.html#indexing-view-versus-copy\n",
      "  del sys.path[0]\n",
      "/home/ddm2018-1/anaconda3/lib/python3.7/site-packages/ipykernel_launcher.py:14: SettingWithCopyWarning: \n",
      "A value is trying to be set on a copy of a slice from a DataFrame\n",
      "\n",
      "See the caveats in the documentation: http://pandas.pydata.org/pandas-docs/stable/indexing.html#indexing-view-versus-copy\n",
      "  \n",
      "/home/ddm2018-1/anaconda3/lib/python3.7/site-packages/ipykernel_launcher.py:15: SettingWithCopyWarning: \n",
      "A value is trying to be set on a copy of a slice from a DataFrame\n",
      "\n",
      "See the caveats in the documentation: http://pandas.pydata.org/pandas-docs/stable/indexing.html#indexing-view-versus-copy\n",
      "  from ipykernel import kernelapp as app\n",
      "/home/ddm2018-1/anaconda3/lib/python3.7/site-packages/ipykernel_launcher.py:16: SettingWithCopyWarning: \n",
      "A value is trying to be set on a copy of a slice from a DataFrame\n",
      "\n",
      "See the caveats in the documentation: http://pandas.pydata.org/pandas-docs/stable/indexing.html#indexing-view-versus-copy\n",
      "  app.launch_new_instance()\n",
      "/home/ddm2018-1/anaconda3/lib/python3.7/site-packages/ipykernel_launcher.py:17: SettingWithCopyWarning: \n",
      "A value is trying to be set on a copy of a slice from a DataFrame\n",
      "\n",
      "See the caveats in the documentation: http://pandas.pydata.org/pandas-docs/stable/indexing.html#indexing-view-versus-copy\n"
     ]
    }
   ],
   "source": [
    "data['LABEL_SEAT'][data['LABEL_SEAT'] == 0] = -1\n",
    "data['LABEL_BED'][data['LABEL_BED'] == 0] = -1\n",
    "data['LABEL_IFE'][data['LABEL_IFE'] == 0] = -1\n",
    "data['LABEL_FOOD'][data['LABEL_FOOD'] == 0] = -1\n",
    "data['LABEL_NOISE'][data['LABEL_NOISE'] == 0] = -1\n",
    "data['LABEL_TEMPERATURE'][data['LABEL_LAVATORY SPACE'] == 0] = -1\n",
    "data['LABEL_HUMIDITY'][data['LABEL_HUMIDITY'] == 0] = -1\n",
    "data['LABEL_CABIN CREW'][data['LABEL_CABIN CREW'] == 0] = -1\n",
    "data['LABEL_LAVATORY SPACE'][data['LABEL_LAVATORY SPACE'] == 0] = -1\n",
    "data['LABEL_PRICE'][data['LABEL_PRICE'] == 0] = -1\n",
    "data['LABEL_LOST BAGGAGE'][data['LABEL_LOST BAGGAGE'] == 0] = -1\n",
    "data['LABEL_CHECK IN'][data['LABEL_CHECK IN'] == 0] = -1\n",
    "data['LABEL_PUNCTUALITY'][data['LABEL_PUNCTUALITY'] == 0] = -1\n",
    "data['LABEL_ATTRACTIVE AIRCRAFT'][data['LABEL_ATTRACTIVE AIRCRAFT'] == 0] = -1\n",
    "data['LABEL_SAV'][data['LABEL_SAV'] == 0] = -1\n",
    "data['LABEL_BOARDING'][data['LABEL_BOARDING'] == 0] = -1\n",
    "data['LABEL_GENERAL'][data['LABEL_GENERAL'] == 0] = -1"
   ]
  },
  {
   "cell_type": "code",
   "execution_count": 26,
   "metadata": {
    "ExecuteTime": {
     "end_time": "2020-01-12T09:12:12.814006Z",
     "start_time": "2020-01-12T09:12:12.801818Z"
    },
    "hidden": true
   },
   "outputs": [],
   "source": [
    "data['LABEL_SEAT'] = data['LABEL_SEAT'].fillna(0)\n",
    "data['LABEL_BED'] = data['LABEL_BED'].fillna(0)\n",
    "data['LABEL_IFE'] = data['LABEL_IFE'].fillna(0)\n",
    "data['LABEL_FOOD'] = data['LABEL_FOOD'].fillna(0)\n",
    "data['LABEL_NOISE'] = data['LABEL_NOISE'].fillna(0)\n",
    "data['LABEL_TEMPERATURE'] = data['LABEL_TEMPERATURE'].fillna(0)\n",
    "data['LABEL_HUMIDITY'] = data['LABEL_HUMIDITY'].fillna(0)\n",
    "data['LABEL_CABIN CREW'] = data['LABEL_CABIN CREW'].fillna(0)\n",
    "data['LABEL_LAVATORY SPACE'] = data['LABEL_LAVATORY SPACE'].fillna(0)\n",
    "data['LABEL_PRICE'] = data['LABEL_PRICE'].fillna(0)\n",
    "data['LABEL_LOST BAGGAGE'] = data['LABEL_LOST BAGGAGE'].fillna(0)\n",
    "data['LABEL_CHECK IN'] = data['LABEL_LAVATORY SPACE'].fillna(0)\n",
    "data['LABEL_PUNCTUALITY'] = data['LABEL_PUNCTUALITY'].fillna(0)\n",
    "data['LABEL_ATTRACTIVE AIRCRAFT'] = data['LABEL_LAVATORY SPACE'].fillna(0)\n",
    "data['LABEL_SAV'] = data['LABEL_SAV'].fillna(0)\n",
    "data['LABEL_BOARDING'] = data['LABEL_BOARDING'].fillna(0)\n",
    "data['LABEL_GENERAL'] = data['LABEL_GENERAL'].fillna(0)"
   ]
  },
  {
   "cell_type": "code",
   "execution_count": 27,
   "metadata": {
    "ExecuteTime": {
     "end_time": "2020-01-12T09:12:20.185950Z",
     "start_time": "2020-01-12T09:12:20.160743Z"
    },
    "hidden": true
   },
   "outputs": [
    {
     "data": {
      "text/html": [
       "<div>\n",
       "<style scoped>\n",
       "    .dataframe tbody tr th:only-of-type {\n",
       "        vertical-align: middle;\n",
       "    }\n",
       "\n",
       "    .dataframe tbody tr th {\n",
       "        vertical-align: top;\n",
       "    }\n",
       "\n",
       "    .dataframe thead th {\n",
       "        text-align: right;\n",
       "    }\n",
       "</style>\n",
       "<table border=\"1\" class=\"dataframe\">\n",
       "  <thead>\n",
       "    <tr style=\"text-align: right;\">\n",
       "      <th></th>\n",
       "      <th>Data_Source</th>\n",
       "      <th>Airline_Name</th>\n",
       "      <th>Aircraft_Type</th>\n",
       "      <th>Cabin_Class</th>\n",
       "      <th>Type_Of_Lounge</th>\n",
       "      <th>Type_Of_Traveller</th>\n",
       "      <th>Date_Visit</th>\n",
       "      <th>Date_Flown</th>\n",
       "      <th>Airport</th>\n",
       "      <th>Route</th>\n",
       "      <th>...</th>\n",
       "      <th>LABEL_LAVATORY SPACE</th>\n",
       "      <th>LABEL_PRICE</th>\n",
       "      <th>LABEL_LOST BAGGAGE</th>\n",
       "      <th>LABEL_CHECK IN</th>\n",
       "      <th>LABEL_PUNCTUALITY</th>\n",
       "      <th>LABEL_ATTRACTIVE AIRCRAFT</th>\n",
       "      <th>LABEL_SAV</th>\n",
       "      <th>LABEL_BOARDING</th>\n",
       "      <th>LABEL_GENERAL</th>\n",
       "      <th>Unnamed: 54</th>\n",
       "    </tr>\n",
       "  </thead>\n",
       "  <tbody>\n",
       "    <tr>\n",
       "      <th>0</th>\n",
       "      <td>Airline Quality Airline</td>\n",
       "      <td>adria-airways</td>\n",
       "      <td>A319</td>\n",
       "      <td>Economy Class</td>\n",
       "      <td>NaN</td>\n",
       "      <td>Family Leisure</td>\n",
       "      <td>NaN</td>\n",
       "      <td>August 2015</td>\n",
       "      <td>NaN</td>\n",
       "      <td>Manchester to Ljubljana</td>\n",
       "      <td>...</td>\n",
       "      <td>0.0</td>\n",
       "      <td>0.0</td>\n",
       "      <td>0.0</td>\n",
       "      <td>0.0</td>\n",
       "      <td>2.0</td>\n",
       "      <td>0.0</td>\n",
       "      <td>0.0</td>\n",
       "      <td>0.0</td>\n",
       "      <td>2.0</td>\n",
       "      <td>NaN</td>\n",
       "    </tr>\n",
       "    <tr>\n",
       "      <th>1</th>\n",
       "      <td>Airline Quality Airline</td>\n",
       "      <td>adria-airways</td>\n",
       "      <td>A319</td>\n",
       "      <td>Economy Class</td>\n",
       "      <td>NaN</td>\n",
       "      <td>Family Leisure</td>\n",
       "      <td>NaN</td>\n",
       "      <td>August 2015</td>\n",
       "      <td>NaN</td>\n",
       "      <td>Manchester to Ljubljana</td>\n",
       "      <td>...</td>\n",
       "      <td>0.0</td>\n",
       "      <td>0.0</td>\n",
       "      <td>0.0</td>\n",
       "      <td>0.0</td>\n",
       "      <td>0.0</td>\n",
       "      <td>0.0</td>\n",
       "      <td>0.0</td>\n",
       "      <td>0.0</td>\n",
       "      <td>0.0</td>\n",
       "      <td>NaN</td>\n",
       "    </tr>\n",
       "    <tr>\n",
       "      <th>2</th>\n",
       "      <td>Airline Quality Airline</td>\n",
       "      <td>adria-airways</td>\n",
       "      <td>A319</td>\n",
       "      <td>Economy Class</td>\n",
       "      <td>NaN</td>\n",
       "      <td>Family Leisure</td>\n",
       "      <td>NaN</td>\n",
       "      <td>August 2015</td>\n",
       "      <td>NaN</td>\n",
       "      <td>Manchester to Ljubljana</td>\n",
       "      <td>...</td>\n",
       "      <td>0.0</td>\n",
       "      <td>0.0</td>\n",
       "      <td>0.0</td>\n",
       "      <td>0.0</td>\n",
       "      <td>0.0</td>\n",
       "      <td>0.0</td>\n",
       "      <td>0.0</td>\n",
       "      <td>0.0</td>\n",
       "      <td>0.0</td>\n",
       "      <td>NaN</td>\n",
       "    </tr>\n",
       "    <tr>\n",
       "      <th>3</th>\n",
       "      <td>Airline Quality Airline</td>\n",
       "      <td>adria-airways</td>\n",
       "      <td>A319</td>\n",
       "      <td>Economy Class</td>\n",
       "      <td>NaN</td>\n",
       "      <td>Family Leisure</td>\n",
       "      <td>NaN</td>\n",
       "      <td>August 2015</td>\n",
       "      <td>NaN</td>\n",
       "      <td>Manchester to Ljubljana</td>\n",
       "      <td>...</td>\n",
       "      <td>0.0</td>\n",
       "      <td>0.0</td>\n",
       "      <td>0.0</td>\n",
       "      <td>0.0</td>\n",
       "      <td>1.0</td>\n",
       "      <td>0.0</td>\n",
       "      <td>0.0</td>\n",
       "      <td>1.0</td>\n",
       "      <td>0.0</td>\n",
       "      <td>NaN</td>\n",
       "    </tr>\n",
       "    <tr>\n",
       "      <th>4</th>\n",
       "      <td>Airline Quality Airline</td>\n",
       "      <td>adria-airways</td>\n",
       "      <td>A319</td>\n",
       "      <td>Economy Class</td>\n",
       "      <td>NaN</td>\n",
       "      <td>Family Leisure</td>\n",
       "      <td>NaN</td>\n",
       "      <td>August 2015</td>\n",
       "      <td>NaN</td>\n",
       "      <td>Manchester to Ljubljana</td>\n",
       "      <td>...</td>\n",
       "      <td>0.0</td>\n",
       "      <td>0.0</td>\n",
       "      <td>0.0</td>\n",
       "      <td>0.0</td>\n",
       "      <td>0.0</td>\n",
       "      <td>0.0</td>\n",
       "      <td>0.0</td>\n",
       "      <td>0.0</td>\n",
       "      <td>2.0</td>\n",
       "      <td>NaN</td>\n",
       "    </tr>\n",
       "  </tbody>\n",
       "</table>\n",
       "<p>5 rows × 55 columns</p>\n",
       "</div>"
      ],
      "text/plain": [
       "               Data_Source   Airline_Name Aircraft_Type    Cabin_Class  \\\n",
       "0  Airline Quality Airline  adria-airways          A319  Economy Class   \n",
       "1  Airline Quality Airline  adria-airways          A319  Economy Class   \n",
       "2  Airline Quality Airline  adria-airways          A319  Economy Class   \n",
       "3  Airline Quality Airline  adria-airways          A319  Economy Class   \n",
       "4  Airline Quality Airline  adria-airways          A319  Economy Class   \n",
       "\n",
       "  Type_Of_Lounge Type_Of_Traveller Date_Visit   Date_Flown Airport  \\\n",
       "0            NaN    Family Leisure        NaN  August 2015     NaN   \n",
       "1            NaN    Family Leisure        NaN  August 2015     NaN   \n",
       "2            NaN    Family Leisure        NaN  August 2015     NaN   \n",
       "3            NaN    Family Leisure        NaN  August 2015     NaN   \n",
       "4            NaN    Family Leisure        NaN  August 2015     NaN   \n",
       "\n",
       "                     Route     ...       LABEL_LAVATORY SPACE  LABEL_PRICE  \\\n",
       "0  Manchester to Ljubljana     ...                        0.0          0.0   \n",
       "1  Manchester to Ljubljana     ...                        0.0          0.0   \n",
       "2  Manchester to Ljubljana     ...                        0.0          0.0   \n",
       "3  Manchester to Ljubljana     ...                        0.0          0.0   \n",
       "4  Manchester to Ljubljana     ...                        0.0          0.0   \n",
       "\n",
       "   LABEL_LOST BAGGAGE  LABEL_CHECK IN  LABEL_PUNCTUALITY  \\\n",
       "0                 0.0             0.0                2.0   \n",
       "1                 0.0             0.0                0.0   \n",
       "2                 0.0             0.0                0.0   \n",
       "3                 0.0             0.0                1.0   \n",
       "4                 0.0             0.0                0.0   \n",
       "\n",
       "   LABEL_ATTRACTIVE AIRCRAFT  LABEL_SAV  LABEL_BOARDING  LABEL_GENERAL  \\\n",
       "0                        0.0        0.0             0.0            2.0   \n",
       "1                        0.0        0.0             0.0            0.0   \n",
       "2                        0.0        0.0             0.0            0.0   \n",
       "3                        0.0        0.0             1.0            0.0   \n",
       "4                        0.0        0.0             0.0            2.0   \n",
       "\n",
       "   Unnamed: 54  \n",
       "0          NaN  \n",
       "1          NaN  \n",
       "2          NaN  \n",
       "3          NaN  \n",
       "4          NaN  \n",
       "\n",
       "[5 rows x 55 columns]"
      ]
     },
     "execution_count": 27,
     "metadata": {},
     "output_type": "execute_result"
    }
   ],
   "source": [
    "data.head()"
   ]
  },
  {
   "cell_type": "markdown",
   "metadata": {
    "hidden": true
   },
   "source": [
    "Verification that there are no missing values in the new labels."
   ]
  },
  {
   "cell_type": "code",
   "execution_count": 28,
   "metadata": {
    "ExecuteTime": {
     "end_time": "2020-01-12T09:13:04.975498Z",
     "start_time": "2020-01-12T09:13:04.945858Z"
    },
    "hidden": true,
    "scrolled": true
   },
   "outputs": [
    {
     "name": "stdout",
     "output_type": "stream",
     "text": [
      "Data_Source                   0.000000\n",
      "Airline_Name                  0.000000\n",
      "Aircraft_Type                51.515152\n",
      "Cabin_Class                  80.758404\n",
      "Type_Of_Lounge               98.460010\n",
      "Type_Of_Traveller            89.269747\n",
      "Date_Visit                   99.321080\n",
      "Date_Flown                   89.385660\n",
      "Airport                      98.509687\n",
      "Route                        85.775791\n",
      "Cabin_Staff_Service          79.516476\n",
      "Lounge_Staff_Service         98.460010\n",
      "Bar_And_Beverages            98.443451\n",
      "Food_And_Beverages           79.947011\n",
      "Ground_Service               91.306508\n",
      "Catering                     98.443451\n",
      "Cleanliness                  98.443451\n",
      "Comfort                      98.443451\n",
      "Aisle_Space                  96.870343\n",
      "Wifi_And_Connectivity        96.290777\n",
      "Inflight_Entertainment       82.579897\n",
      "Viewing_Tv_Screen            97.400232\n",
      "Power_Supply                 98.989899\n",
      "Seat                         62.626263\n",
      "Seat_Type                    96.837225\n",
      "Seat_Comfort                 82.894519\n",
      "Seat_Legroom                 93.359828\n",
      "Seat_Storage                 98.046034\n",
      "Seat_Width                   93.061765\n",
      "Seat_Recline                 96.588839\n",
      "Washrooms                    98.642159\n",
      "Value_For_Money              80.410664\n",
      "Overall_Customer_Rating      39.261467\n",
      "Recommended                  75.095214\n",
      "Date_Review                  35.883424\n",
      "Review                        0.000000\n",
      "Sentence                      0.000000\n",
      "LABEL_SEAT                    0.000000\n",
      "LABEL_BED                     0.000000\n",
      "LABEL_IFE                     0.000000\n",
      "LABEL_FOOD                    0.000000\n",
      "LABEL_NOISE                   0.000000\n",
      "LABEL_TEMPERATURE             0.000000\n",
      "LABEL_HUMIDITY                0.000000\n",
      "LABEL_CABIN CREW              0.000000\n",
      "LABEL_LAVATORY SPACE          0.000000\n",
      "LABEL_PRICE                   0.000000\n",
      "LABEL_LOST BAGGAGE            0.000000\n",
      "LABEL_CHECK IN                0.000000\n",
      "LABEL_PUNCTUALITY             0.000000\n",
      "LABEL_ATTRACTIVE AIRCRAFT     0.000000\n",
      "LABEL_SAV                     0.000000\n",
      "LABEL_BOARDING                0.000000\n",
      "LABEL_GENERAL                 0.000000\n",
      "Unnamed: 54                  96.390131\n",
      "dtype: float64\n"
     ]
    }
   ],
   "source": [
    "print(data.isnull().sum()/len(data)*100)"
   ]
  },
  {
   "cell_type": "markdown",
   "metadata": {
    "hidden": true
   },
   "source": [
    "Export of the new file in csv format"
   ]
  },
  {
   "cell_type": "code",
   "execution_count": null,
   "metadata": {
    "hidden": true
   },
   "outputs": [],
   "source": [
    "data.to_excel(workpath+'ANNOTATE_V2.xlsx')"
   ]
  },
  {
   "cell_type": "markdown",
   "metadata": {
    "heading_collapsed": true,
    "hidden": true
   },
   "source": [
    "### Creation of OTHERS_ANNOTATE_v2"
   ]
  },
  {
   "cell_type": "code",
   "execution_count": 17,
   "metadata": {
    "ExecuteTime": {
     "end_time": "2020-01-12T09:09:39.728884Z",
     "start_time": "2020-01-12T09:09:39.599151Z"
    },
    "hidden": true
   },
   "outputs": [],
   "source": [
    "others_annotate = pd.read_excel(workpath+'OTHERS_DATA_ANNOTATE.xlsx')"
   ]
  },
  {
   "cell_type": "code",
   "execution_count": 20,
   "metadata": {
    "ExecuteTime": {
     "end_time": "2020-01-12T09:09:48.657365Z",
     "start_time": "2020-01-12T09:09:48.649640Z"
    },
    "hidden": true
   },
   "outputs": [],
   "source": [
    "data = others_annotate.copy()"
   ]
  },
  {
   "cell_type": "code",
   "execution_count": 21,
   "metadata": {
    "ExecuteTime": {
     "end_time": "2020-01-12T09:09:50.304171Z",
     "start_time": "2020-01-12T09:09:50.283202Z"
    },
    "hidden": true
   },
   "outputs": [
    {
     "data": {
      "text/html": [
       "<div>\n",
       "<style scoped>\n",
       "    .dataframe tbody tr th:only-of-type {\n",
       "        vertical-align: middle;\n",
       "    }\n",
       "\n",
       "    .dataframe tbody tr th {\n",
       "        vertical-align: top;\n",
       "    }\n",
       "\n",
       "    .dataframe thead th {\n",
       "        text-align: right;\n",
       "    }\n",
       "</style>\n",
       "<table border=\"1\" class=\"dataframe\">\n",
       "  <thead>\n",
       "    <tr style=\"text-align: right;\">\n",
       "      <th></th>\n",
       "      <th>REVIEW</th>\n",
       "      <th>LABEL_SEAT</th>\n",
       "      <th>LABEL_BED</th>\n",
       "      <th>LABEL_IFE</th>\n",
       "      <th>LABEL_FOOD</th>\n",
       "      <th>LABEL_NOISE</th>\n",
       "      <th>LABEL_TEMPERATURE</th>\n",
       "      <th>LABEL_HUMIDITY</th>\n",
       "      <th>LABEL_CABIN CREW</th>\n",
       "      <th>LABEL_LAVATORY SPACE</th>\n",
       "      <th>LABEL_PRICE</th>\n",
       "      <th>LABEL_LOST BAGGAGE</th>\n",
       "      <th>LABEL_CHECK IN</th>\n",
       "      <th>LABEL_PUNCTUALITY</th>\n",
       "      <th>LABEL_ATTRACTIVE AIRCRAFT</th>\n",
       "      <th>LABEL_SAV</th>\n",
       "      <th>LABEL_BOARDING</th>\n",
       "      <th>LABEL_GENERAL</th>\n",
       "    </tr>\n",
       "  </thead>\n",
       "  <tbody>\n",
       "    <tr>\n",
       "      <th>0</th>\n",
       "      <td>Points positifs : The crew was very nice and ...</td>\n",
       "      <td>NaN</td>\n",
       "      <td>NaN</td>\n",
       "      <td>NaN</td>\n",
       "      <td>NaN</td>\n",
       "      <td>NaN</td>\n",
       "      <td>NaN</td>\n",
       "      <td>NaN</td>\n",
       "      <td>2.0</td>\n",
       "      <td>NaN</td>\n",
       "      <td>NaN</td>\n",
       "      <td>NaN</td>\n",
       "      <td>NaN</td>\n",
       "      <td>NaN</td>\n",
       "      <td>NaN</td>\n",
       "      <td>NaN</td>\n",
       "      <td>NaN</td>\n",
       "      <td>NaN</td>\n",
       "    </tr>\n",
       "    <tr>\n",
       "      <th>1</th>\n",
       "      <td>Points positifs : I was upgraded to business:...</td>\n",
       "      <td>2.0</td>\n",
       "      <td>NaN</td>\n",
       "      <td>NaN</td>\n",
       "      <td>NaN</td>\n",
       "      <td>NaN</td>\n",
       "      <td>NaN</td>\n",
       "      <td>NaN</td>\n",
       "      <td>NaN</td>\n",
       "      <td>NaN</td>\n",
       "      <td>NaN</td>\n",
       "      <td>NaN</td>\n",
       "      <td>NaN</td>\n",
       "      <td>NaN</td>\n",
       "      <td>2.0</td>\n",
       "      <td>2.0</td>\n",
       "      <td>NaN</td>\n",
       "      <td>NaN</td>\n",
       "    </tr>\n",
       "    <tr>\n",
       "      <th>2</th>\n",
       "      <td>Points négatifs : Even in business seats were...</td>\n",
       "      <td>0.0</td>\n",
       "      <td>NaN</td>\n",
       "      <td>NaN</td>\n",
       "      <td>0.0</td>\n",
       "      <td>NaN</td>\n",
       "      <td>NaN</td>\n",
       "      <td>NaN</td>\n",
       "      <td>NaN</td>\n",
       "      <td>NaN</td>\n",
       "      <td>NaN</td>\n",
       "      <td>NaN</td>\n",
       "      <td>NaN</td>\n",
       "      <td>NaN</td>\n",
       "      <td>NaN</td>\n",
       "      <td>NaN</td>\n",
       "      <td>NaN</td>\n",
       "      <td>NaN</td>\n",
       "    </tr>\n",
       "    <tr>\n",
       "      <th>3</th>\n",
       "      <td>Points négatifs : It sucked you are not allow...</td>\n",
       "      <td>NaN</td>\n",
       "      <td>NaN</td>\n",
       "      <td>NaN</td>\n",
       "      <td>NaN</td>\n",
       "      <td>NaN</td>\n",
       "      <td>NaN</td>\n",
       "      <td>NaN</td>\n",
       "      <td>NaN</td>\n",
       "      <td>NaN</td>\n",
       "      <td>NaN</td>\n",
       "      <td>NaN</td>\n",
       "      <td>0.0</td>\n",
       "      <td>NaN</td>\n",
       "      <td>NaN</td>\n",
       "      <td>0.0</td>\n",
       "      <td>NaN</td>\n",
       "      <td>NaN</td>\n",
       "    </tr>\n",
       "    <tr>\n",
       "      <th>4</th>\n",
       "      <td>Points négatifs : Too much mayonnaise on the ...</td>\n",
       "      <td>NaN</td>\n",
       "      <td>NaN</td>\n",
       "      <td>NaN</td>\n",
       "      <td>0.0</td>\n",
       "      <td>NaN</td>\n",
       "      <td>NaN</td>\n",
       "      <td>NaN</td>\n",
       "      <td>NaN</td>\n",
       "      <td>NaN</td>\n",
       "      <td>NaN</td>\n",
       "      <td>NaN</td>\n",
       "      <td>NaN</td>\n",
       "      <td>NaN</td>\n",
       "      <td>NaN</td>\n",
       "      <td>NaN</td>\n",
       "      <td>NaN</td>\n",
       "      <td>NaN</td>\n",
       "    </tr>\n",
       "  </tbody>\n",
       "</table>\n",
       "</div>"
      ],
      "text/plain": [
       "                                              REVIEW  LABEL_SEAT  LABEL_BED  \\\n",
       "0   Points positifs : The crew was very nice and ...         NaN        NaN   \n",
       "1   Points positifs : I was upgraded to business:...         2.0        NaN   \n",
       "2   Points négatifs : Even in business seats were...         0.0        NaN   \n",
       "3   Points négatifs : It sucked you are not allow...         NaN        NaN   \n",
       "4   Points négatifs : Too much mayonnaise on the ...         NaN        NaN   \n",
       "\n",
       "   LABEL_IFE  LABEL_FOOD  LABEL_NOISE  LABEL_TEMPERATURE  LABEL_HUMIDITY  \\\n",
       "0        NaN         NaN          NaN                NaN             NaN   \n",
       "1        NaN         NaN          NaN                NaN             NaN   \n",
       "2        NaN         0.0          NaN                NaN             NaN   \n",
       "3        NaN         NaN          NaN                NaN             NaN   \n",
       "4        NaN         0.0          NaN                NaN             NaN   \n",
       "\n",
       "   LABEL_CABIN CREW  LABEL_LAVATORY SPACE  LABEL_PRICE  LABEL_LOST BAGGAGE  \\\n",
       "0               2.0                   NaN          NaN                 NaN   \n",
       "1               NaN                   NaN          NaN                 NaN   \n",
       "2               NaN                   NaN          NaN                 NaN   \n",
       "3               NaN                   NaN          NaN                 NaN   \n",
       "4               NaN                   NaN          NaN                 NaN   \n",
       "\n",
       "   LABEL_CHECK IN  LABEL_PUNCTUALITY  LABEL_ATTRACTIVE AIRCRAFT  LABEL_SAV  \\\n",
       "0             NaN                NaN                        NaN        NaN   \n",
       "1             NaN                NaN                        2.0        2.0   \n",
       "2             NaN                NaN                        NaN        NaN   \n",
       "3             0.0                NaN                        NaN        0.0   \n",
       "4             NaN                NaN                        NaN        NaN   \n",
       "\n",
       "   LABEL_BOARDING  LABEL_GENERAL  \n",
       "0             NaN            NaN  \n",
       "1             NaN            NaN  \n",
       "2             NaN            NaN  \n",
       "3             NaN            NaN  \n",
       "4             NaN            NaN  "
      ]
     },
     "execution_count": 21,
     "metadata": {},
     "output_type": "execute_result"
    }
   ],
   "source": [
    "data.head()"
   ]
  },
  {
   "cell_type": "markdown",
   "metadata": {
    "hidden": true
   },
   "source": [
    "Creation of new labels"
   ]
  },
  {
   "cell_type": "code",
   "execution_count": 7,
   "metadata": {
    "ExecuteTime": {
     "end_time": "2020-01-12T08:59:31.538521Z",
     "start_time": "2020-01-12T08:59:31.010132Z"
    },
    "hidden": true,
    "scrolled": true
   },
   "outputs": [
    {
     "name": "stderr",
     "output_type": "stream",
     "text": [
      "/home/ddm2018-1/anaconda3/lib/python3.7/site-packages/ipykernel_launcher.py:1: SettingWithCopyWarning: \n",
      "A value is trying to be set on a copy of a slice from a DataFrame\n",
      "\n",
      "See the caveats in the documentation: http://pandas.pydata.org/pandas-docs/stable/indexing.html#indexing-view-versus-copy\n",
      "  \"\"\"Entry point for launching an IPython kernel.\n",
      "/home/ddm2018-1/anaconda3/lib/python3.7/site-packages/ipykernel_launcher.py:2: SettingWithCopyWarning: \n",
      "A value is trying to be set on a copy of a slice from a DataFrame\n",
      "\n",
      "See the caveats in the documentation: http://pandas.pydata.org/pandas-docs/stable/indexing.html#indexing-view-versus-copy\n",
      "  \n",
      "/home/ddm2018-1/anaconda3/lib/python3.7/site-packages/ipykernel_launcher.py:3: SettingWithCopyWarning: \n",
      "A value is trying to be set on a copy of a slice from a DataFrame\n",
      "\n",
      "See the caveats in the documentation: http://pandas.pydata.org/pandas-docs/stable/indexing.html#indexing-view-versus-copy\n",
      "  This is separate from the ipykernel package so we can avoid doing imports until\n",
      "/home/ddm2018-1/anaconda3/lib/python3.7/site-packages/ipykernel_launcher.py:4: SettingWithCopyWarning: \n",
      "A value is trying to be set on a copy of a slice from a DataFrame\n",
      "\n",
      "See the caveats in the documentation: http://pandas.pydata.org/pandas-docs/stable/indexing.html#indexing-view-versus-copy\n",
      "  after removing the cwd from sys.path.\n",
      "/home/ddm2018-1/anaconda3/lib/python3.7/site-packages/ipykernel_launcher.py:5: SettingWithCopyWarning: \n",
      "A value is trying to be set on a copy of a slice from a DataFrame\n",
      "\n",
      "See the caveats in the documentation: http://pandas.pydata.org/pandas-docs/stable/indexing.html#indexing-view-versus-copy\n",
      "  \"\"\"\n",
      "/home/ddm2018-1/anaconda3/lib/python3.7/site-packages/ipykernel_launcher.py:6: SettingWithCopyWarning: \n",
      "A value is trying to be set on a copy of a slice from a DataFrame\n",
      "\n",
      "See the caveats in the documentation: http://pandas.pydata.org/pandas-docs/stable/indexing.html#indexing-view-versus-copy\n",
      "  \n",
      "/home/ddm2018-1/anaconda3/lib/python3.7/site-packages/ipykernel_launcher.py:7: SettingWithCopyWarning: \n",
      "A value is trying to be set on a copy of a slice from a DataFrame\n",
      "\n",
      "See the caveats in the documentation: http://pandas.pydata.org/pandas-docs/stable/indexing.html#indexing-view-versus-copy\n",
      "  import sys\n",
      "/home/ddm2018-1/anaconda3/lib/python3.7/site-packages/ipykernel_launcher.py:8: SettingWithCopyWarning: \n",
      "A value is trying to be set on a copy of a slice from a DataFrame\n",
      "\n",
      "See the caveats in the documentation: http://pandas.pydata.org/pandas-docs/stable/indexing.html#indexing-view-versus-copy\n",
      "  \n",
      "/home/ddm2018-1/anaconda3/lib/python3.7/site-packages/ipykernel_launcher.py:9: SettingWithCopyWarning: \n",
      "A value is trying to be set on a copy of a slice from a DataFrame\n",
      "\n",
      "See the caveats in the documentation: http://pandas.pydata.org/pandas-docs/stable/indexing.html#indexing-view-versus-copy\n",
      "  if __name__ == '__main__':\n",
      "/home/ddm2018-1/anaconda3/lib/python3.7/site-packages/ipykernel_launcher.py:10: SettingWithCopyWarning: \n",
      "A value is trying to be set on a copy of a slice from a DataFrame\n",
      "\n",
      "See the caveats in the documentation: http://pandas.pydata.org/pandas-docs/stable/indexing.html#indexing-view-versus-copy\n",
      "  # Remove the CWD from sys.path while we load stuff.\n",
      "/home/ddm2018-1/anaconda3/lib/python3.7/site-packages/ipykernel_launcher.py:11: SettingWithCopyWarning: \n",
      "A value is trying to be set on a copy of a slice from a DataFrame\n",
      "\n",
      "See the caveats in the documentation: http://pandas.pydata.org/pandas-docs/stable/indexing.html#indexing-view-versus-copy\n",
      "  # This is added back by InteractiveShellApp.init_path()\n",
      "/home/ddm2018-1/anaconda3/lib/python3.7/site-packages/ipykernel_launcher.py:12: SettingWithCopyWarning: \n",
      "A value is trying to be set on a copy of a slice from a DataFrame\n",
      "\n",
      "See the caveats in the documentation: http://pandas.pydata.org/pandas-docs/stable/indexing.html#indexing-view-versus-copy\n",
      "  if sys.path[0] == '':\n",
      "/home/ddm2018-1/anaconda3/lib/python3.7/site-packages/ipykernel_launcher.py:13: SettingWithCopyWarning: \n",
      "A value is trying to be set on a copy of a slice from a DataFrame\n",
      "\n",
      "See the caveats in the documentation: http://pandas.pydata.org/pandas-docs/stable/indexing.html#indexing-view-versus-copy\n",
      "  del sys.path[0]\n",
      "/home/ddm2018-1/anaconda3/lib/python3.7/site-packages/ipykernel_launcher.py:14: SettingWithCopyWarning: \n",
      "A value is trying to be set on a copy of a slice from a DataFrame\n",
      "\n",
      "See the caveats in the documentation: http://pandas.pydata.org/pandas-docs/stable/indexing.html#indexing-view-versus-copy\n",
      "  \n",
      "/home/ddm2018-1/anaconda3/lib/python3.7/site-packages/ipykernel_launcher.py:15: SettingWithCopyWarning: \n",
      "A value is trying to be set on a copy of a slice from a DataFrame\n",
      "\n",
      "See the caveats in the documentation: http://pandas.pydata.org/pandas-docs/stable/indexing.html#indexing-view-versus-copy\n",
      "  from ipykernel import kernelapp as app\n",
      "/home/ddm2018-1/anaconda3/lib/python3.7/site-packages/ipykernel_launcher.py:16: SettingWithCopyWarning: \n",
      "A value is trying to be set on a copy of a slice from a DataFrame\n",
      "\n",
      "See the caveats in the documentation: http://pandas.pydata.org/pandas-docs/stable/indexing.html#indexing-view-versus-copy\n",
      "  app.launch_new_instance()\n",
      "/home/ddm2018-1/anaconda3/lib/python3.7/site-packages/ipykernel_launcher.py:17: SettingWithCopyWarning: \n",
      "A value is trying to be set on a copy of a slice from a DataFrame\n",
      "\n",
      "See the caveats in the documentation: http://pandas.pydata.org/pandas-docs/stable/indexing.html#indexing-view-versus-copy\n"
     ]
    }
   ],
   "source": [
    "data['LABEL_SEAT'][data['LABEL_SEAT'] == 0] = -1\n",
    "data['LABEL_BED'][data['LABEL_BED'] == 0] = -1\n",
    "data['LABEL_IFE'][data['LABEL_IFE'] == 0] = -1\n",
    "data['LABEL_FOOD'][data['LABEL_FOOD'] == 0] = -1\n",
    "data['LABEL_NOISE'][data['LABEL_NOISE'] == 0] = -1\n",
    "data['LABEL_TEMPERATURE'][data['LABEL_LAVATORY SPACE'] == 0] = -1\n",
    "data['LABEL_HUMIDITY'][data['LABEL_HUMIDITY'] == 0] = -1\n",
    "data['LABEL_CABIN CREW'][data['LABEL_CABIN CREW'] == 0] = -1\n",
    "data['LABEL_LAVATORY SPACE'][data['LABEL_LAVATORY SPACE'] == 0] = -1\n",
    "data['LABEL_PRICE'][data['LABEL_PRICE'] == 0] = -1\n",
    "data['LABEL_LOST BAGGAGE'][data['LABEL_LOST BAGGAGE'] == 0] = -1\n",
    "data['LABEL_CHECK IN'][data['LABEL_CHECK IN'] == 0] = -1\n",
    "data['LABEL_PUNCTUALITY'][data['LABEL_PUNCTUALITY'] == 0] = -1\n",
    "data['LABEL_ATTRACTIVE AIRCRAFT'][data['LABEL_ATTRACTIVE AIRCRAFT'] == 0] = -1\n",
    "data['LABEL_SAV'][data['LABEL_SAV'] == 0] = -1\n",
    "data['LABEL_BOARDING'][data['LABEL_BOARDING'] == 0] = -1\n",
    "data['LABEL_GENERAL'][data['LABEL_GENERAL'] == 0] = -1"
   ]
  },
  {
   "cell_type": "code",
   "execution_count": 8,
   "metadata": {
    "ExecuteTime": {
     "end_time": "2020-01-12T08:59:35.265860Z",
     "start_time": "2020-01-12T08:59:35.239321Z"
    },
    "hidden": true
   },
   "outputs": [],
   "source": [
    "data['LABEL_SEAT'] = data['LABEL_SEAT'].fillna(0)\n",
    "data['LABEL_BED'] = data['LABEL_BED'].fillna(0)\n",
    "data['LABEL_IFE'] = data['LABEL_IFE'].fillna(0)\n",
    "data['LABEL_FOOD'] = data['LABEL_FOOD'].fillna(0)\n",
    "data['LABEL_NOISE'] = data['LABEL_NOISE'].fillna(0)\n",
    "data['LABEL_TEMPERATURE'] = data['LABEL_TEMPERATURE'].fillna(0)\n",
    "data['LABEL_HUMIDITY'] = data['LABEL_HUMIDITY'].fillna(0)\n",
    "data['LABEL_CABIN CREW'] = data['LABEL_CABIN CREW'].fillna(0)\n",
    "data['LABEL_LAVATORY SPACE'] = data['LABEL_LAVATORY SPACE'].fillna(0)\n",
    "data['LABEL_PRICE'] = data['LABEL_PRICE'].fillna(0)\n",
    "data['LABEL_LOST BAGGAGE'] = data['LABEL_LOST BAGGAGE'].fillna(0)\n",
    "data['LABEL_CHECK IN'] = data['LABEL_LAVATORY SPACE'].fillna(0)\n",
    "data['LABEL_PUNCTUALITY'] = data['LABEL_PUNCTUALITY'].fillna(0)\n",
    "data['LABEL_ATTRACTIVE AIRCRAFT'] = data['LABEL_LAVATORY SPACE'].fillna(0)\n",
    "data['LABEL_SAV'] = data['LABEL_SAV'].fillna(0)\n",
    "data['LABEL_BOARDING'] = data['LABEL_BOARDING'].fillna(0)\n",
    "data['LABEL_GENERAL'] = data['LABEL_GENERAL'].fillna(0)"
   ]
  },
  {
   "cell_type": "code",
   "execution_count": 9,
   "metadata": {
    "ExecuteTime": {
     "end_time": "2020-01-12T08:59:42.276716Z",
     "start_time": "2020-01-12T08:59:42.251060Z"
    },
    "hidden": true
   },
   "outputs": [
    {
     "data": {
      "text/html": [
       "<div>\n",
       "<style scoped>\n",
       "    .dataframe tbody tr th:only-of-type {\n",
       "        vertical-align: middle;\n",
       "    }\n",
       "\n",
       "    .dataframe tbody tr th {\n",
       "        vertical-align: top;\n",
       "    }\n",
       "\n",
       "    .dataframe thead th {\n",
       "        text-align: right;\n",
       "    }\n",
       "</style>\n",
       "<table border=\"1\" class=\"dataframe\">\n",
       "  <thead>\n",
       "    <tr style=\"text-align: right;\">\n",
       "      <th></th>\n",
       "      <th>REVIEW</th>\n",
       "      <th>LABEL_SEAT</th>\n",
       "      <th>LABEL_BED</th>\n",
       "      <th>LABEL_IFE</th>\n",
       "      <th>LABEL_FOOD</th>\n",
       "      <th>LABEL_NOISE</th>\n",
       "      <th>LABEL_TEMPERATURE</th>\n",
       "      <th>LABEL_HUMIDITY</th>\n",
       "      <th>LABEL_CABIN CREW</th>\n",
       "      <th>LABEL_LAVATORY SPACE</th>\n",
       "      <th>LABEL_PRICE</th>\n",
       "      <th>LABEL_LOST BAGGAGE</th>\n",
       "      <th>LABEL_CHECK IN</th>\n",
       "      <th>LABEL_PUNCTUALITY</th>\n",
       "      <th>LABEL_ATTRACTIVE AIRCRAFT</th>\n",
       "      <th>LABEL_SAV</th>\n",
       "      <th>LABEL_BOARDING</th>\n",
       "      <th>LABEL_GENERAL</th>\n",
       "    </tr>\n",
       "  </thead>\n",
       "  <tbody>\n",
       "    <tr>\n",
       "      <th>0</th>\n",
       "      <td>Points positifs : The crew was very nice and ...</td>\n",
       "      <td>0.0</td>\n",
       "      <td>0.0</td>\n",
       "      <td>0.0</td>\n",
       "      <td>0.0</td>\n",
       "      <td>0.0</td>\n",
       "      <td>0.0</td>\n",
       "      <td>0.0</td>\n",
       "      <td>2.0</td>\n",
       "      <td>0.0</td>\n",
       "      <td>0.0</td>\n",
       "      <td>0.0</td>\n",
       "      <td>0.0</td>\n",
       "      <td>0.0</td>\n",
       "      <td>0.0</td>\n",
       "      <td>0.0</td>\n",
       "      <td>0.0</td>\n",
       "      <td>0.0</td>\n",
       "    </tr>\n",
       "    <tr>\n",
       "      <th>1</th>\n",
       "      <td>Points positifs : I was upgraded to business:...</td>\n",
       "      <td>2.0</td>\n",
       "      <td>0.0</td>\n",
       "      <td>0.0</td>\n",
       "      <td>0.0</td>\n",
       "      <td>0.0</td>\n",
       "      <td>0.0</td>\n",
       "      <td>0.0</td>\n",
       "      <td>0.0</td>\n",
       "      <td>0.0</td>\n",
       "      <td>0.0</td>\n",
       "      <td>0.0</td>\n",
       "      <td>0.0</td>\n",
       "      <td>0.0</td>\n",
       "      <td>0.0</td>\n",
       "      <td>2.0</td>\n",
       "      <td>0.0</td>\n",
       "      <td>0.0</td>\n",
       "    </tr>\n",
       "    <tr>\n",
       "      <th>2</th>\n",
       "      <td>Points négatifs : Even in business seats were...</td>\n",
       "      <td>-1.0</td>\n",
       "      <td>0.0</td>\n",
       "      <td>0.0</td>\n",
       "      <td>-1.0</td>\n",
       "      <td>0.0</td>\n",
       "      <td>0.0</td>\n",
       "      <td>0.0</td>\n",
       "      <td>0.0</td>\n",
       "      <td>0.0</td>\n",
       "      <td>0.0</td>\n",
       "      <td>0.0</td>\n",
       "      <td>0.0</td>\n",
       "      <td>0.0</td>\n",
       "      <td>0.0</td>\n",
       "      <td>0.0</td>\n",
       "      <td>0.0</td>\n",
       "      <td>0.0</td>\n",
       "    </tr>\n",
       "    <tr>\n",
       "      <th>3</th>\n",
       "      <td>Points négatifs : It sucked you are not allow...</td>\n",
       "      <td>0.0</td>\n",
       "      <td>0.0</td>\n",
       "      <td>0.0</td>\n",
       "      <td>0.0</td>\n",
       "      <td>0.0</td>\n",
       "      <td>0.0</td>\n",
       "      <td>0.0</td>\n",
       "      <td>0.0</td>\n",
       "      <td>0.0</td>\n",
       "      <td>0.0</td>\n",
       "      <td>0.0</td>\n",
       "      <td>0.0</td>\n",
       "      <td>0.0</td>\n",
       "      <td>0.0</td>\n",
       "      <td>-1.0</td>\n",
       "      <td>0.0</td>\n",
       "      <td>0.0</td>\n",
       "    </tr>\n",
       "    <tr>\n",
       "      <th>4</th>\n",
       "      <td>Points négatifs : Too much mayonnaise on the ...</td>\n",
       "      <td>0.0</td>\n",
       "      <td>0.0</td>\n",
       "      <td>0.0</td>\n",
       "      <td>-1.0</td>\n",
       "      <td>0.0</td>\n",
       "      <td>0.0</td>\n",
       "      <td>0.0</td>\n",
       "      <td>0.0</td>\n",
       "      <td>0.0</td>\n",
       "      <td>0.0</td>\n",
       "      <td>0.0</td>\n",
       "      <td>0.0</td>\n",
       "      <td>0.0</td>\n",
       "      <td>0.0</td>\n",
       "      <td>0.0</td>\n",
       "      <td>0.0</td>\n",
       "      <td>0.0</td>\n",
       "    </tr>\n",
       "  </tbody>\n",
       "</table>\n",
       "</div>"
      ],
      "text/plain": [
       "                                              REVIEW  LABEL_SEAT  LABEL_BED  \\\n",
       "0   Points positifs : The crew was very nice and ...         0.0        0.0   \n",
       "1   Points positifs : I was upgraded to business:...         2.0        0.0   \n",
       "2   Points négatifs : Even in business seats were...        -1.0        0.0   \n",
       "3   Points négatifs : It sucked you are not allow...         0.0        0.0   \n",
       "4   Points négatifs : Too much mayonnaise on the ...         0.0        0.0   \n",
       "\n",
       "   LABEL_IFE  LABEL_FOOD  LABEL_NOISE  LABEL_TEMPERATURE  LABEL_HUMIDITY  \\\n",
       "0        0.0         0.0          0.0                0.0             0.0   \n",
       "1        0.0         0.0          0.0                0.0             0.0   \n",
       "2        0.0        -1.0          0.0                0.0             0.0   \n",
       "3        0.0         0.0          0.0                0.0             0.0   \n",
       "4        0.0        -1.0          0.0                0.0             0.0   \n",
       "\n",
       "   LABEL_CABIN CREW  LABEL_LAVATORY SPACE  LABEL_PRICE  LABEL_LOST BAGGAGE  \\\n",
       "0               2.0                   0.0          0.0                 0.0   \n",
       "1               0.0                   0.0          0.0                 0.0   \n",
       "2               0.0                   0.0          0.0                 0.0   \n",
       "3               0.0                   0.0          0.0                 0.0   \n",
       "4               0.0                   0.0          0.0                 0.0   \n",
       "\n",
       "   LABEL_CHECK IN  LABEL_PUNCTUALITY  LABEL_ATTRACTIVE AIRCRAFT  LABEL_SAV  \\\n",
       "0             0.0                0.0                        0.0        0.0   \n",
       "1             0.0                0.0                        0.0        2.0   \n",
       "2             0.0                0.0                        0.0        0.0   \n",
       "3             0.0                0.0                        0.0       -1.0   \n",
       "4             0.0                0.0                        0.0        0.0   \n",
       "\n",
       "   LABEL_BOARDING  LABEL_GENERAL  \n",
       "0             0.0            0.0  \n",
       "1             0.0            0.0  \n",
       "2             0.0            0.0  \n",
       "3             0.0            0.0  \n",
       "4             0.0            0.0  "
      ]
     },
     "execution_count": 9,
     "metadata": {},
     "output_type": "execute_result"
    }
   ],
   "source": [
    "data.head()"
   ]
  },
  {
   "cell_type": "markdown",
   "metadata": {
    "hidden": true
   },
   "source": [
    "Verification that there are no missing values in the new labels."
   ]
  },
  {
   "cell_type": "code",
   "execution_count": 10,
   "metadata": {
    "ExecuteTime": {
     "end_time": "2020-01-12T09:00:04.180144Z",
     "start_time": "2020-01-12T09:00:04.061830Z"
    },
    "hidden": true
   },
   "outputs": [
    {
     "name": "stdout",
     "output_type": "stream",
     "text": [
      "REVIEW                       0.0\n",
      "LABEL_SEAT                   0.0\n",
      "LABEL_BED                    0.0\n",
      "LABEL_IFE                    0.0\n",
      "LABEL_FOOD                   0.0\n",
      "LABEL_NOISE                  0.0\n",
      "LABEL_TEMPERATURE            0.0\n",
      "LABEL_HUMIDITY               0.0\n",
      "LABEL_CABIN CREW             0.0\n",
      "LABEL_LAVATORY SPACE         0.0\n",
      "LABEL_PRICE                  0.0\n",
      "LABEL_LOST BAGGAGE           0.0\n",
      "LABEL_CHECK IN               0.0\n",
      "LABEL_PUNCTUALITY            0.0\n",
      "LABEL_ATTRACTIVE AIRCRAFT    0.0\n",
      "LABEL_SAV                    0.0\n",
      "LABEL_BOARDING               0.0\n",
      "LABEL_GENERAL                0.0\n",
      "dtype: float64\n"
     ]
    }
   ],
   "source": [
    "print(data.isnull().sum()/len(data)*100)"
   ]
  },
  {
   "cell_type": "markdown",
   "metadata": {
    "hidden": true
   },
   "source": [
    "Export of the new file in csv format"
   ]
  },
  {
   "cell_type": "code",
   "execution_count": 13,
   "metadata": {
    "ExecuteTime": {
     "end_time": "2020-01-12T09:01:54.809237Z",
     "start_time": "2020-01-12T09:01:54.177230Z"
    },
    "hidden": true
   },
   "outputs": [],
   "source": [
    "data.to_excel(workpath+'OTHERS_DATA_ANNOTATE_V2.xlsx')"
   ]
  },
  {
   "cell_type": "markdown",
   "metadata": {
    "heading_collapsed": true,
    "hidden": true
   },
   "source": [
    "## Add constructors"
   ]
  },
  {
   "cell_type": "code",
   "execution_count": 36,
   "metadata": {
    "ExecuteTime": {
     "end_time": "2020-01-14T15:06:37.241499Z",
     "start_time": "2020-01-14T15:06:37.085683Z"
    },
    "hidden": true
   },
   "outputs": [],
   "source": [
    "annotate_v2 = pd.read_csv(workpath+'ANNOTATE_V2.csv',\n",
    "                          header=0, \n",
    "                          sep=\",\", \n",
    "                          encoding='utf8', \n",
    "                          engine='python')\n",
    "del annotate_v2['Unnamed: 0']"
   ]
  },
  {
   "cell_type": "code",
   "execution_count": 37,
   "metadata": {
    "ExecuteTime": {
     "end_time": "2020-01-14T15:07:17.879897Z",
     "start_time": "2020-01-14T15:07:17.876842Z"
    },
    "hidden": true
   },
   "outputs": [],
   "source": [
    "data_ann = annotate_v2.copy()"
   ]
  },
  {
   "cell_type": "code",
   "execution_count": null,
   "metadata": {
    "hidden": true
   },
   "outputs": [],
   "source": [
    "# Code the variable constructor\n",
    "\n",
    "data_ann['Aircraft_Type'] = data_ann['Aircraft_Type'].astype(str)\n",
    "indAirbus = []\n",
    "indBoeing = []\n",
    "indEmbraer = []\n",
    "indFokker = []\n",
    "indMD = []\n",
    "indSaab = []\n",
    "indBomb = []\n",
    "for j in range(data_ann['Aircraft_Type'].shape[0]):\n",
    "    if (data_ann['Aircraft_Type'].iloc[j].startswith('irbus')) or ('A3' in data_ann['Aircraft_Type'].iloc[j]) or (data_ann['Aircraft_Type'].iloc[j].startswith('3')) or ('Airbus' in data_ann['Aircraft_Type'].iloc[j]) or ('bus' in data_ann['Aircraft_Type'].iloc[j]) or (data_ann['Aircraft_Type'].iloc[j].startswith('Russian Airlines Airbus')) or ('airbus' in data_ann['Aircraft_Type'].iloc[j]):\n",
    "        indAirbus.append(j)\n",
    "    if (data_ann['Aircraft_Type'].iloc[j].startswith('oeing')) or (data_ann['Aircraft_Type'].iloc[j].startswith('g 777')) or (data_ann['Aircraft_Type'].iloc[j].startswith('737')) or (data_ann['Aircraft_Type'].iloc[j].startswith('Boeing')) or (data_ann['Aircraft_Type'].iloc[j].startswith('Flugdienst')) or (data_ann['Aircraft_Type'].iloc[j].startswith('Rouge Boeing')) or (data_ann['Aircraft_Type'].iloc[j].startswith('Russian Airlines Boeing')) or (data_ann['Aircraft_Type'].iloc[j].startswith('b737')) or (data_ann['Aircraft_Type'].iloc[j].startswith('boeing')):\n",
    "        indBoeing.append(j)\n",
    "    if (data_ann['Aircraft_Type'].iloc[j].startswith('Embraer')) or (data_ann['Aircraft_Type'].iloc[j].startswith('Embr')) or (data_ann['Aircraft_Type'].iloc[j].startswith('E')):\n",
    "        indEmbraer.append(j)\n",
    "    if (data_ann['Aircraft_Type'].iloc[j].startswith('Fokker')) or (data_ann['Aircraft_Type'].iloc[j].startswith('fokker')):\n",
    "        indFokker.append(j)\n",
    "    if (data_ann['Aircraft_Type'].iloc[j].startswith('MD')) or (data_ann['Aircraft_Type'].iloc[j].startswith('mcdonnell')):\n",
    "        indMD.append(j)\n",
    "    if (data_ann['Aircraft_Type'].iloc[j].startswith('Q')) or (data_ann['Aircraft_Type'].iloc[j].startswith('bombardier')) or (data_ann['Aircraft_Type'].iloc[j].startswith('Bombardier')):\n",
    "        indBomb.append(j)\n",
    "    if (data_ann['Aircraft_Type'].iloc[j].startswith('Saab')) or (data_ann['Aircraft_Type'].iloc[j].startswith('SAAB')):\n",
    "        indSaab.append(j)\n",
    "data_ann['Constructor'] = \"\"\n",
    "data_ann['Constructor'].iloc[indAirbus] = 'Airbus'\n",
    "data_ann['Constructor'].iloc[indBoeing] = 'Boeing'\n",
    "data_ann['Constructor'].iloc[indBomb] = 'Bombardier'\n",
    "data_ann['Constructor'].iloc[indFokker] = 'Fokker'\n",
    "data_ann['Constructor'].iloc[indMD] = 'Mac Donnell'\n",
    "data_ann['Constructor'].iloc[indSaab] = 'Saab'\n",
    "data_ann['Constructor'].iloc[indEmbraer] = 'Embraer'"
   ]
  },
  {
   "cell_type": "code",
   "execution_count": 41,
   "metadata": {
    "ExecuteTime": {
     "end_time": "2020-01-14T15:09:56.844708Z",
     "start_time": "2020-01-14T15:09:54.142551Z"
    },
    "hidden": true
   },
   "outputs": [],
   "source": [
    "data_ann.to_excel(workpath+'ANNOTATE_V2_BIS.xlsx')"
   ]
  },
  {
   "cell_type": "markdown",
   "metadata": {
    "hidden": true
   },
   "source": [
    "## Création of 4 new variables for notes"
   ]
  },
  {
   "cell_type": "markdown",
   "metadata": {
    "heading_collapsed": true,
    "hidden": true
   },
   "source": [
    "### Creation of ANNOTATE_V3"
   ]
  },
  {
   "cell_type": "code",
   "execution_count": 60,
   "metadata": {
    "ExecuteTime": {
     "end_time": "2020-01-13T13:45:16.699243Z",
     "start_time": "2020-01-13T13:45:16.634443Z"
    },
    "hidden": true
   },
   "outputs": [],
   "source": [
    "df = pd.read_csv(workpath+\"modif/ANNOTATE_V2.csv\",\n",
    "                 encoding='latin-1', decimal=',', sep=',')"
   ]
  },
  {
   "cell_type": "code",
   "execution_count": 61,
   "metadata": {
    "ExecuteTime": {
     "end_time": "2020-01-13T13:45:17.407760Z",
     "start_time": "2020-01-13T13:45:17.392956Z"
    },
    "hidden": true
   },
   "outputs": [
    {
     "data": {
      "text/html": [
       "<div>\n",
       "<style scoped>\n",
       "    .dataframe tbody tr th:only-of-type {\n",
       "        vertical-align: middle;\n",
       "    }\n",
       "\n",
       "    .dataframe tbody tr th {\n",
       "        vertical-align: top;\n",
       "    }\n",
       "\n",
       "    .dataframe thead th {\n",
       "        text-align: right;\n",
       "    }\n",
       "</style>\n",
       "<table border=\"1\" class=\"dataframe\">\n",
       "  <thead>\n",
       "    <tr style=\"text-align: right;\">\n",
       "      <th></th>\n",
       "      <th>Unnamed: 0</th>\n",
       "      <th>Data_Source</th>\n",
       "      <th>Airline_Name</th>\n",
       "      <th>Aircraft_Type</th>\n",
       "      <th>Cabin_Class</th>\n",
       "      <th>Type_Of_Lounge</th>\n",
       "      <th>Type_Of_Traveller</th>\n",
       "      <th>Date_Visit</th>\n",
       "      <th>Date_Flown</th>\n",
       "      <th>Airport</th>\n",
       "      <th>...</th>\n",
       "      <th>LABEL_LAVATORY SPACE</th>\n",
       "      <th>LABEL_PRICE</th>\n",
       "      <th>LABEL_LOST BAGGAGE</th>\n",
       "      <th>LABEL_CHECK IN</th>\n",
       "      <th>LABEL_PUNCTUALITY</th>\n",
       "      <th>LABEL_ATTRACTIVE AIRCRAFT</th>\n",
       "      <th>LABEL_SAV</th>\n",
       "      <th>LABEL_BOARDING</th>\n",
       "      <th>LABEL_GENERAL</th>\n",
       "      <th>Unnamed: 54</th>\n",
       "    </tr>\n",
       "  </thead>\n",
       "  <tbody>\n",
       "    <tr>\n",
       "      <th>0</th>\n",
       "      <td>0</td>\n",
       "      <td>Airline Quality Airline</td>\n",
       "      <td>adria-airways</td>\n",
       "      <td>A319</td>\n",
       "      <td>Economy Class</td>\n",
       "      <td>NaN</td>\n",
       "      <td>Family Leisure</td>\n",
       "      <td>NaN</td>\n",
       "      <td>August 2015</td>\n",
       "      <td>NaN</td>\n",
       "      <td>...</td>\n",
       "      <td>0</td>\n",
       "      <td>0</td>\n",
       "      <td>0</td>\n",
       "      <td>0</td>\n",
       "      <td>2</td>\n",
       "      <td>0</td>\n",
       "      <td>0</td>\n",
       "      <td>0</td>\n",
       "      <td>2</td>\n",
       "      <td>NaN</td>\n",
       "    </tr>\n",
       "    <tr>\n",
       "      <th>1</th>\n",
       "      <td>1</td>\n",
       "      <td>Airline Quality Airline</td>\n",
       "      <td>adria-airways</td>\n",
       "      <td>A319</td>\n",
       "      <td>Economy Class</td>\n",
       "      <td>NaN</td>\n",
       "      <td>Family Leisure</td>\n",
       "      <td>NaN</td>\n",
       "      <td>August 2015</td>\n",
       "      <td>NaN</td>\n",
       "      <td>...</td>\n",
       "      <td>0</td>\n",
       "      <td>0</td>\n",
       "      <td>0</td>\n",
       "      <td>0</td>\n",
       "      <td>0</td>\n",
       "      <td>0</td>\n",
       "      <td>0</td>\n",
       "      <td>0</td>\n",
       "      <td>0</td>\n",
       "      <td>NaN</td>\n",
       "    </tr>\n",
       "    <tr>\n",
       "      <th>2</th>\n",
       "      <td>2</td>\n",
       "      <td>Airline Quality Airline</td>\n",
       "      <td>adria-airways</td>\n",
       "      <td>A319</td>\n",
       "      <td>Economy Class</td>\n",
       "      <td>NaN</td>\n",
       "      <td>Family Leisure</td>\n",
       "      <td>NaN</td>\n",
       "      <td>August 2015</td>\n",
       "      <td>NaN</td>\n",
       "      <td>...</td>\n",
       "      <td>0</td>\n",
       "      <td>0</td>\n",
       "      <td>0</td>\n",
       "      <td>0</td>\n",
       "      <td>0</td>\n",
       "      <td>0</td>\n",
       "      <td>0</td>\n",
       "      <td>0</td>\n",
       "      <td>0</td>\n",
       "      <td>NaN</td>\n",
       "    </tr>\n",
       "    <tr>\n",
       "      <th>3</th>\n",
       "      <td>3</td>\n",
       "      <td>Airline Quality Airline</td>\n",
       "      <td>adria-airways</td>\n",
       "      <td>A319</td>\n",
       "      <td>Economy Class</td>\n",
       "      <td>NaN</td>\n",
       "      <td>Family Leisure</td>\n",
       "      <td>NaN</td>\n",
       "      <td>August 2015</td>\n",
       "      <td>NaN</td>\n",
       "      <td>...</td>\n",
       "      <td>0</td>\n",
       "      <td>0</td>\n",
       "      <td>0</td>\n",
       "      <td>0</td>\n",
       "      <td>1</td>\n",
       "      <td>0</td>\n",
       "      <td>0</td>\n",
       "      <td>1</td>\n",
       "      <td>0</td>\n",
       "      <td>NaN</td>\n",
       "    </tr>\n",
       "    <tr>\n",
       "      <th>4</th>\n",
       "      <td>4</td>\n",
       "      <td>Airline Quality Airline</td>\n",
       "      <td>adria-airways</td>\n",
       "      <td>A319</td>\n",
       "      <td>Economy Class</td>\n",
       "      <td>NaN</td>\n",
       "      <td>Family Leisure</td>\n",
       "      <td>NaN</td>\n",
       "      <td>August 2015</td>\n",
       "      <td>NaN</td>\n",
       "      <td>...</td>\n",
       "      <td>0</td>\n",
       "      <td>0</td>\n",
       "      <td>0</td>\n",
       "      <td>0</td>\n",
       "      <td>0</td>\n",
       "      <td>0</td>\n",
       "      <td>0</td>\n",
       "      <td>0</td>\n",
       "      <td>2</td>\n",
       "      <td>NaN</td>\n",
       "    </tr>\n",
       "  </tbody>\n",
       "</table>\n",
       "<p>5 rows × 56 columns</p>\n",
       "</div>"
      ],
      "text/plain": [
       "   Unnamed: 0              Data_Source   Airline_Name Aircraft_Type  \\\n",
       "0           0  Airline Quality Airline  adria-airways          A319   \n",
       "1           1  Airline Quality Airline  adria-airways          A319   \n",
       "2           2  Airline Quality Airline  adria-airways          A319   \n",
       "3           3  Airline Quality Airline  adria-airways          A319   \n",
       "4           4  Airline Quality Airline  adria-airways          A319   \n",
       "\n",
       "     Cabin_Class Type_Of_Lounge Type_Of_Traveller Date_Visit   Date_Flown  \\\n",
       "0  Economy Class            NaN    Family Leisure        NaN  August 2015   \n",
       "1  Economy Class            NaN    Family Leisure        NaN  August 2015   \n",
       "2  Economy Class            NaN    Family Leisure        NaN  August 2015   \n",
       "3  Economy Class            NaN    Family Leisure        NaN  August 2015   \n",
       "4  Economy Class            NaN    Family Leisure        NaN  August 2015   \n",
       "\n",
       "  Airport     ...      LABEL_LAVATORY SPACE  LABEL_PRICE  LABEL_LOST BAGGAGE  \\\n",
       "0     NaN     ...                         0            0                   0   \n",
       "1     NaN     ...                         0            0                   0   \n",
       "2     NaN     ...                         0            0                   0   \n",
       "3     NaN     ...                         0            0                   0   \n",
       "4     NaN     ...                         0            0                   0   \n",
       "\n",
       "   LABEL_CHECK IN  LABEL_PUNCTUALITY  LABEL_ATTRACTIVE AIRCRAFT  LABEL_SAV  \\\n",
       "0               0                  2                          0          0   \n",
       "1               0                  0                          0          0   \n",
       "2               0                  0                          0          0   \n",
       "3               0                  1                          0          0   \n",
       "4               0                  0                          0          0   \n",
       "\n",
       "   LABEL_BOARDING  LABEL_GENERAL  Unnamed: 54  \n",
       "0               0              2          NaN  \n",
       "1               0              0          NaN  \n",
       "2               0              0          NaN  \n",
       "3               1              0          NaN  \n",
       "4               0              2          NaN  \n",
       "\n",
       "[5 rows x 56 columns]"
      ]
     },
     "execution_count": 61,
     "metadata": {},
     "output_type": "execute_result"
    }
   ],
   "source": [
    "df.head()"
   ]
  },
  {
   "cell_type": "markdown",
   "metadata": {
    "hidden": true
   },
   "source": [
    "Creation of new columns"
   ]
  },
  {
   "cell_type": "code",
   "execution_count": 62,
   "metadata": {
    "ExecuteTime": {
     "end_time": "2020-01-13T13:45:18.684466Z",
     "start_time": "2020-01-13T13:45:18.671230Z"
    },
    "hidden": true
   },
   "outputs": [],
   "source": [
    "df['Food_Beverages'] = 0\n",
    "df['Entertainments_And_Amenities'] =0\n",
    "df['Seat_Comfort_And_Recline'] =0\n",
    "df['Staff_Service'] = 0\n",
    "D = df.notna()"
   ]
  },
  {
   "cell_type": "code",
   "execution_count": 63,
   "metadata": {
    "ExecuteTime": {
     "end_time": "2020-01-13T13:45:19.493733Z",
     "start_time": "2020-01-13T13:45:19.489425Z"
    },
    "hidden": true
   },
   "outputs": [],
   "source": [
    "listFood_Beverages = ['Bar_And_Beverages', 'Food_And_Beverages', 'Catering']\n",
    "listEntertainments_And_Amenities = [\n",
    "    'Wifi_And_Connectivity', 'Inflight_Entertainment', 'Viewing_Tv_Screen', 'Power_Supply', 'Washrooms']\n",
    "listSeat_Comfort_And_Recline = ['Seat_Comfort', 'Seat_Recline']\n",
    "listStaff_Service = ['Cabin_Staff_Service',\n",
    "                     'Lounge_Staff_Service', 'Ground_Service']"
   ]
  },
  {
   "cell_type": "code",
   "execution_count": 66,
   "metadata": {
    "ExecuteTime": {
     "end_time": "2020-01-13T13:45:39.039632Z",
     "start_time": "2020-01-13T13:45:28.070988Z"
    },
    "hidden": true
   },
   "outputs": [],
   "source": [
    "# Fill in new columns\n",
    "\n",
    "for i in range(0, len(df)):\n",
    "    #    for i in liste :\n",
    "\n",
    "    # construction of Food_Beverages\n",
    "    sumNote = 0\n",
    "    k = 0\n",
    "    # calcul of the average of the completed notes of the constituent columns of Food_Beverages\n",
    "\n",
    "    for j in listFood_Beverages:\n",
    "        value = df.at[i, j]\n",
    "        if D.at[i, j]:\n",
    "            sumNote += value\n",
    "            k += 1\n",
    "    if k != 0:\n",
    "        note = sumNote/k\n",
    "        df.loc[df.index[i], 'Food_Beverages'] = note\n",
    "    else:\n",
    "        df.loc[df.index[i], 'Food_Beverages'] = math.nan\n",
    "\n",
    "    # construction of Entertainments_And_Amenities\n",
    "    sumNote = 0\n",
    "    k = 0\n",
    "    # calcul de la moyenne des notes complétées des colonnes constitutives de Entertainments_And_Amenities\n",
    "    for j in listEntertainments_And_Amenities:\n",
    "        value = df.at[i, j]\n",
    "        if D.at[i, j]:\n",
    "            sumNote += value\n",
    "            k += 1\n",
    "    if k != 0:\n",
    "        note = sumNote/k\n",
    "        df.loc[df.index[i], 'Entertainments_And_Amenities'] = note\n",
    "    else:\n",
    "        df.loc[df.index[i], 'Entertainments_And_Amenities'] = math.nan\n",
    "\n",
    "    # construction of Seat_Comfort_And_Recline\n",
    "    sumNote = 0\n",
    "    k = 0\n",
    "    # calcul of the average of the completed notes of the constituent columns of Seat_Comfort_And_Recline\n",
    "    for j in listSeat_Comfort_And_Recline:\n",
    "        value = df.at[i, j]\n",
    "        if D.at[i, j]:\n",
    "            sumNote += value\n",
    "            k += 1\n",
    "    if k != 0:\n",
    "        note = sumNote/k\n",
    "        df.loc[df.index[i], 'Seat_Comfort_And_Recline'] = note\n",
    "    else:\n",
    "        df.loc[df.index[i], 'Seat_Comfort_And_Recline'] = math.nan\n",
    "\n",
    "    # construction of Seat_Comfort_And_Recline\n",
    "    sumNote = 0\n",
    "    k = 0\n",
    "    # calcul of the average of the completed notes of the constituent columns of Seat_Comfort_And_Recline\n",
    "    for j in listStaff_Service:\n",
    "        value = df.at[i, j]\n",
    "        if D.at[i, j]:\n",
    "            sumNote += value\n",
    "            k += 1\n",
    "    if k != 0:\n",
    "        note = sumNote/k\n",
    "        df.loc[df.index[i], 'Staff_Service'] = note\n",
    "    else:\n",
    "        df.loc[df.index[i], 'Staff_Service'] = math.nan"
   ]
  },
  {
   "cell_type": "code",
   "execution_count": 67,
   "metadata": {
    "ExecuteTime": {
     "end_time": "2020-01-13T13:45:59.479431Z",
     "start_time": "2020-01-13T13:45:59.456720Z"
    },
    "hidden": true
   },
   "outputs": [
    {
     "data": {
      "text/html": [
       "<div>\n",
       "<style scoped>\n",
       "    .dataframe tbody tr th:only-of-type {\n",
       "        vertical-align: middle;\n",
       "    }\n",
       "\n",
       "    .dataframe tbody tr th {\n",
       "        vertical-align: top;\n",
       "    }\n",
       "\n",
       "    .dataframe thead th {\n",
       "        text-align: right;\n",
       "    }\n",
       "</style>\n",
       "<table border=\"1\" class=\"dataframe\">\n",
       "  <thead>\n",
       "    <tr style=\"text-align: right;\">\n",
       "      <th></th>\n",
       "      <th>Unnamed: 0</th>\n",
       "      <th>Data_Source</th>\n",
       "      <th>Airline_Name</th>\n",
       "      <th>Aircraft_Type</th>\n",
       "      <th>Cabin_Class</th>\n",
       "      <th>Type_Of_Lounge</th>\n",
       "      <th>Type_Of_Traveller</th>\n",
       "      <th>Date_Visit</th>\n",
       "      <th>Date_Flown</th>\n",
       "      <th>Airport</th>\n",
       "      <th>...</th>\n",
       "      <th>LABEL_PUNCTUALITY</th>\n",
       "      <th>LABEL_ATTRACTIVE AIRCRAFT</th>\n",
       "      <th>LABEL_SAV</th>\n",
       "      <th>LABEL_BOARDING</th>\n",
       "      <th>LABEL_GENERAL</th>\n",
       "      <th>Unnamed: 54</th>\n",
       "      <th>Food_Beverages</th>\n",
       "      <th>Entertainments_And_Amenities</th>\n",
       "      <th>Seat_Comfort_And_Recline</th>\n",
       "      <th>Staff_Service</th>\n",
       "    </tr>\n",
       "  </thead>\n",
       "  <tbody>\n",
       "    <tr>\n",
       "      <th>0</th>\n",
       "      <td>0</td>\n",
       "      <td>Airline Quality Airline</td>\n",
       "      <td>adria-airways</td>\n",
       "      <td>A319</td>\n",
       "      <td>Economy Class</td>\n",
       "      <td>NaN</td>\n",
       "      <td>Family Leisure</td>\n",
       "      <td>NaN</td>\n",
       "      <td>August 2015</td>\n",
       "      <td>NaN</td>\n",
       "      <td>...</td>\n",
       "      <td>2</td>\n",
       "      <td>0</td>\n",
       "      <td>0</td>\n",
       "      <td>0</td>\n",
       "      <td>2</td>\n",
       "      <td>NaN</td>\n",
       "      <td>NaN</td>\n",
       "      <td>NaN</td>\n",
       "      <td>NaN</td>\n",
       "      <td>5.0</td>\n",
       "    </tr>\n",
       "    <tr>\n",
       "      <th>1</th>\n",
       "      <td>1</td>\n",
       "      <td>Airline Quality Airline</td>\n",
       "      <td>adria-airways</td>\n",
       "      <td>A319</td>\n",
       "      <td>Economy Class</td>\n",
       "      <td>NaN</td>\n",
       "      <td>Family Leisure</td>\n",
       "      <td>NaN</td>\n",
       "      <td>August 2015</td>\n",
       "      <td>NaN</td>\n",
       "      <td>...</td>\n",
       "      <td>0</td>\n",
       "      <td>0</td>\n",
       "      <td>0</td>\n",
       "      <td>0</td>\n",
       "      <td>0</td>\n",
       "      <td>NaN</td>\n",
       "      <td>NaN</td>\n",
       "      <td>NaN</td>\n",
       "      <td>NaN</td>\n",
       "      <td>5.0</td>\n",
       "    </tr>\n",
       "    <tr>\n",
       "      <th>2</th>\n",
       "      <td>2</td>\n",
       "      <td>Airline Quality Airline</td>\n",
       "      <td>adria-airways</td>\n",
       "      <td>A319</td>\n",
       "      <td>Economy Class</td>\n",
       "      <td>NaN</td>\n",
       "      <td>Family Leisure</td>\n",
       "      <td>NaN</td>\n",
       "      <td>August 2015</td>\n",
       "      <td>NaN</td>\n",
       "      <td>...</td>\n",
       "      <td>0</td>\n",
       "      <td>0</td>\n",
       "      <td>0</td>\n",
       "      <td>0</td>\n",
       "      <td>0</td>\n",
       "      <td>NaN</td>\n",
       "      <td>NaN</td>\n",
       "      <td>NaN</td>\n",
       "      <td>NaN</td>\n",
       "      <td>5.0</td>\n",
       "    </tr>\n",
       "    <tr>\n",
       "      <th>3</th>\n",
       "      <td>3</td>\n",
       "      <td>Airline Quality Airline</td>\n",
       "      <td>adria-airways</td>\n",
       "      <td>A319</td>\n",
       "      <td>Economy Class</td>\n",
       "      <td>NaN</td>\n",
       "      <td>Family Leisure</td>\n",
       "      <td>NaN</td>\n",
       "      <td>August 2015</td>\n",
       "      <td>NaN</td>\n",
       "      <td>...</td>\n",
       "      <td>1</td>\n",
       "      <td>0</td>\n",
       "      <td>0</td>\n",
       "      <td>1</td>\n",
       "      <td>0</td>\n",
       "      <td>NaN</td>\n",
       "      <td>NaN</td>\n",
       "      <td>NaN</td>\n",
       "      <td>NaN</td>\n",
       "      <td>5.0</td>\n",
       "    </tr>\n",
       "    <tr>\n",
       "      <th>4</th>\n",
       "      <td>4</td>\n",
       "      <td>Airline Quality Airline</td>\n",
       "      <td>adria-airways</td>\n",
       "      <td>A319</td>\n",
       "      <td>Economy Class</td>\n",
       "      <td>NaN</td>\n",
       "      <td>Family Leisure</td>\n",
       "      <td>NaN</td>\n",
       "      <td>August 2015</td>\n",
       "      <td>NaN</td>\n",
       "      <td>...</td>\n",
       "      <td>0</td>\n",
       "      <td>0</td>\n",
       "      <td>0</td>\n",
       "      <td>0</td>\n",
       "      <td>2</td>\n",
       "      <td>NaN</td>\n",
       "      <td>NaN</td>\n",
       "      <td>NaN</td>\n",
       "      <td>NaN</td>\n",
       "      <td>5.0</td>\n",
       "    </tr>\n",
       "  </tbody>\n",
       "</table>\n",
       "<p>5 rows × 60 columns</p>\n",
       "</div>"
      ],
      "text/plain": [
       "   Unnamed: 0              Data_Source   Airline_Name Aircraft_Type  \\\n",
       "0           0  Airline Quality Airline  adria-airways          A319   \n",
       "1           1  Airline Quality Airline  adria-airways          A319   \n",
       "2           2  Airline Quality Airline  adria-airways          A319   \n",
       "3           3  Airline Quality Airline  adria-airways          A319   \n",
       "4           4  Airline Quality Airline  adria-airways          A319   \n",
       "\n",
       "     Cabin_Class Type_Of_Lounge Type_Of_Traveller Date_Visit   Date_Flown  \\\n",
       "0  Economy Class            NaN    Family Leisure        NaN  August 2015   \n",
       "1  Economy Class            NaN    Family Leisure        NaN  August 2015   \n",
       "2  Economy Class            NaN    Family Leisure        NaN  August 2015   \n",
       "3  Economy Class            NaN    Family Leisure        NaN  August 2015   \n",
       "4  Economy Class            NaN    Family Leisure        NaN  August 2015   \n",
       "\n",
       "  Airport      ...       LABEL_PUNCTUALITY  LABEL_ATTRACTIVE AIRCRAFT  \\\n",
       "0     NaN      ...                       2                          0   \n",
       "1     NaN      ...                       0                          0   \n",
       "2     NaN      ...                       0                          0   \n",
       "3     NaN      ...                       1                          0   \n",
       "4     NaN      ...                       0                          0   \n",
       "\n",
       "   LABEL_SAV  LABEL_BOARDING  LABEL_GENERAL  Unnamed: 54  Food_Beverages  \\\n",
       "0          0               0              2          NaN             NaN   \n",
       "1          0               0              0          NaN             NaN   \n",
       "2          0               0              0          NaN             NaN   \n",
       "3          0               1              0          NaN             NaN   \n",
       "4          0               0              2          NaN             NaN   \n",
       "\n",
       "   Entertainments_And_Amenities  Seat_Comfort_And_Recline  Staff_Service  \n",
       "0                           NaN                       NaN            5.0  \n",
       "1                           NaN                       NaN            5.0  \n",
       "2                           NaN                       NaN            5.0  \n",
       "3                           NaN                       NaN            5.0  \n",
       "4                           NaN                       NaN            5.0  \n",
       "\n",
       "[5 rows x 60 columns]"
      ]
     },
     "execution_count": 67,
     "metadata": {},
     "output_type": "execute_result"
    }
   ],
   "source": [
    "df.head()"
   ]
  },
  {
   "cell_type": "code",
   "execution_count": null,
   "metadata": {
    "hidden": true
   },
   "outputs": [],
   "source": [
    "df.to_excel(workpath+'ALL_DATA_ANNOTATE_V3.xlsx')"
   ]
  },
  {
   "cell_type": "markdown",
   "metadata": {
    "heading_collapsed": true
   },
   "source": [
    "# Modification of all_data"
   ]
  },
  {
   "cell_type": "markdown",
   "metadata": {
    "heading_collapsed": true,
    "hidden": true
   },
   "source": [
    "### Creation of ALL_DATA_V2 "
   ]
  },
  {
   "cell_type": "markdown",
   "metadata": {
    "hidden": true
   },
   "source": [
    "Format type Overall_Customer_Rating"
   ]
  },
  {
   "cell_type": "code",
   "execution_count": null,
   "metadata": {
    "hidden": true
   },
   "outputs": [],
   "source": [
    "data['Overall_Customer_Rating'] = data['Overall_Customer_Rating'].str.replace(\",\",\".\")"
   ]
  },
  {
   "cell_type": "code",
   "execution_count": null,
   "metadata": {
    "hidden": true
   },
   "outputs": [],
   "source": [
    "data['Overall_Customer_Rating'] = pd.to_numeric(data['Overall_Customer_Rating'], errors='coerce')"
   ]
  },
  {
   "cell_type": "markdown",
   "metadata": {
    "hidden": true
   },
   "source": [
    "Creation of the new variable : Constructors"
   ]
  },
  {
   "cell_type": "code",
   "execution_count": 45,
   "metadata": {
    "ExecuteTime": {
     "end_time": "2020-01-13T09:21:03.646415Z",
     "start_time": "2020-01-13T09:21:02.131521Z"
    },
    "hidden": true
   },
   "outputs": [
    {
     "name": "stderr",
     "output_type": "stream",
     "text": [
      "/home/ddm2018-1/anaconda3/lib/python3.7/site-packages/IPython/core/interactiveshell.py:2785: DtypeWarning: Columns (2,3,4,5,6,7,8,9,10,11,12,13,27,28,36,37,39,40,41) have mixed types. Specify dtype option on import or set low_memory=False.\n",
      "  interactivity=interactivity, compiler=compiler, result=result)\n"
     ]
    }
   ],
   "source": [
    "all_data = pd.read_csv(workpath+'ALL_DATA.csv', encoding='utf8',\n",
    "                       header=0, error_bad_lines=False, sep=',')"
   ]
  },
  {
   "cell_type": "code",
   "execution_count": 46,
   "metadata": {
    "ExecuteTime": {
     "end_time": "2020-01-13T09:21:05.384259Z",
     "start_time": "2020-01-13T09:21:05.356108Z"
    },
    "hidden": true
   },
   "outputs": [],
   "source": [
    "data = all_data.copy()"
   ]
  },
  {
   "cell_type": "code",
   "execution_count": 47,
   "metadata": {
    "ExecuteTime": {
     "end_time": "2020-01-13T09:21:53.961644Z",
     "start_time": "2020-01-13T09:21:07.541875Z"
    },
    "hidden": true
   },
   "outputs": [],
   "source": [
    "# type des nan en float --> a transformer en str\n",
    "\n",
    "data['Aircraft_Type'] = data['Aircraft_Type'].astype(str)\n",
    "indAirbus = []\n",
    "indBoeing = []\n",
    "indEmbraer = []\n",
    "indFokker = []\n",
    "indMD = []\n",
    "indSaab = []\n",
    "indBomb = []\n",
    "for j in range(data['Aircraft_Type'].shape[0]):\n",
    "    if (data['Aircraft_Type'].iloc[j].startswith('irbus')) or ('A3' in data['Aircraft_Type'].iloc[j]) or (data['Aircraft_Type'].iloc[j].startswith('3')) or ('Airbus' in data['Aircraft_Type'].iloc[j]) or ('bus' in data['Aircraft_Type'].iloc[j]) or (data['Aircraft_Type'].iloc[j].startswith('Russian Airlines Airbus')) or ('airbus' in data['Aircraft_Type'].iloc[j]):\n",
    "        indAirbus.append(j)\n",
    "    if (data['Aircraft_Type'].iloc[j].startswith('oeing')) or (data['Aircraft_Type'].iloc[j].startswith('g 777')) or (data['Aircraft_Type'].iloc[j].startswith('737')) or (data['Aircraft_Type'].iloc[j].startswith('Boeing')) or (data['Aircraft_Type'].iloc[j].startswith('Flugdienst')) or (data['Aircraft_Type'].iloc[j].startswith('Rouge Boeing'))  or (data['Aircraft_Type'].iloc[j].startswith('Russian Airlines Boeing')) or (data['Aircraft_Type'].iloc[j].startswith('b737')) or (data['Aircraft_Type'].iloc[j].startswith('boeing')):\n",
    "        indBoeing.append(j)    \n",
    "    if (data['Aircraft_Type'].iloc[j].startswith('Embraer')) or (data['Aircraft_Type'].iloc[j].startswith('Embr')) or (data['Aircraft_Type'].iloc[j].startswith('E')):\n",
    "        indEmbraer.append(j)\n",
    "    if (data['Aircraft_Type'].iloc[j].startswith('Fokker')) or (data['Aircraft_Type'].iloc[j].startswith('fokker')):\n",
    "        indFokker.append(j)\n",
    "    if (data['Aircraft_Type'].iloc[j].startswith('MD')) or (data['Aircraft_Type'].iloc[j].startswith('mcdonnell')):\n",
    "        indMD.append(j)\n",
    "    if (data['Aircraft_Type'].iloc[j].startswith('Q')) or (data['Aircraft_Type'].iloc[j].startswith('bombardier')) or (data['Aircraft_Type'].iloc[j].startswith('Bombardier')):\n",
    "        indBomb.append(j)\n",
    "    if (data['Aircraft_Type'].iloc[j].startswith('Saab')) or (data['Aircraft_Type'].iloc[j].startswith('SAAB')):\n",
    "        indSaab.append(j)"
   ]
  },
  {
   "cell_type": "code",
   "execution_count": 48,
   "metadata": {
    "ExecuteTime": {
     "end_time": "2020-01-13T09:22:40.418345Z",
     "start_time": "2020-01-13T09:22:40.408333Z"
    },
    "hidden": true
   },
   "outputs": [
    {
     "name": "stdout",
     "output_type": "stream",
     "text": [
      "Nb Airbus :  23357\n",
      "Nb Boeing :  20434\n",
      "Nb Saab :  34\n",
      "Nb MD :  170\n",
      "Nb Bombardier :  388\n",
      "Nb Embraer :  974\n",
      "Nb Fokker :  73\n"
     ]
    }
   ],
   "source": [
    "print('Nb Airbus : ', len(indAirbus))\n",
    "print('Nb Boeing : ', len(indBoeing))\n",
    "print('Nb Saab : ', len(indSaab))\n",
    "print('Nb MD : ', len(indMD))\n",
    "print('Nb Bombardier : ', len(indBomb))\n",
    "print('Nb Embraer : ', len(indEmbraer))\n",
    "print('Nb Fokker : ', len(indFokker))"
   ]
  },
  {
   "cell_type": "markdown",
   "metadata": {
    "hidden": true
   },
   "source": [
    "Add the column constructor"
   ]
  },
  {
   "cell_type": "code",
   "execution_count": 49,
   "metadata": {
    "ExecuteTime": {
     "end_time": "2020-01-13T09:25:51.462172Z",
     "start_time": "2020-01-13T09:25:50.979098Z"
    },
    "hidden": true
   },
   "outputs": [
    {
     "name": "stderr",
     "output_type": "stream",
     "text": [
      "/home/ddm2018-1/anaconda3/lib/python3.7/site-packages/pandas/core/indexing.py:189: SettingWithCopyWarning: \n",
      "A value is trying to be set on a copy of a slice from a DataFrame\n",
      "\n",
      "See the caveats in the documentation: http://pandas.pydata.org/pandas-docs/stable/indexing.html#indexing-view-versus-copy\n",
      "  self._setitem_with_indexer(indexer, value)\n"
     ]
    }
   ],
   "source": [
    "data['Constructor'] = 0\n",
    "\n",
    "data['Constructor'].iloc[indAirbus] = 'Airbus'\n",
    "data['Constructor'].iloc[indBoeing] = 'Boeing'\n",
    "data['Constructor'].iloc[indBomb] = 'Bombardier'\n",
    "data['Constructor'].iloc[indFokker] = 'Fokker'\n",
    "data['Constructor'].iloc[indMD] = 'Mac Donnell'\n",
    "data['Constructor'].iloc[indSaab] = 'Saab'\n",
    "data['Constructor'].iloc[indEmbraer] = 'Embraer'"
   ]
  },
  {
   "cell_type": "code",
   "execution_count": 50,
   "metadata": {
    "ExecuteTime": {
     "end_time": "2020-01-13T09:25:53.659097Z",
     "start_time": "2020-01-13T09:25:53.532816Z"
    },
    "hidden": true
   },
   "outputs": [],
   "source": [
    "data['Overall_Customer_Rating'] = data['Overall_Customer_Rating'].str.replace(\",\",\".\")\n",
    "data['Overall_Customer_Rating'] = pd.to_numeric(data['Overall_Customer_Rating'], errors='coerce')"
   ]
  },
  {
   "cell_type": "code",
   "execution_count": null,
   "metadata": {
    "hidden": true
   },
   "outputs": [],
   "source": [
    "df.to_excel(workpath+'ALL_DATA_V2.xlsx')"
   ]
  },
  {
   "cell_type": "markdown",
   "metadata": {
    "heading_collapsed": true,
    "hidden": true
   },
   "source": [
    "### Creation of ALL_DATA_V3 "
   ]
  },
  {
   "cell_type": "code",
   "execution_count": 7,
   "metadata": {
    "ExecuteTime": {
     "end_time": "2020-01-13T15:33:03.022484Z",
     "start_time": "2020-01-13T15:33:01.002604Z"
    },
    "hidden": true
   },
   "outputs": [
    {
     "name": "stderr",
     "output_type": "stream",
     "text": [
      "/home/ddm2018-1/anaconda3/lib/python3.7/site-packages/IPython/core/interactiveshell.py:2785: DtypeWarning: Columns (3,4,5,6,7,8,9,10,11,12,13,14,15,16,17,18,19,20,21,22,23,24,25,26,27,28,29,30,31,32,33,34,35,36,37,38,39,40,41,42,43) have mixed types. Specify dtype option on import or set low_memory=False.\n",
      "  interactivity=interactivity, compiler=compiler, result=result)\n"
     ]
    }
   ],
   "source": [
    "df = pd.read_csv(workpath+\"modif/ALL_DATA.csv\",\n",
    "                 encoding='latin-1', decimal=',', sep=',')"
   ]
  },
  {
   "cell_type": "code",
   "execution_count": 8,
   "metadata": {
    "ExecuteTime": {
     "end_time": "2020-01-13T15:33:04.699010Z",
     "start_time": "2020-01-13T15:33:04.666483Z"
    },
    "hidden": true,
    "scrolled": true
   },
   "outputs": [
    {
     "data": {
      "text/html": [
       "<div>\n",
       "<style scoped>\n",
       "    .dataframe tbody tr th:only-of-type {\n",
       "        vertical-align: middle;\n",
       "    }\n",
       "\n",
       "    .dataframe tbody tr th {\n",
       "        vertical-align: top;\n",
       "    }\n",
       "\n",
       "    .dataframe thead th {\n",
       "        text-align: right;\n",
       "    }\n",
       "</style>\n",
       "<table border=\"1\" class=\"dataframe\">\n",
       "  <thead>\n",
       "    <tr style=\"text-align: right;\">\n",
       "      <th></th>\n",
       "      <th>Unnamed: 0</th>\n",
       "      <th>Data_Source</th>\n",
       "      <th>Airline_Name</th>\n",
       "      <th>Airline_Type</th>\n",
       "      <th>Region_Operation</th>\n",
       "      <th>Aircraft_Type</th>\n",
       "      <th>Cabin_Class</th>\n",
       "      <th>Type_Of_Lounge</th>\n",
       "      <th>Type_Of_Traveller</th>\n",
       "      <th>Date_Visit</th>\n",
       "      <th>...</th>\n",
       "      <th>Seat_Width</th>\n",
       "      <th>Washrooms</th>\n",
       "      <th>Value_For_Money</th>\n",
       "      <th>Overall_Customer_Rating</th>\n",
       "      <th>Overall_Service_Rating</th>\n",
       "      <th>Overall_Airline_Rating</th>\n",
       "      <th>Recommended</th>\n",
       "      <th>Date_Review</th>\n",
       "      <th>Review</th>\n",
       "      <th>Constructor</th>\n",
       "    </tr>\n",
       "  </thead>\n",
       "  <tbody>\n",
       "    <tr>\n",
       "      <th>0</th>\n",
       "      <td>0</td>\n",
       "      <td>Airline Quality Airline</td>\n",
       "      <td>ab-aviation</td>\n",
       "      <td>NaN</td>\n",
       "      <td>NaN</td>\n",
       "      <td>E120</td>\n",
       "      <td>Economy Class</td>\n",
       "      <td>NaN</td>\n",
       "      <td>Solo Leisure</td>\n",
       "      <td>NaN</td>\n",
       "      <td>...</td>\n",
       "      <td>NaN</td>\n",
       "      <td>NaN</td>\n",
       "      <td>2.0</td>\n",
       "      <td>1.0</td>\n",
       "      <td>NaN</td>\n",
       "      <td>NaN</td>\n",
       "      <td>no</td>\n",
       "      <td>25th June 2019</td>\n",
       "      <td>â",
       " Trip Verified | Moroni to Anjouan. It is a...</td>\n",
       "      <td>Embraer</td>\n",
       "    </tr>\n",
       "    <tr>\n",
       "      <th>1</th>\n",
       "      <td>1</td>\n",
       "      <td>Airline Quality Airline</td>\n",
       "      <td>ab-aviation</td>\n",
       "      <td>NaN</td>\n",
       "      <td>NaN</td>\n",
       "      <td>Embraer E120</td>\n",
       "      <td>Economy Class</td>\n",
       "      <td>NaN</td>\n",
       "      <td>Solo Leisure</td>\n",
       "      <td>NaN</td>\n",
       "      <td>...</td>\n",
       "      <td>NaN</td>\n",
       "      <td>NaN</td>\n",
       "      <td>2.0</td>\n",
       "      <td>1.0</td>\n",
       "      <td>NaN</td>\n",
       "      <td>NaN</td>\n",
       "      <td>no</td>\n",
       "      <td>25th June 2019</td>\n",
       "      <td>â",
       " Trip Verified |  Anjouan to Dzaoudzi. A ve...</td>\n",
       "      <td>Embraer</td>\n",
       "    </tr>\n",
       "    <tr>\n",
       "      <th>2</th>\n",
       "      <td>2</td>\n",
       "      <td>Airline Quality Airline</td>\n",
       "      <td>adria-airways</td>\n",
       "      <td>NaN</td>\n",
       "      <td>NaN</td>\n",
       "      <td>NaN</td>\n",
       "      <td>Economy Class</td>\n",
       "      <td>NaN</td>\n",
       "      <td>Solo Leisure</td>\n",
       "      <td>NaN</td>\n",
       "      <td>...</td>\n",
       "      <td>NaN</td>\n",
       "      <td>NaN</td>\n",
       "      <td>1.0</td>\n",
       "      <td>1.0</td>\n",
       "      <td>NaN</td>\n",
       "      <td>NaN</td>\n",
       "      <td>no</td>\n",
       "      <td>28th September 2019</td>\n",
       "      <td>Not Verified |  Please do a favor yourself and...</td>\n",
       "      <td>NaN</td>\n",
       "    </tr>\n",
       "    <tr>\n",
       "      <th>3</th>\n",
       "      <td>3</td>\n",
       "      <td>Airline Quality Airline</td>\n",
       "      <td>adria-airways</td>\n",
       "      <td>NaN</td>\n",
       "      <td>NaN</td>\n",
       "      <td>NaN</td>\n",
       "      <td>Economy Class</td>\n",
       "      <td>NaN</td>\n",
       "      <td>Couple Leisure</td>\n",
       "      <td>NaN</td>\n",
       "      <td>...</td>\n",
       "      <td>NaN</td>\n",
       "      <td>NaN</td>\n",
       "      <td>1.0</td>\n",
       "      <td>1.0</td>\n",
       "      <td>NaN</td>\n",
       "      <td>NaN</td>\n",
       "      <td>no</td>\n",
       "      <td>24th September 2019</td>\n",
       "      <td>â",
       " Trip Verified | Do not book a flight with ...</td>\n",
       "      <td>NaN</td>\n",
       "    </tr>\n",
       "    <tr>\n",
       "      <th>4</th>\n",
       "      <td>4</td>\n",
       "      <td>Airline Quality Airline</td>\n",
       "      <td>adria-airways</td>\n",
       "      <td>NaN</td>\n",
       "      <td>NaN</td>\n",
       "      <td>CR 900</td>\n",
       "      <td>Economy Class</td>\n",
       "      <td>NaN</td>\n",
       "      <td>Couple Leisure</td>\n",
       "      <td>NaN</td>\n",
       "      <td>...</td>\n",
       "      <td>NaN</td>\n",
       "      <td>NaN</td>\n",
       "      <td>1.0</td>\n",
       "      <td>1.0</td>\n",
       "      <td>NaN</td>\n",
       "      <td>NaN</td>\n",
       "      <td>no</td>\n",
       "      <td>17th September 2019</td>\n",
       "      <td>â",
       " Trip Verified |  Had very bad experience w...</td>\n",
       "      <td>NaN</td>\n",
       "    </tr>\n",
       "  </tbody>\n",
       "</table>\n",
       "<p>5 rows × 44 columns</p>\n",
       "</div>"
      ],
      "text/plain": [
       "   Unnamed: 0              Data_Source   Airline_Name Airline_Type  \\\n",
       "0           0  Airline Quality Airline    ab-aviation          NaN   \n",
       "1           1  Airline Quality Airline    ab-aviation          NaN   \n",
       "2           2  Airline Quality Airline  adria-airways          NaN   \n",
       "3           3  Airline Quality Airline  adria-airways          NaN   \n",
       "4           4  Airline Quality Airline  adria-airways          NaN   \n",
       "\n",
       "  Region_Operation Aircraft_Type    Cabin_Class Type_Of_Lounge  \\\n",
       "0              NaN          E120  Economy Class            NaN   \n",
       "1              NaN  Embraer E120  Economy Class            NaN   \n",
       "2              NaN           NaN  Economy Class            NaN   \n",
       "3              NaN           NaN  Economy Class            NaN   \n",
       "4              NaN        CR 900  Economy Class            NaN   \n",
       "\n",
       "  Type_Of_Traveller Date_Visit     ...     Seat_Width Washrooms  \\\n",
       "0      Solo Leisure        NaN     ...            NaN       NaN   \n",
       "1      Solo Leisure        NaN     ...            NaN       NaN   \n",
       "2      Solo Leisure        NaN     ...            NaN       NaN   \n",
       "3    Couple Leisure        NaN     ...            NaN       NaN   \n",
       "4    Couple Leisure        NaN     ...            NaN       NaN   \n",
       "\n",
       "  Value_For_Money Overall_Customer_Rating Overall_Service_Rating  \\\n",
       "0             2.0                     1.0                    NaN   \n",
       "1             2.0                     1.0                    NaN   \n",
       "2             1.0                     1.0                    NaN   \n",
       "3             1.0                     1.0                    NaN   \n",
       "4             1.0                     1.0                    NaN   \n",
       "\n",
       "  Overall_Airline_Rating Recommended          Date_Review  \\\n",
       "0                    NaN          no       25th June 2019   \n",
       "1                    NaN          no       25th June 2019   \n",
       "2                    NaN          no  28th September 2019   \n",
       "3                    NaN          no  24th September 2019   \n",
       "4                    NaN          no  17th September 2019   \n",
       "\n",
       "                                              Review Constructor  \n",
       "0  â\n",
       " Trip Verified | Moroni to Anjouan. It is a...     Embraer  \n",
       "1  â\n",
       " Trip Verified |  Anjouan to Dzaoudzi. A ve...     Embraer  \n",
       "2  Not Verified |  Please do a favor yourself and...         NaN  \n",
       "3  â\n",
       " Trip Verified | Do not book a flight with ...         NaN  \n",
       "4  â\n",
       " Trip Verified |  Had very bad experience w...         NaN  \n",
       "\n",
       "[5 rows x 44 columns]"
      ]
     },
     "execution_count": 8,
     "metadata": {},
     "output_type": "execute_result"
    }
   ],
   "source": [
    "df.head()"
   ]
  },
  {
   "cell_type": "markdown",
   "metadata": {
    "hidden": true
   },
   "source": [
    "Creation of new columns"
   ]
  },
  {
   "cell_type": "code",
   "execution_count": null,
   "metadata": {
    "hidden": true
   },
   "outputs": [],
   "source": [
    "df['Food_Beverages'] = 0\n",
    "df['Entertainments_And_Amenities'] =0\n",
    "df['Seat_Comfort_And_Recline'] =0\n",
    "df['Staff_Service'] = 0\n",
    "D = df.notna()"
   ]
  },
  {
   "cell_type": "code",
   "execution_count": null,
   "metadata": {
    "hidden": true
   },
   "outputs": [],
   "source": [
    "listFood_Beverages = ['Bar_And_Beverages', 'Food_And_Beverages', 'Catering']\n",
    "listEntertainments_And_Amenities = [\n",
    "    'Wifi_And_Connectivity', 'Inflight_Entertainment', 'Viewing_Tv_Screen', 'Power_Supply', 'Washrooms']\n",
    "listSeat_Comfort_And_Recline = ['Seat_Comfort', 'Seat_Recline']\n",
    "listStaff_Service = ['Cabin_Staff_Service',\n",
    "                     'Lounge_Staff_Service', 'Ground_Service']"
   ]
  },
  {
   "cell_type": "code",
   "execution_count": null,
   "metadata": {
    "hidden": true
   },
   "outputs": [],
   "source": [
    "# Fill in new columns\n",
    "\n",
    "for i in range (0,len(df)):\n",
    "#    for i in liste :\n",
    "\n",
    "    # construction of Food_Beverages\n",
    "    sumNote=0\n",
    "    k=0\n",
    "    # calcul of the average of the completed notes of the constituent columns of Food_Beverages\n",
    "    \n",
    "    for j in listFood_Beverages :\n",
    "        value = df.at[i,j]\n",
    "        if D.at[i,j] :\n",
    "            sumNote += value\n",
    "            k+=1\n",
    "    if k!=0 :\n",
    "        note=sumNote/k\n",
    "        df.loc[df.index[i],'Food_Beverages']=note\n",
    "    else :\n",
    "        df.loc[df.index[i],'Food_Beverages']=math.nan\n",
    "\n",
    "    # construction of Entertainments_And_Amenities\n",
    "    sumNote=0\n",
    "    k=0\n",
    "    # calcul de la moyenne des notes complétées des colonnes constitutives de Entertainments_And_Amenities\n",
    "    for j in listEntertainments_And_Amenities :\n",
    "        value = df.at[i,j]\n",
    "        if D.at[i,j]:\n",
    "            sumNote += value\n",
    "            k+=1\n",
    "    if k!=0 :\n",
    "        note=sumNote/k\n",
    "        df.loc[df.index[i],'Entertainments_And_Amenities']=note\n",
    "    else :\n",
    "        df.loc[df.index[i],'Entertainments_And_Amenities']=math.nan\n",
    "\n",
    "    # construction of Seat_Comfort_And_Recline\n",
    "    sumNote=0\n",
    "    k=0\n",
    "     # calcul of the average of the completed notes of the constituent columns of Seat_Comfort_And_Recline\n",
    "    for j in listSeat_Comfort_And_Recline :\n",
    "        value = df.at[i,j]\n",
    "        if D.at[i,j]:\n",
    "            sumNote += value\n",
    "            k+=1\n",
    "    if k!=0 :\n",
    "        note=sumNote/k\n",
    "        df.loc[df.index[i],'Seat_Comfort_And_Recline']=note\n",
    "    else :\n",
    "        df.loc[df.index[i],'Seat_Comfort_And_Recline']=math.nan\n",
    "        \n",
    "        \n",
    "    # construction of Seat_Comfort_And_Recline\n",
    "    sumNote=0\n",
    "    k=0\n",
    "    # calcul of the average of the completed notes of the constituent columns of Seat_Comfort_And_Recline\n",
    "    for j in listStaff_Service :\n",
    "        value = df.at[i,j]\n",
    "        if D.at[i,j]:\n",
    "            sumNote += value\n",
    "            k+=1\n",
    "    if k!=0 :\n",
    "        note=sumNote/k\n",
    "        df.loc[df.index[i],'Staff_Service']=note\n",
    "    else :\n",
    "        df.loc[df.index[i],'Staff_Service']=math.nan"
   ]
  },
  {
   "cell_type": "code",
   "execution_count": null,
   "metadata": {
    "hidden": true
   },
   "outputs": [],
   "source": [
    "df.to_excel(workpath+'ALL_DATA_V3.xlsx')"
   ]
  },
  {
   "cell_type": "markdown",
   "metadata": {
    "heading_collapsed": true
   },
   "source": [
    "# Modification of seatguru"
   ]
  },
  {
   "cell_type": "code",
   "execution_count": 13,
   "metadata": {
    "ExecuteTime": {
     "end_time": "2020-01-13T08:31:41.202370Z",
     "start_time": "2020-01-13T08:31:40.970320Z"
    },
    "hidden": true
   },
   "outputs": [],
   "source": [
    "seatguru = pd.read_csv(workpath+'SEATGURU_INFO_AIRCRAFT.csv',\n",
    "                       header=0,\n",
    "                       sep=\";\",\n",
    "                       encoding='utf8',\n",
    "                       engine='python')"
   ]
  },
  {
   "cell_type": "code",
   "execution_count": 14,
   "metadata": {
    "ExecuteTime": {
     "end_time": "2020-01-13T08:31:42.935662Z",
     "start_time": "2020-01-13T08:31:42.926910Z"
    },
    "hidden": true
   },
   "outputs": [],
   "source": [
    "def add_constructor(df: pd.core.frame.DataFrame) -> pd.core.frame.DataFrame:\n",
    "    \"\"\" Documentation\n",
    "\n",
    "    Parameters :\n",
    "        df : seatguru dataframe\n",
    "\n",
    "    Out : \n",
    "         seatguru dataframe with an extra column 'Constructor' \n",
    "         with the differents constructors of planes\n",
    "    \"\"\"\n",
    "\n",
    "    df['Aircraft_Type'] = df['Aircraft_Type'].astype(str)\n",
    "    indAirbus = []\n",
    "    indBoeing = []\n",
    "\n",
    "    for j in range(df['Aircraft_Type'].shape[0]):\n",
    "        if (df['Aircraft_Type'].iloc[j].startswith('irbus')) or ('A3' in df['Aircraft_Type'].iloc[j]) or (df['Aircraft_Type'].iloc[j].startswith('3')) or ('Airbus' in df['Aircraft_Type'].iloc[j]) or ('bus' in df['Aircraft_Type'].iloc[j]) or (df['Aircraft_Type'].iloc[j].startswith('Russian Airlines Airbus')) or ('airbus' in df['Aircraft_Type'].iloc[j]):\n",
    "            indAirbus.append(j)\n",
    "        if (df['Aircraft_Type'].iloc[j].startswith('oeing')) or (df['Aircraft_Type'].iloc[j].startswith('g 777')) or (df['Aircraft_Type'].iloc[j].startswith('737')) or (df['Aircraft_Type'].iloc[j].startswith('Boeing')) or (df['Aircraft_Type'].iloc[j].startswith('Flugdienst')) or (df['Aircraft_Type'].iloc[j].startswith('Rouge Boeing')) or (df['Aircraft_Type'].iloc[j].startswith('Russian Airlines Boeing')) or (df['Aircraft_Type'].iloc[j].startswith('b737')) or (df['Aircraft_Type'].iloc[j].startswith('boeing')):\n",
    "            indBoeing.append(j)\n",
    "\n",
    "    df['Constructor'] = \"Others\"\n",
    "    df['Constructor'].iloc[indAirbus] = 'Airbus'\n",
    "    df['Constructor'].iloc[indBoeing] = 'Boeing'\n",
    "\n",
    "    return df"
   ]
  },
  {
   "cell_type": "code",
   "execution_count": 15,
   "metadata": {
    "ExecuteTime": {
     "end_time": "2020-01-13T08:31:47.515576Z",
     "start_time": "2020-01-13T08:31:46.044534Z"
    },
    "hidden": true
   },
   "outputs": [
    {
     "name": "stderr",
     "output_type": "stream",
     "text": [
      "/home/ddm2018-1/anaconda3/lib/python3.7/site-packages/pandas/core/indexing.py:189: SettingWithCopyWarning: \n",
      "A value is trying to be set on a copy of a slice from a DataFrame\n",
      "\n",
      "See the caveats in the documentation: http://pandas.pydata.org/pandas-docs/stable/indexing.html#indexing-view-versus-copy\n",
      "  self._setitem_with_indexer(indexer, value)\n"
     ]
    }
   ],
   "source": [
    "seatguru = add_constructor(seatguru)"
   ]
  },
  {
   "cell_type": "code",
   "execution_count": 16,
   "metadata": {
    "ExecuteTime": {
     "end_time": "2020-01-13T08:33:13.366506Z",
     "start_time": "2020-01-13T08:33:10.660971Z"
    },
    "hidden": true
   },
   "outputs": [],
   "source": [
    "seatguru.to_excel(workpath+'SEATGURU_V2.xlsx')"
   ]
  },
  {
   "cell_type": "markdown",
   "metadata": {
    "heading_collapsed": true
   },
   "source": [
    "# Modification of Kayak"
   ]
  },
  {
   "cell_type": "code",
   "execution_count": 28,
   "metadata": {
    "ExecuteTime": {
     "end_time": "2020-01-14T14:10:55.153907Z",
     "start_time": "2020-01-14T14:10:55.146783Z"
    },
    "hidden": true
   },
   "outputs": [],
   "source": [
    "kayak = pd.read_csv(workpath+'KAYAK_AIRLINE_RATE_GLOBAL.csv',\n",
    "                    header=0,\n",
    "                    sep=\",\",\n",
    "                    encoding='utf8',\n",
    "                    engine='python')"
   ]
  },
  {
   "cell_type": "markdown",
   "metadata": {
    "hidden": true
   },
   "source": [
    "Change type of notes in kayak columns"
   ]
  },
  {
   "cell_type": "code",
   "execution_count": 29,
   "metadata": {
    "ExecuteTime": {
     "end_time": "2020-01-14T14:10:56.441376Z",
     "start_time": "2020-01-14T14:10:56.428294Z"
    },
    "hidden": true
   },
   "outputs": [],
   "source": [
    "# Type of notes convert in float (str --> .\n",
    "\n",
    "kayak.Boarding = kayak.Boarding.str.replace(\",\", \".\")\n",
    "kayak.Boarding = pd.to_numeric(kayak.Boarding, errors='coerce')\n",
    "kayak.Cabin_Staff_Service = kayak.Cabin_Staff_Service.str.replace(\",\", \".\")\n",
    "kayak.Cabin_Staff_Service = pd.to_numeric(\n",
    "    kayak.Cabin_Staff_Service, errors='coerce')\n",
    "kayak.Comfort = kayak.Comfort.str.replace(\",\", \".\")\n",
    "kayak.Comfort = pd.to_numeric(kayak.Comfort, errors='coerce')\n",
    "kayak.Entertainment = kayak.Entertainment.str.replace(\",\", \".\")\n",
    "kayak.Entertainment = pd.to_numeric(kayak.Entertainment, errors='coerce')\n",
    "kayak.Food_And_Beverages = kayak.Food_And_Beverages.str.replace(\",\", \".\")\n",
    "kayak.Food_And_Beverages = pd.to_numeric(\n",
    "    kayak.Food_And_Beverages, errors='coerce')\n",
    "kayak.Overall_Airline_Rating = kayak.Overall_Airline_Rating.str.replace(\n",
    "    \",\", \".\")\n",
    "kayak.Overall_Airline_Rating = pd.to_numeric(\n",
    "    kayak.Overall_Airline_Rating, errors='coerce')"
   ]
  },
  {
   "cell_type": "code",
   "execution_count": 31,
   "metadata": {
    "ExecuteTime": {
     "end_time": "2020-01-14T14:11:09.748642Z",
     "start_time": "2020-01-14T14:11:09.658396Z"
    },
    "hidden": true
   },
   "outputs": [],
   "source": [
    "kayak.to_excel(workpath+'kayak.xlsx')"
   ]
  },
  {
   "cell_type": "code",
   "execution_count": 33,
   "metadata": {
    "ExecuteTime": {
     "end_time": "2020-01-14T14:11:17.137417Z",
     "start_time": "2020-01-14T14:11:17.121517Z"
    },
    "hidden": true
   },
   "outputs": [
    {
     "data": {
      "text/html": [
       "<div>\n",
       "<style scoped>\n",
       "    .dataframe tbody tr th:only-of-type {\n",
       "        vertical-align: middle;\n",
       "    }\n",
       "\n",
       "    .dataframe tbody tr th {\n",
       "        vertical-align: top;\n",
       "    }\n",
       "\n",
       "    .dataframe thead th {\n",
       "        text-align: right;\n",
       "    }\n",
       "</style>\n",
       "<table border=\"1\" class=\"dataframe\">\n",
       "  <thead>\n",
       "    <tr style=\"text-align: right;\">\n",
       "      <th></th>\n",
       "      <th>Data_Source</th>\n",
       "      <th>Airline_Name</th>\n",
       "      <th>Boarding</th>\n",
       "      <th>Cabin_Staff_Service</th>\n",
       "      <th>Comfort</th>\n",
       "      <th>Entertainment</th>\n",
       "      <th>Food_And_Beverages</th>\n",
       "      <th>Overall_Airline_Rating</th>\n",
       "      <th>Mention</th>\n",
       "      <th>Number_Evaluation</th>\n",
       "    </tr>\n",
       "  </thead>\n",
       "  <tbody>\n",
       "    <tr>\n",
       "      <th>0</th>\n",
       "      <td>Kayak</td>\n",
       "      <td>9-air</td>\n",
       "      <td>7.3</td>\n",
       "      <td>8.1</td>\n",
       "      <td>6.4</td>\n",
       "      <td>5.8</td>\n",
       "      <td>6.4</td>\n",
       "      <td>6.9</td>\n",
       "      <td>Bien</td>\n",
       "      <td>72</td>\n",
       "    </tr>\n",
       "    <tr>\n",
       "      <th>1</th>\n",
       "      <td>Kayak</td>\n",
       "      <td>adria-airways</td>\n",
       "      <td>7.6</td>\n",
       "      <td>8.0</td>\n",
       "      <td>7.3</td>\n",
       "      <td>6.3</td>\n",
       "      <td>6.2</td>\n",
       "      <td>7.3</td>\n",
       "      <td>Bien</td>\n",
       "      <td>353</td>\n",
       "    </tr>\n",
       "    <tr>\n",
       "      <th>2</th>\n",
       "      <td>Kayak</td>\n",
       "      <td>aegean-airlines</td>\n",
       "      <td>8.0</td>\n",
       "      <td>8.5</td>\n",
       "      <td>8.0</td>\n",
       "      <td>6.7</td>\n",
       "      <td>7.7</td>\n",
       "      <td>7.8</td>\n",
       "      <td>Bien</td>\n",
       "      <td>2837</td>\n",
       "    </tr>\n",
       "    <tr>\n",
       "      <th>3</th>\n",
       "      <td>Kayak</td>\n",
       "      <td>aer-lingus</td>\n",
       "      <td>7.6</td>\n",
       "      <td>8.0</td>\n",
       "      <td>7.3</td>\n",
       "      <td>7.1</td>\n",
       "      <td>6.8</td>\n",
       "      <td>7.4</td>\n",
       "      <td>Bien</td>\n",
       "      <td>5904</td>\n",
       "    </tr>\n",
       "    <tr>\n",
       "      <th>4</th>\n",
       "      <td>Kayak</td>\n",
       "      <td>aeroflot</td>\n",
       "      <td>8.0</td>\n",
       "      <td>8.3</td>\n",
       "      <td>7.8</td>\n",
       "      <td>7.5</td>\n",
       "      <td>7.5</td>\n",
       "      <td>7.8</td>\n",
       "      <td>Bien</td>\n",
       "      <td>8368</td>\n",
       "    </tr>\n",
       "  </tbody>\n",
       "</table>\n",
       "</div>"
      ],
      "text/plain": [
       "  Data_Source     Airline_Name  Boarding  Cabin_Staff_Service  Comfort  \\\n",
       "0       Kayak            9-air       7.3                  8.1      6.4   \n",
       "1       Kayak    adria-airways       7.6                  8.0      7.3   \n",
       "2       Kayak  aegean-airlines       8.0                  8.5      8.0   \n",
       "3       Kayak       aer-lingus       7.6                  8.0      7.3   \n",
       "4       Kayak         aeroflot       8.0                  8.3      7.8   \n",
       "\n",
       "   Entertainment  Food_And_Beverages  Overall_Airline_Rating Mention  \\\n",
       "0            5.8                 6.4                     6.9    Bien   \n",
       "1            6.3                 6.2                     7.3    Bien   \n",
       "2            6.7                 7.7                     7.8    Bien   \n",
       "3            7.1                 6.8                     7.4    Bien   \n",
       "4            7.5                 7.5                     7.8    Bien   \n",
       "\n",
       "   Number_Evaluation  \n",
       "0                 72  \n",
       "1                353  \n",
       "2               2837  \n",
       "3               5904  \n",
       "4               8368  "
      ]
     },
     "execution_count": 33,
     "metadata": {},
     "output_type": "execute_result"
    }
   ],
   "source": [
    "kayak.head()"
   ]
  },
  {
   "cell_type": "markdown",
   "metadata": {
    "ExecuteTime": {
     "end_time": "2020-01-12T09:18:33.327910Z",
     "start_time": "2020-01-12T09:18:33.325761Z"
    },
    "heading_collapsed": true
   },
   "source": [
    "# Creation of all_data_month"
   ]
  },
  {
   "cell_type": "markdown",
   "metadata": {
    "hidden": true
   },
   "source": [
    "Change type of date in order to make a temporal analysies"
   ]
  },
  {
   "cell_type": "code",
   "execution_count": 38,
   "metadata": {
    "ExecuteTime": {
     "end_time": "2020-01-13T09:09:42.282595Z",
     "start_time": "2020-01-13T09:09:40.526574Z"
    },
    "hidden": true
   },
   "outputs": [
    {
     "name": "stderr",
     "output_type": "stream",
     "text": [
      "/home/ddm2018-1/anaconda3/lib/python3.7/site-packages/IPython/core/interactiveshell.py:2785: DtypeWarning: Columns (2,3,4,5,6,7,8,9,10,11,12,13,27,28,36,37,39,40,41) have mixed types. Specify dtype option on import or set low_memory=False.\n",
      "  interactivity=interactivity, compiler=compiler, result=result)\n"
     ]
    }
   ],
   "source": [
    "all_data = pd.read_csv(workpath+'ALL_DATA.csv', encoding='utf8',\n",
    "                       header=0, error_bad_lines=False, sep=',')"
   ]
  },
  {
   "cell_type": "code",
   "execution_count": 39,
   "metadata": {
    "ExecuteTime": {
     "end_time": "2020-01-13T09:09:44.544158Z",
     "start_time": "2020-01-13T09:09:44.515163Z"
    },
    "hidden": true
   },
   "outputs": [],
   "source": [
    "data = all_data.copy()"
   ]
  },
  {
   "cell_type": "code",
   "execution_count": 40,
   "metadata": {
    "ExecuteTime": {
     "end_time": "2020-01-13T09:09:45.836872Z",
     "start_time": "2020-01-13T09:09:45.752355Z"
    },
    "hidden": true
   },
   "outputs": [],
   "source": [
    "data = data.dropna(subset=['Date_Flown'])"
   ]
  },
  {
   "cell_type": "code",
   "execution_count": 41,
   "metadata": {
    "ExecuteTime": {
     "end_time": "2020-01-13T09:09:46.507374Z",
     "start_time": "2020-01-13T09:09:46.479061Z"
    },
    "hidden": true,
    "scrolled": true
   },
   "outputs": [
    {
     "data": {
      "text/html": [
       "<div>\n",
       "<style scoped>\n",
       "    .dataframe tbody tr th:only-of-type {\n",
       "        vertical-align: middle;\n",
       "    }\n",
       "\n",
       "    .dataframe tbody tr th {\n",
       "        vertical-align: top;\n",
       "    }\n",
       "\n",
       "    .dataframe thead th {\n",
       "        text-align: right;\n",
       "    }\n",
       "</style>\n",
       "<table border=\"1\" class=\"dataframe\">\n",
       "  <thead>\n",
       "    <tr style=\"text-align: right;\">\n",
       "      <th></th>\n",
       "      <th>Data_Source</th>\n",
       "      <th>Airline_Name</th>\n",
       "      <th>Airline_Type</th>\n",
       "      <th>Region_Operation</th>\n",
       "      <th>Aircraft_Type</th>\n",
       "      <th>Cabin_Class</th>\n",
       "      <th>Type_Of_Lounge</th>\n",
       "      <th>Type_Of_Traveller</th>\n",
       "      <th>Date_Visit</th>\n",
       "      <th>Date_Flown</th>\n",
       "      <th>...</th>\n",
       "      <th>Seat_Recline</th>\n",
       "      <th>Seat_Width</th>\n",
       "      <th>Washrooms</th>\n",
       "      <th>Value_For_Money</th>\n",
       "      <th>Overall_Customer_Rating</th>\n",
       "      <th>Overall_Service_Rating</th>\n",
       "      <th>Overall_Airline_Rating</th>\n",
       "      <th>Recommended</th>\n",
       "      <th>Date_Review</th>\n",
       "      <th>Review</th>\n",
       "    </tr>\n",
       "  </thead>\n",
       "  <tbody>\n",
       "    <tr>\n",
       "      <th>0</th>\n",
       "      <td>Airline Quality Airline</td>\n",
       "      <td>ab-aviation</td>\n",
       "      <td>NaN</td>\n",
       "      <td>NaN</td>\n",
       "      <td>E120</td>\n",
       "      <td>Economy Class</td>\n",
       "      <td>NaN</td>\n",
       "      <td>Solo Leisure</td>\n",
       "      <td>NaN</td>\n",
       "      <td>June 2019</td>\n",
       "      <td>...</td>\n",
       "      <td>NaN</td>\n",
       "      <td>NaN</td>\n",
       "      <td>NaN</td>\n",
       "      <td>2.0</td>\n",
       "      <td>1</td>\n",
       "      <td>NaN</td>\n",
       "      <td>NaN</td>\n",
       "      <td>no</td>\n",
       "      <td>25th June 2019</td>\n",
       "      <td>✅ Trip Verified | Moroni to Anjouan. It is a v...</td>\n",
       "    </tr>\n",
       "    <tr>\n",
       "      <th>1</th>\n",
       "      <td>Airline Quality Airline</td>\n",
       "      <td>ab-aviation</td>\n",
       "      <td>NaN</td>\n",
       "      <td>NaN</td>\n",
       "      <td>Embraer E120</td>\n",
       "      <td>Economy Class</td>\n",
       "      <td>NaN</td>\n",
       "      <td>Solo Leisure</td>\n",
       "      <td>NaN</td>\n",
       "      <td>June 2019</td>\n",
       "      <td>...</td>\n",
       "      <td>NaN</td>\n",
       "      <td>NaN</td>\n",
       "      <td>NaN</td>\n",
       "      <td>2.0</td>\n",
       "      <td>1</td>\n",
       "      <td>NaN</td>\n",
       "      <td>NaN</td>\n",
       "      <td>no</td>\n",
       "      <td>25th June 2019</td>\n",
       "      <td>✅ Trip Verified |  Anjouan to Dzaoudzi. A very...</td>\n",
       "    </tr>\n",
       "    <tr>\n",
       "      <th>2</th>\n",
       "      <td>Airline Quality Airline</td>\n",
       "      <td>adria-airways</td>\n",
       "      <td>NaN</td>\n",
       "      <td>NaN</td>\n",
       "      <td>NaN</td>\n",
       "      <td>Economy Class</td>\n",
       "      <td>NaN</td>\n",
       "      <td>Solo Leisure</td>\n",
       "      <td>NaN</td>\n",
       "      <td>September 2019</td>\n",
       "      <td>...</td>\n",
       "      <td>NaN</td>\n",
       "      <td>NaN</td>\n",
       "      <td>NaN</td>\n",
       "      <td>1.0</td>\n",
       "      <td>1</td>\n",
       "      <td>NaN</td>\n",
       "      <td>NaN</td>\n",
       "      <td>no</td>\n",
       "      <td>28th September 2019</td>\n",
       "      <td>Not Verified |  Please do a favor yourself and...</td>\n",
       "    </tr>\n",
       "    <tr>\n",
       "      <th>3</th>\n",
       "      <td>Airline Quality Airline</td>\n",
       "      <td>adria-airways</td>\n",
       "      <td>NaN</td>\n",
       "      <td>NaN</td>\n",
       "      <td>NaN</td>\n",
       "      <td>Economy Class</td>\n",
       "      <td>NaN</td>\n",
       "      <td>Couple Leisure</td>\n",
       "      <td>NaN</td>\n",
       "      <td>September 2019</td>\n",
       "      <td>...</td>\n",
       "      <td>NaN</td>\n",
       "      <td>NaN</td>\n",
       "      <td>NaN</td>\n",
       "      <td>1.0</td>\n",
       "      <td>1</td>\n",
       "      <td>NaN</td>\n",
       "      <td>NaN</td>\n",
       "      <td>no</td>\n",
       "      <td>24th September 2019</td>\n",
       "      <td>✅ Trip Verified | Do not book a flight with th...</td>\n",
       "    </tr>\n",
       "    <tr>\n",
       "      <th>4</th>\n",
       "      <td>Airline Quality Airline</td>\n",
       "      <td>adria-airways</td>\n",
       "      <td>NaN</td>\n",
       "      <td>NaN</td>\n",
       "      <td>CR 900</td>\n",
       "      <td>Economy Class</td>\n",
       "      <td>NaN</td>\n",
       "      <td>Couple Leisure</td>\n",
       "      <td>NaN</td>\n",
       "      <td>September 2019</td>\n",
       "      <td>...</td>\n",
       "      <td>NaN</td>\n",
       "      <td>NaN</td>\n",
       "      <td>NaN</td>\n",
       "      <td>1.0</td>\n",
       "      <td>1</td>\n",
       "      <td>NaN</td>\n",
       "      <td>NaN</td>\n",
       "      <td>no</td>\n",
       "      <td>17th September 2019</td>\n",
       "      <td>✅ Trip Verified |  Had very bad experience wit...</td>\n",
       "    </tr>\n",
       "  </tbody>\n",
       "</table>\n",
       "<p>5 rows × 42 columns</p>\n",
       "</div>"
      ],
      "text/plain": [
       "               Data_Source   Airline_Name Airline_Type Region_Operation  \\\n",
       "0  Airline Quality Airline    ab-aviation          NaN              NaN   \n",
       "1  Airline Quality Airline    ab-aviation          NaN              NaN   \n",
       "2  Airline Quality Airline  adria-airways          NaN              NaN   \n",
       "3  Airline Quality Airline  adria-airways          NaN              NaN   \n",
       "4  Airline Quality Airline  adria-airways          NaN              NaN   \n",
       "\n",
       "  Aircraft_Type    Cabin_Class Type_Of_Lounge Type_Of_Traveller Date_Visit  \\\n",
       "0          E120  Economy Class            NaN      Solo Leisure        NaN   \n",
       "1  Embraer E120  Economy Class            NaN      Solo Leisure        NaN   \n",
       "2           NaN  Economy Class            NaN      Solo Leisure        NaN   \n",
       "3           NaN  Economy Class            NaN    Couple Leisure        NaN   \n",
       "4        CR 900  Economy Class            NaN    Couple Leisure        NaN   \n",
       "\n",
       "       Date_Flown                        ...                          \\\n",
       "0       June 2019                        ...                           \n",
       "1       June 2019                        ...                           \n",
       "2  September 2019                        ...                           \n",
       "3  September 2019                        ...                           \n",
       "4  September 2019                        ...                           \n",
       "\n",
       "  Seat_Recline Seat_Width Washrooms Value_For_Money  Overall_Customer_Rating  \\\n",
       "0          NaN        NaN       NaN             2.0                        1   \n",
       "1          NaN        NaN       NaN             2.0                        1   \n",
       "2          NaN        NaN       NaN             1.0                        1   \n",
       "3          NaN        NaN       NaN             1.0                        1   \n",
       "4          NaN        NaN       NaN             1.0                        1   \n",
       "\n",
       "   Overall_Service_Rating  Overall_Airline_Rating  Recommended  \\\n",
       "0                     NaN                     NaN           no   \n",
       "1                     NaN                     NaN           no   \n",
       "2                     NaN                     NaN           no   \n",
       "3                     NaN                     NaN           no   \n",
       "4                     NaN                     NaN           no   \n",
       "\n",
       "           Date_Review                                             Review  \n",
       "0       25th June 2019  ✅ Trip Verified | Moroni to Anjouan. It is a v...  \n",
       "1       25th June 2019  ✅ Trip Verified |  Anjouan to Dzaoudzi. A very...  \n",
       "2  28th September 2019  Not Verified |  Please do a favor yourself and...  \n",
       "3  24th September 2019  ✅ Trip Verified | Do not book a flight with th...  \n",
       "4  17th September 2019  ✅ Trip Verified |  Had very bad experience wit...  \n",
       "\n",
       "[5 rows x 42 columns]"
      ]
     },
     "execution_count": 41,
     "metadata": {},
     "output_type": "execute_result"
    }
   ],
   "source": [
    "data.head()"
   ]
  },
  {
   "cell_type": "code",
   "execution_count": 42,
   "metadata": {
    "ExecuteTime": {
     "end_time": "2020-01-13T09:09:50.682207Z",
     "start_time": "2020-01-13T09:09:50.678037Z"
    },
    "hidden": true
   },
   "outputs": [
    {
     "data": {
      "text/plain": [
       "(60975, 42)"
      ]
     },
     "execution_count": 42,
     "metadata": {},
     "output_type": "execute_result"
    }
   ],
   "source": [
    "data.shape"
   ]
  },
  {
   "cell_type": "markdown",
   "metadata": {
    "hidden": true
   },
   "source": [
    "Function modfication type date"
   ]
  },
  {
   "cell_type": "code",
   "execution_count": 43,
   "metadata": {
    "ExecuteTime": {
     "end_time": "2020-01-13T09:09:52.378456Z",
     "start_time": "2020-01-13T09:09:52.363907Z"
    },
    "hidden": true
   },
   "outputs": [],
   "source": [
    "def format_date(date):\n",
    "    # Transform a string date into a standard format by trying each\n",
    "    # date format. If you want to add a format, add a try/except in the\n",
    "    # last except\n",
    "    # date : str : the date to transform\n",
    "    # return : m : timedata : format is YYYY-MM-DD HH:MM:SS\n",
    "\n",
    "    date_str = date\n",
    "    print(date_str)\n",
    "    try:\n",
    "        m = datetime.datetime.strptime(date_str, \"%B %Y\")\n",
    "    except:\n",
    "        #\n",
    "        date_str = date_str.replace(\"st\", \"\").replace(\"th\", \"\")\\\n",
    "            .replace(\"nd\", \"\").replace(\"rd\", \"\").replace(\" Augu \", \" Aug \")\n",
    "        m = None\n",
    "        try:\n",
    "            m = datetime.datetime.strptime(date_str, \"%d %B %Y\")\n",
    "        except ValueError:\n",
    "            try:\n",
    "                m = datetime.datetime.strptime(date_str, \"%d %b %Y\")\n",
    "            except ValueError:\n",
    "                try:\n",
    "                    m = datetime.datetime.strptime(date_str, \"%Y/%m/%d\")\n",
    "                except ValueError:\n",
    "                    try:\n",
    "                        m = datetime.datetime\\\n",
    "                            .strptime(date_str, \"%d/%m/%Y %H:%M:%S\")\n",
    "                    except ValueError:\n",
    "                        try:\n",
    "                            m = datetime.datetime\\\n",
    "                                .strptime(date_str, \"%Y-%m-%d %H:%M:%S\")\n",
    "                        except ValueError:\n",
    "                            try:\n",
    "                                m = datetime.datetime\\\n",
    "                                    .strptime(date_str, \"%B %Y\")\n",
    "                            except ValueError:\n",
    "                                try:\n",
    "                                    m = datetime.datetime.strptime(date_str,\n",
    "                                                                   \"%d %m %Y\")\n",
    "                                except ValueError:\n",
    "                                    # HERE ADD A FORMAT TO CHECK\n",
    "                                    print(\"Format not recognised. \\nConsider \"\n",
    "                                          \"adding a date format \"\n",
    "                                          \"in the function \\\"format_date\\\".\")\n",
    "                                    return date\n",
    "\n",
    "    return m"
   ]
  },
  {
   "cell_type": "code",
   "execution_count": null,
   "metadata": {
    "hidden": true
   },
   "outputs": [],
   "source": [
    "for i in range(0, len(data)):\n",
    "    data['Date_Flown'].iloc[i] = format_date(\n",
    "        data['Date_Flown'].iloc[i])"
   ]
  },
  {
   "cell_type": "code",
   "execution_count": null,
   "metadata": {
    "hidden": true
   },
   "outputs": [],
   "source": [
    "data.to_excel(workpath+'all_data_month.xlsx')"
   ]
  }
 ],
 "metadata": {
  "kernelspec": {
   "display_name": "Python 3",
   "language": "python",
   "name": "python3"
  },
  "language_info": {
   "codemirror_mode": {
    "name": "ipython",
    "version": 3
   },
   "file_extension": ".py",
   "mimetype": "text/x-python",
   "name": "python",
   "nbconvert_exporter": "python",
   "pygments_lexer": "ipython3",
   "version": "3.7.0"
  },
  "toc": {
   "base_numbering": 1,
   "nav_menu": {},
   "number_sections": true,
   "sideBar": true,
   "skip_h1_title": false,
   "title_cell": "Table of Contents",
   "title_sidebar": "Contents",
   "toc_cell": true,
   "toc_position": {},
   "toc_section_display": true,
   "toc_window_display": true
  },
  "varInspector": {
   "cols": {
    "lenName": 16,
    "lenType": 16,
    "lenVar": 40
   },
   "kernels_config": {
    "python": {
     "delete_cmd_postfix": "",
     "delete_cmd_prefix": "del ",
     "library": "var_list.py",
     "varRefreshCmd": "print(var_dic_list())"
    },
    "r": {
     "delete_cmd_postfix": ") ",
     "delete_cmd_prefix": "rm(",
     "library": "var_list.r",
     "varRefreshCmd": "cat(var_dic_list()) "
    }
   },
   "types_to_exclude": [
    "module",
    "function",
    "builtin_function_or_method",
    "instance",
    "_Feature"
   ],
   "window_display": false
  }
 },
 "nbformat": 4,
 "nbformat_minor": 2
}
